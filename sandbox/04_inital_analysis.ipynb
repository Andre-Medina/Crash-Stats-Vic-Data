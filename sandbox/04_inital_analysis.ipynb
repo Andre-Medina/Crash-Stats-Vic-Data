{
 "cells": [
  {
   "cell_type": "code",
   "execution_count": null,
   "metadata": {},
   "outputs": [],
   "source": [
    "import pandas as pd\n",
    "import numpy as np\n",
    "import plotly.express as px\n",
    "import sys\n",
    "import datetime\n",
    "import math\n",
    "\n",
    "ROOT_DIR = '../'\n",
    "sys.path.insert(1, '../production_code/')\n",
    "from constants import *"
   ]
  },
  {
   "cell_type": "code",
   "execution_count": null,
   "metadata": {},
   "outputs": [],
   "source": [
    "df = pd.read_csv(ROOT_DIR + ROUGHLY_CLEANED_DATA_DIR)\n",
    "\n",
    "print(df.shape)\n",
    "df.head(3)"
   ]
  },
  {
   "cell_type": "code",
   "execution_count": null,
   "metadata": {},
   "outputs": [],
   "source": [
    "df.loc[:,'date'] = pd.to_datetime(df.loc[:,'date'])\n",
    "\n",
    "# adding pure date stamp\n",
    "df.loc[:,'date_stamp'] =  pd.to_datetime(df.loc[:,'date'].dt.date)\n",
    "\n",
    "# turns day of week into a string\n",
    "day_dict = {0: \"Monday\", 1: \"Tuesday\", 2: \"Wednesday\", 3: \"Thursday\", 4: \"Friday\", 5: \"Saturday\", 6: \"Sunday\"}\n",
    "df.loc[:,'day'] = df.loc[:,'day'].map(day_dict)\n",
    "\n",
    "# same for hour bin\n",
    "hour_bin_dict = {0: 'Night', 1: 'Morning', 2:'Afternoon',3:'Evening'}\n",
    "df.loc[:,'hour_bin'] = df.loc[:,'hour_bin'].map(hour_bin_dict)\n",
    "\n",
    "df[['day','hour_bin']].head(3)"
   ]
  },
  {
   "attachments": {},
   "cell_type": "markdown",
   "metadata": {},
   "source": [
    "# checking correlations"
   ]
  },
  {
   "cell_type": "code",
   "execution_count": null,
   "metadata": {},
   "outputs": [],
   "source": [
    "\n",
    "# calculate the correlation matrix\n",
    "corr = abs(df[[\"dry\", \"clear\", \"fog\", \"raining\", \"strong winds\"]].corr(method = 'pearson'))\n",
    "# create a heatmap\n",
    "fig = px.imshow(corr, x=corr.columns, y=corr.columns, \n",
    "                title='Correlation matrix of weather variables',\n",
    "                labels=dict(color='Correlation coefficient'))\n",
    "# add annotations\n",
    "fig.update_traces(hoverinfo='text', text=corr.values, texttemplate='%{text:.2f}')\n",
    "# show the figure\n",
    "fig.show()"
   ]
  },
  {
   "cell_type": "code",
   "execution_count": null,
   "metadata": {},
   "outputs": [],
   "source": [
    "# converting clear to catergorical\n"
   ]
  },
  {
   "cell_type": "code",
   "execution_count": null,
   "metadata": {},
   "outputs": [],
   "source": [
    "# create a histogram of all the columns\n",
    "\n",
    "\n",
    "fig = px.histogram(\n",
    "    df\\\n",
    "    .melt(\n",
    "        id_vars = 'ACCIDENT_NO', \n",
    "        value_vars= ['dry', 'clear', 'fog', 'raining', 'strong winds']\n",
    "        )\\\n",
    "    .query('value == 1')['variable'])\n",
    "fig.show()"
   ]
  },
  {
   "cell_type": "code",
   "execution_count": null,
   "metadata": {},
   "outputs": [],
   "source": [
    "\n",
    "fig = px.histogram(\n",
    "    df\\\n",
    "    .loc[:,'hour_bin'],\n",
    "    labels={\n",
    "            \"variable\": \"Count of accidents\",\n",
    "            \"value\": \"Part of Day\"\n",
    "        }, \n",
    "    title = \"Crash Distribution by Part of Day\",\n",
    "    category_orders={\n",
    "            \"value\": list(hour_bin_dict.values())\n",
    "        }\n",
    ")\n",
    "fig.update_layout(yaxis_title = 'Count of Accidents')\n",
    "fig.update_layout(showlegend=False)\n",
    "fig.show()"
   ]
  },
  {
   "cell_type": "code",
   "execution_count": null,
   "metadata": {},
   "outputs": [],
   "source": [
    "fig = px.histogram(\n",
    "    df\\\n",
    "        .loc[:,'day'],\n",
    "    labels={\n",
    "            \"day\": \"Count of accidents\",\n",
    "            \"value\": \"Day of week\"\n",
    "        }, \n",
    "    title = \"Crash Distribution by Day\",\n",
    "    category_orders={\n",
    "            \"value\": list(day_dict.values())\n",
    "        }\n",
    ")\n",
    "fig.update_layout(yaxis_title = 'Count of Accidents')\n",
    "fig.update_layout(showlegend=False)\n",
    "fig.show()"
   ]
  },
  {
   "cell_type": "code",
   "execution_count": null,
   "metadata": {},
   "outputs": [],
   "source": [
    "corr.max()\n",
    "corr "
   ]
  },
  {
   "cell_type": "code",
   "execution_count": null,
   "metadata": {},
   "outputs": [],
   "source": [
    "corr =   df\\\n",
    "    .loc[:,['day','hour_bin','police_needed']]\\\n",
    "    .pivot_table(index = 'day', columns= ['hour_bin'], values = 'police_needed', aggfunc = 'count')\n",
    "\n",
    "corr = (corr / corr.max()).T\n",
    "    \n",
    "\n",
    "# create a heatmap\n",
    "fig = px.imshow(\n",
    "    corr, \n",
    "    x=list(day_dict.values()), \n",
    "    y=list(hour_bin_dict.values()), \n",
    "    labels={\n",
    "            \"x\": \"Day of the Week\",\n",
    "            \"y\": \"Time of Day\",\n",
    "            \"color\": \"Relative Crashes per Time of Day\"\n",
    "        }, \n",
    "    title=\"Crash Distribution by Time\"\n",
    "    )\n",
    "    \n",
    "# add annotations\n",
    "fig.update_traces(hoverinfo='text', text=corr.values, texttemplate='%{text:.2f}')\n",
    "# show the figure\n",
    "fig.show()"
   ]
  },
  {
   "cell_type": "code",
   "execution_count": null,
   "metadata": {},
   "outputs": [],
   "source": [
    "# adding sky condition\n",
    "df.loc[:,'sky'] = df.loc[:,'clear'].apply(lambda clear: 'Clear' if clear else 'Not clear')\n",
    "\n",
    "\n",
    "\n",
    "fig = px.histogram(\n",
    "    df\\\n",
    "        .loc[:,'sky'],\n",
    "    labels={\n",
    "            \"day\": \"Count of accidents\",\n",
    "            \"value\": \"Clear skys\"\n",
    "        }, \n",
    "    title = \"Crash Distribution by Day\",\n",
    "    category_orders={\n",
    "            \"value\": ['Clear','Not clear']\n",
    "        }\n",
    ")\n",
    "fig.update_layout(yaxis_title = 'Count of Accidents')\n",
    "fig.update_layout(showlegend=False)\n",
    "fig.show()"
   ]
  },
  {
   "cell_type": "code",
   "execution_count": null,
   "metadata": {},
   "outputs": [],
   "source": [
    "\n",
    "\n",
    "fig = px.line(\n",
    "    pd\\\n",
    "        .concat(\n",
    "            [\n",
    "                df.groupby('date_stamp')['police_needed','ambulance_needed'].sum(), \n",
    "                df.groupby('date_stamp')['ACCIDENT_NO'].count()\n",
    "            ]\n",
    "            ,axis = 1)\\\n",
    "        .resample('W')\\\n",
    "        .sum()\\\n",
    "        .reset_index()\\\n",
    "        .rename(\n",
    "            columns = {\n",
    "                'police_needed':'Police',\n",
    "                'ambulance_needed':'Ambulance'\n",
    "            }\n",
    "        ), \n",
    "    x=\"date_stamp\", \n",
    "    y=[\"Police\", \"Ambulance\"],#\"ACCIDENT_NO\"], \n",
    "    color_discrete_map={\n",
    "        \"Police\": \"blue\",\n",
    "        \"Ambulance\": \"red\",\n",
    "        \"ACCIDENT_NO\": \"green\"\n",
    "    },\n",
    "    labels={\n",
    "            \"value\": \"Count of Accidents in Need\",\n",
    "            \"date_stamp\": \"Time\",\n",
    "            \"variable\": \"Type of service\"\n",
    "        }, \n",
    "    title = \"Emergency Service Demand vs time, week by week\",\n",
    "    )\n",
    "fig.show()"
   ]
  },
  {
   "cell_type": "code",
   "execution_count": null,
   "metadata": {},
   "outputs": [],
   "source": [
    "\n",
    "df[['ACCIDENT_NO','date','day','hour_bin','region','lga','sky','police_needed', 'ambulance_needed']].to_csv(ROOT_DIR + FULLY_CLEANED_DATA_DIR)"
   ]
  }
 ],
 "metadata": {
  "kernelspec": {
   "display_name": "Python 3",
   "language": "python",
   "name": "python3"
  },
  "language_info": {
   "codemirror_mode": {
    "name": "ipython",
    "version": 3
   },
   "file_extension": ".py",
   "mimetype": "text/x-python",
   "name": "python",
   "nbconvert_exporter": "python",
   "pygments_lexer": "ipython3",
   "version": "3.9.13"
  },
  "orig_nbformat": 4
 },
 "nbformat": 4,
 "nbformat_minor": 2
}
