{
 "cells": [
  {
   "cell_type": "code",
   "execution_count": null,
   "metadata": {},
   "outputs": [],
   "source": []
  },
  {
   "cell_type": "code",
   "execution_count": 1,
   "metadata": {},
   "outputs": [],
   "source": [
    "import pandas as pd\n",
    "import numpy as np\n",
    "import plotly.express as px\n",
    "import sys\n",
    "\n",
    "ROOT_DIR = '../'\n",
    "sys.path.insert(1, '../production_code/')\n",
    "from constants import *"
   ]
  },
  {
   "cell_type": "code",
   "execution_count": 2,
   "metadata": {},
   "outputs": [
    {
     "name": "stderr",
     "output_type": "stream",
     "text": [
      "C:\\Users\\andre\\AppData\\Local\\Packages\\PythonSoftwareFoundation.Python.3.9_qbz5n2kfra8p0\\LocalCache\\local-packages\\Python39\\site-packages\\IPython\\core\\interactiveshell.py:3441: DtypeWarning: Columns (10,13) have mixed types.Specify dtype option on import or set low_memory=False.\n",
      "  exec(code_obj, self.user_global_ns, self.user_ns)\n"
     ]
    }
   ],
   "source": [
    "\n",
    "accidents = pd.read_csv(ROOT_DIR + ACCIDENT_DATA_GENERAL_DIR)\n",
    "node = pd.read_csv(ROOT_DIR + ACCIDENT_DATA_NODE_DIR)"
   ]
  },
  {
   "cell_type": "code",
   "execution_count": 3,
   "metadata": {},
   "outputs": [
    {
     "data": {
      "text/plain": [
       "ACCIDENT_NO                         T20060002689\n",
       "NODE_ID                                       22\n",
       "NODE_TYPE                                      I\n",
       "VICGRID94_X                          2495701.925\n",
       "VICGRID94_Y                          2411599.135\n",
       "LGA_NAME                               MELBOURNE\n",
       "LGA_NAME_ALL                           MELBOURNE\n",
       "REGION_NAME       METROPOLITAN NORTH WEST REGION\n",
       "DEG_URBAN_NAME                        MELB_URBAN\n",
       "Lat                                   -37.796596\n",
       "Long                                  144.951197\n",
       "POSTCODE_NO                                 3051\n",
       "Name: 0, dtype: object"
      ]
     },
     "execution_count": 3,
     "metadata": {},
     "output_type": "execute_result"
    }
   ],
   "source": [
    "node.iloc[0]"
   ]
  },
  {
   "cell_type": "code",
   "execution_count": 4,
   "metadata": {},
   "outputs": [
    {
     "data": {
      "text/plain": [
       "ACCIDENT_NO                                               T20060000010\n",
       "ACCIDENTDATE                                                13/01/2006\n",
       "ACCIDENTTIME                            12:42:00                      \n",
       "ACCIDENT_TYPE                                                        1\n",
       "Accident Type Desc                              Collision with vehicle\n",
       "DAY_OF_WEEK                                                          6\n",
       "Day Week Description                                            Friday\n",
       "DCA_CODE                                                           113\n",
       "DCA Description         RIGHT NEAR (INTERSECTIONS ONLY)               \n",
       "DIRECTORY                                                          MEL\n",
       "EDITION                                                             40\n",
       "PAGE                                                               91A\n",
       "GRID_REFERENCE_X                                                     G\n",
       "GRID_REFERENCE_Y                                                     7\n",
       "LIGHT_CONDITION                                                      1\n",
       "Light Condition Desc                                               Day\n",
       "NODE_ID                                                          43078\n",
       "NO_OF_VEHICLES                                                       3\n",
       "NO_PERSONS                                                           6\n",
       "NO_PERSONS_INJ_2                                                     0\n",
       "NO_PERSONS_INJ_3                                                     1\n",
       "NO_PERSONS_KILLED                                                    0\n",
       "NO_PERSONS_NOT_INJ                                                   5\n",
       "POLICE_ATTEND                                                        1\n",
       "ROAD_GEOMETRY                                                        1\n",
       "Road Geometry Desc                                  Cross intersection\n",
       "SEVERITY                                                             3\n",
       "SPEED_ZONE                                                          60\n",
       "Name: 0, dtype: object"
      ]
     },
     "execution_count": 4,
     "metadata": {},
     "output_type": "execute_result"
    }
   ],
   "source": [
    "accidents.iloc[0]"
   ]
  },
  {
   "cell_type": "code",
   "execution_count": 5,
   "metadata": {},
   "outputs": [],
   "source": [
    "accidents.loc[:,'ACCIDENTDATE'] = pd.to_datetime(accidents.loc[:,'ACCIDENTDATE'], format=\"%d/%m/%Y\")\n",
    "accidents.loc[:,'DAY_OF_WEEK'] = accidents.loc[:,'ACCIDENTDATE'].dt.day_of_week"
   ]
  },
  {
   "attachments": {},
   "cell_type": "markdown",
   "metadata": {},
   "source": [
    "# Comparing all the data stages\n",
    "\n",
    "by grouping and pivotting the data, any stage can be broken down into the total number of calls made each day, averaged over all days in a certain date range. The groupped by region.\n",
    "\n",
    "This way we can make sure the average number of emergency calls made in each region per day, stays constant accross all dates, as it should"
   ]
  },
  {
   "cell_type": "code",
   "execution_count": null,
   "metadata": {},
   "outputs": [],
   "source": []
  },
  {
   "attachments": {},
   "cell_type": "markdown",
   "metadata": {},
   "source": [
    "# Comparing Original"
   ]
  },
  {
   "cell_type": "code",
   "execution_count": 6,
   "metadata": {},
   "outputs": [
    {
     "data": {
      "text/plain": [
       "REGION_NAME\n",
       "                                   0.711111\n",
       "EASTERN REGION                     1.898903\n",
       "METROPOLITAN NORTH WEST REGION     9.724162\n",
       "METROPOLITAN SOUTH EAST REGION    10.585900\n",
       "NORTH EASTERN REGION               1.849175\n",
       "NORTHERN REGION                    1.885603\n",
       "SOUTH WESTERN REGION               2.420479\n",
       "WESTERN REGION                     1.827044\n",
       "Name: POLICE_ATTEND, dtype: float64"
      ]
     },
     "execution_count": 6,
     "metadata": {},
     "output_type": "execute_result"
    }
   ],
   "source": [
    "date_min = pd.to_datetime(TRAIN_SPLIT_MIN_DATE) #TRAIN_SPLIT_MIN_DATE\n",
    "date_max = pd.to_datetime(TEST_TRAIN_SPLIT_DATE) #TEST_SPLIT_MAX_DATE\n",
    "accidents.loc[:,'POLICE_ATTEND'] = accidents['POLICE_ATTEND'].apply(lambda x: 2 - x)\n",
    "\n",
    "accidents\\\n",
    "    .merge(node[['ACCIDENT_NO','REGION_NAME']].drop_duplicates(), how = 'inner')\\\n",
    "    .drop_duplicates(subset=['ACCIDENT_NO'])\\\n",
    "    .query('ACCIDENTDATE >= @date_min & ACCIDENTDATE < @date_max')\\\n",
    "    .pivot_table(    # sums the total number of police attended for each day, splitting by region\n",
    "         index = ['ACCIDENTDATE','REGION_NAME'],\n",
    "         values=['POLICE_ATTEND'],\n",
    "         aggfunc='sum'\n",
    "         )\\\n",
    "    .reset_index()\\\n",
    "    .groupby(['REGION_NAME'])['POLICE_ATTEND'].mean() \n",
    "    # .pivot_table(    # sums the total number of police attended for each day, splitting by region\n",
    "    #     index = ['ACCIDENTDATE'],\n",
    "    #     columns=['REGION_NAME'],\n",
    "    #     values=['POLICE_ATTEND'],\n",
    "    #     aggfunc='sum'\n",
    "    #     )\\\n",
    "    # .sort_index(ascending=False)\\\n",
    "    # .head(60)\\\n",
    "    # .mean()"
   ]
  },
  {
   "attachments": {},
   "cell_type": "markdown",
   "metadata": {},
   "source": [
    "# Original with basic filtering"
   ]
  },
  {
   "cell_type": "code",
   "execution_count": 7,
   "metadata": {},
   "outputs": [
    {
     "data": {
      "text/plain": [
       "REGION_NAME\n",
       "                                   0.711111\n",
       "EASTERN REGION                     1.898039\n",
       "METROPOLITAN NORTH WEST REGION     9.726027\n",
       "METROPOLITAN SOUTH EAST REGION    10.591096\n",
       "NORTH EASTERN REGION               1.849057\n",
       "NORTHERN REGION                    1.885514\n",
       "SOUTH WESTERN REGION               2.419331\n",
       "WESTERN REGION                     1.827044\n",
       "Name: POLICE_ATTEND, dtype: float64"
      ]
     },
     "execution_count": 7,
     "metadata": {},
     "output_type": "execute_result"
    }
   ],
   "source": [
    "# accidents = accidents.dropna(subset=['ACCIDENTDATE'])\n",
    "# accidents = accidents.dropna(subset=['ACCIDENTTIME'])\n",
    "# accidents = accidents.query(\"LIGHT_CONDITION != 9\")\n",
    "accidents = accidents.query(\"POLICE_ATTEND != 9\")   # removing when unsure if police attened or not\n",
    "accidents = accidents[pd.to_datetime(accidents['ACCIDENTDATE']) > pd.to_datetime(EARLIEST_DATE)].reset_index(drop = True)\n",
    "\n",
    "accidents\\\n",
    "    .merge(node[['NODE_ID','REGION_NAME']]\\\n",
    "        .drop_duplicates(), how = 'inner')\\\n",
    "    .drop_duplicates(subset=['ACCIDENT_NO'])\\\n",
    "    .query('ACCIDENTDATE >= @date_min & ACCIDENTDATE < @date_max')\\\n",
    "    .pivot_table(    # sums the total number of police attended for each day, splitting by region\n",
    "         index = ['ACCIDENTDATE','REGION_NAME'],\n",
    "         values=['POLICE_ATTEND'],\n",
    "         aggfunc='sum'\n",
    "         )\\\n",
    "    .reset_index()\\\n",
    "    .groupby(['REGION_NAME'])['POLICE_ATTEND'].mean() \n"
   ]
  },
  {
   "attachments": {},
   "cell_type": "markdown",
   "metadata": {},
   "source": [
    "# roughly cleaned pre merge dat"
   ]
  },
  {
   "cell_type": "code",
   "execution_count": 8,
   "metadata": {},
   "outputs": [
    {
     "name": "stderr",
     "output_type": "stream",
     "text": [
      "C:\\Users\\andre\\AppData\\Local\\Packages\\PythonSoftwareFoundation.Python.3.9_qbz5n2kfra8p0\\LocalCache\\local-packages\\Python39\\site-packages\\pandas\\core\\ops\\array_ops.py:73: FutureWarning: Comparison of Timestamp with datetime.date is deprecated in order to match the standard library behavior.  In a future version these will be considered non-comparable.Use 'ts == pd.Timestamp(date)' or 'ts.date() == date' instead.\n",
      "  result = libops.scalar_compare(x.ravel(), y, op)\n"
     ]
    },
    {
     "data": {
      "text/plain": [
       "REGION_NAME\n",
       "                                   0.711111\n",
       "EASTERN REGION                     1.961508\n",
       "METROPOLITAN NORTH WEST REGION    10.191096\n",
       "METROPOLITAN SOUTH EAST REGION    10.878767\n",
       "NORTH EASTERN REGION               1.867034\n",
       "NORTHERN REGION                    1.936087\n",
       "SOUTH WESTERN REGION               2.502545\n",
       "WESTERN REGION                     1.854560\n",
       "Name: POLICE_ATTEND, dtype: float64"
      ]
     },
     "execution_count": 8,
     "metadata": {},
     "output_type": "execute_result"
    }
   ],
   "source": [
    "ROUGHLY_CLEANED_PRE_MERGE_DATA_DIR\n",
    "\n",
    "first_clean = pd.read_csv(ROOT_DIR + ROUGHLY_CLEANED_PRE_MERGE_DATA_DIR)\n",
    "first_clean.loc[:,'POLICE_ATTEND'] = first_clean['POLICE_ATTEND'].apply(lambda x: 2 - x)\n",
    "first_clean.loc[:,'date'] = pd.to_datetime(first_clean.loc[:,'date']).dt.date\n",
    "\n",
    "first_clean\\\n",
    "    .merge(node[['ACCIDENT_NO','REGION_NAME']]\\\n",
    "        .drop_duplicates(),  how = 'inner')\\\n",
    "    .query('date >= @date_min & date < @date_max')\\\n",
    "    .pivot_table(    # sums the total number of police attended for each day, splitting by region\n",
    "         index = ['date','REGION_NAME'],\n",
    "         values=['POLICE_ATTEND'],\n",
    "         aggfunc='sum'\n",
    "         )\\\n",
    "    .reset_index()\\\n",
    "    .groupby(['REGION_NAME'])['POLICE_ATTEND'].mean() "
   ]
  },
  {
   "cell_type": "code",
   "execution_count": 9,
   "metadata": {},
   "outputs": [
    {
     "name": "stdout",
     "output_type": "stream",
     "text": [
      "initial shape: (221797, 12)\n"
     ]
    },
    {
     "data": {
      "text/plain": [
       "region\n",
       "EASTERN REGION                     1.961508\n",
       "METROPOLITAN NORTH WEST REGION    10.191096\n",
       "METROPOLITAN SOUTH EAST REGION    10.878767\n",
       "NORTH EASTERN REGION               1.867034\n",
       "NORTHERN REGION                    1.936087\n",
       "SOUTH WESTERN REGION               2.502545\n",
       "WESTERN REGION                     1.854560\n",
       "Name: police_needed, dtype: float64"
      ]
     },
     "execution_count": 9,
     "metadata": {},
     "output_type": "execute_result"
    }
   ],
   "source": [
    "\n",
    "node = pd.read_csv(ROOT_DIR + ACCIDENT_DATA_NODE_DIR)\n",
    "first_clean = pd.read_csv(ROOT_DIR + ROUGHLY_CLEANED_PRE_MERGE_DATA_DIR)\n",
    "first_clean.loc[:,'date'] = pd.to_datetime(first_clean.loc[:,'date']).dt.date\n",
    "\n",
    "# only keeping instances with ids that exist\n",
    "print(\"initial shape: \" + str(node.shape))\n",
    "node = node[node['ACCIDENT_NO'].isin(accidents['ACCIDENT_NO'])]\n",
    "\n",
    "\n",
    "node = node.rename(columns = {\n",
    "    'REGION_NAME': 'region', \n",
    "    'LGA_NAME':'lga', \n",
    "    'NODE_ID':'node_id',\n",
    "    'Lat':'lat',\n",
    "    'Long':'long'\n",
    "    })\n",
    "node['region'] = node['region'].astype(str)\n",
    "node['lga'] = node['lga'].astype(str)\n",
    "node.loc[:,'lat'] = node.loc[:,'lat'].apply(pd.to_numeric)\n",
    "node.loc[:,'long'] = node.loc[:,'long'].apply(pd.to_numeric)\n",
    "\n",
    "# removing blank regions\n",
    "node = node.query('region != \" \"')\n",
    "\n",
    "accidents_of_interest = ['date']\n",
    "accidents_label_columns = ['police_needed']\n",
    "id_columns = ['ACCIDENT_NO']\n",
    "node_of_interest = ['node_id','lga','region','lat','long']\n",
    "\n",
    "\n",
    "first_clean.loc[:,'police_needed'] = first_clean['POLICE_ATTEND'].apply(lambda x: 2 - x)\n",
    "\n",
    "\n",
    "first_clean[id_columns + accidents_of_interest + accidents_label_columns].drop_duplicates()\\\n",
    "    .merge(\n",
    "        node[id_columns + node_of_interest].drop_duplicates(), \n",
    "        how='inner')\\\n",
    "    .query('date >= @date_min & date < @date_max')\\\n",
    "    .pivot_table(    # sums the total number of police attended for each day, splitting by region\n",
    "         index = ['date','region'],\n",
    "         values=['police_needed'],\n",
    "         aggfunc='sum'\n",
    "         )\\\n",
    "    .reset_index()\\\n",
    "    .groupby(['region'])['police_needed'].mean() \n",
    "        "
   ]
  },
  {
   "attachments": {},
   "cell_type": "markdown",
   "metadata": {},
   "source": [
    "# merge stages"
   ]
  },
  {
   "cell_type": "code",
   "execution_count": 10,
   "metadata": {},
   "outputs": [
    {
     "data": {
      "text/plain": [
       "region\n",
       "EASTERN REGION                     1.961508\n",
       "METROPOLITAN NORTH WEST REGION    10.191096\n",
       "METROPOLITAN SOUTH EAST REGION    10.878767\n",
       "NORTH EASTERN REGION               1.867034\n",
       "NORTHERN REGION                    1.936087\n",
       "SOUTH WESTERN REGION               2.502545\n",
       "WESTERN REGION                     1.854560\n",
       "Name: police_needed, dtype: float64"
      ]
     },
     "execution_count": 10,
     "metadata": {},
     "output_type": "execute_result"
    }
   ],
   "source": [
    "stage_1 = pd.read_csv( ROOT_DIR + ROUGHLY_CLEANED_MERGE_1_DATA_DIR)\n",
    "stage_1.loc[:,'date'] = pd.to_datetime(stage_1.loc[:,'date']).dt.date\n",
    "\n",
    "stage_1\\\n",
    "    .query('date >= @date_min & date < @date_max')\\\n",
    "    .pivot_table(    # sums the total number of police attended for each day, splitting by region\n",
    "         index = ['date','region'],\n",
    "         values=['police_needed'],\n",
    "         aggfunc='sum'\n",
    "         )\\\n",
    "    .reset_index()\\\n",
    "    .groupby(['region'])['police_needed'].mean() "
   ]
  },
  {
   "cell_type": "code",
   "execution_count": 11,
   "metadata": {},
   "outputs": [
    {
     "data": {
      "text/plain": [
       "region\n",
       "EASTERN REGION                     1.961508\n",
       "METROPOLITAN NORTH WEST REGION    10.191096\n",
       "METROPOLITAN SOUTH EAST REGION    10.878767\n",
       "NORTH EASTERN REGION               1.867034\n",
       "NORTHERN REGION                    1.936087\n",
       "SOUTH WESTERN REGION               2.502545\n",
       "WESTERN REGION                     1.854560\n",
       "Name: police_needed, dtype: float64"
      ]
     },
     "execution_count": 11,
     "metadata": {},
     "output_type": "execute_result"
    }
   ],
   "source": [
    "stage_2 = pd.read_csv( ROOT_DIR + ROUGHLY_CLEANED_MERGE_2_DATA_DIR)\n",
    "stage_2.loc[:,'date'] = pd.to_datetime(stage_2.loc[:,'date']).dt.date\n",
    "\n",
    "stage_2\\\n",
    "    .query('date >= @date_min & date < @date_max')\\\n",
    "    .pivot_table(    # sums the total number of police attended for each day, splitting by region\n",
    "         index = ['date','region'],\n",
    "         values=['police_needed'],\n",
    "         aggfunc='sum'\n",
    "         )\\\n",
    "    .reset_index()\\\n",
    "    .groupby(['region'])['police_needed'].mean() "
   ]
  },
  {
   "cell_type": "code",
   "execution_count": 12,
   "metadata": {},
   "outputs": [
    {
     "data": {
      "text/plain": [
       "region\n",
       "EASTERN REGION                     1.961508\n",
       "METROPOLITAN NORTH WEST REGION    10.191096\n",
       "METROPOLITAN SOUTH EAST REGION    10.878767\n",
       "NORTH EASTERN REGION               1.867034\n",
       "NORTHERN REGION                    1.936087\n",
       "SOUTH WESTERN REGION               2.502545\n",
       "WESTERN REGION                     1.854560\n",
       "Name: police_needed, dtype: float64"
      ]
     },
     "execution_count": 12,
     "metadata": {},
     "output_type": "execute_result"
    }
   ],
   "source": [
    "stage_3 = pd.read_csv( ROOT_DIR + ROUGHLY_CLEANED_MERGE_2_DATA_DIR)\n",
    "stage_3.loc[:,'date'] = pd.to_datetime(stage_3.loc[:,'date']).dt.date\n",
    "\n",
    "stage_3\\\n",
    "    .query('date >= @date_min & date < @date_max')\\\n",
    "    .pivot_table(    # sums the total number of police attended for each day, splitting by region\n",
    "         index = ['date','region'],\n",
    "         values=['police_needed'],\n",
    "         aggfunc='sum'\n",
    "         )\\\n",
    "    .reset_index()\\\n",
    "    .groupby(['region'])['police_needed'].mean() "
   ]
  },
  {
   "attachments": {},
   "cell_type": "markdown",
   "metadata": {},
   "source": [
    "# comparing to initial clean"
   ]
  },
  {
   "cell_type": "code",
   "execution_count": 13,
   "metadata": {},
   "outputs": [
    {
     "data": {
      "text/plain": [
       "region\n",
       "EASTERN REGION                     1.970257\n",
       "METROPOLITAN NORTH WEST REGION     9.905479\n",
       "METROPOLITAN SOUTH EAST REGION    10.650685\n",
       "NORTH EASTERN REGION               1.869984\n",
       "NORTHERN REGION                    1.941693\n",
       "SOUTH WESTERN REGION               2.483776\n",
       "WESTERN REGION                     1.863489\n",
       "Name: police_needed, dtype: float64"
      ]
     },
     "execution_count": 13,
     "metadata": {},
     "output_type": "execute_result"
    }
   ],
   "source": [
    "first_clean = pd.read_csv(ROOT_DIR + ROUGHLY_CLEANED_DATA_DIR)\n",
    "first_clean.loc[:,'date'] = pd.to_datetime(first_clean.loc[:,'date']).dt.date\n",
    "\n",
    "first_clean\\\n",
    "    .query('date >= @date_min & date < @date_max')\\\n",
    "    .pivot_table(    # sums the total number of police attended for each day, splitting by region\n",
    "         index = ['date','region'],\n",
    "         values=['police_needed'],\n",
    "         aggfunc='sum'\n",
    "         )\\\n",
    "    .reset_index()\\\n",
    "    .groupby(['region'])['police_needed'].mean() "
   ]
  },
  {
   "attachments": {},
   "cell_type": "markdown",
   "metadata": {},
   "source": [
    "# comparing to further clean"
   ]
  },
  {
   "cell_type": "code",
   "execution_count": 14,
   "metadata": {},
   "outputs": [
    {
     "data": {
      "text/plain": [
       "region\n",
       "EASTERN REGION                     2.005632\n",
       "METROPOLITAN NORTH WEST REGION    10.073973\n",
       "METROPOLITAN SOUTH EAST REGION    10.815753\n",
       "NORTH EASTERN REGION               1.902967\n",
       "NORTHERN REGION                    1.986378\n",
       "SOUTH WESTERN REGION               2.514349\n",
       "WESTERN REGION                     1.882970\n",
       "Name: police_needed, dtype: float64"
      ]
     },
     "execution_count": 14,
     "metadata": {},
     "output_type": "execute_result"
    }
   ],
   "source": [
    "second_clean = pd.read_csv(ROOT_DIR + FULLY_CLEANED_DATA_DIR)\n",
    "second_clean.loc[:,'date'] = pd.to_datetime(first_clean.loc[:,'date']).dt.date\n",
    "\n",
    "second_clean\\\n",
    "    .query('date >= @date_min & date < @date_max')\\\n",
    "    .pivot_table(    # sums the total number of police attended for each day, splitting by region\n",
    "         index = ['date','region'],\n",
    "         values=['police_needed'],\n",
    "         aggfunc='sum'\n",
    "         )\\\n",
    "    .reset_index()\\\n",
    "    .groupby(['region'])['police_needed'].mean() "
   ]
  },
  {
   "attachments": {},
   "cell_type": "markdown",
   "metadata": {},
   "source": [
    "# comparing to previotted"
   ]
  },
  {
   "cell_type": "code",
   "execution_count": 15,
   "metadata": {},
   "outputs": [
    {
     "data": {
      "text/plain": [
       "region\n",
       "EASTERN REGION                     1.971706\n",
       "METROPOLITAN NORTH WEST REGION     9.850000\n",
       "METROPOLITAN SOUTH EAST REGION    10.592466\n",
       "NORTH EASTERN REGION               1.864952\n",
       "NORTHERN REGION                    1.947030\n",
       "SOUTH WESTERN REGION               2.466421\n",
       "WESTERN REGION                     1.861201\n",
       "Name: police_needed, dtype: float64"
      ]
     },
     "execution_count": 15,
     "metadata": {},
     "output_type": "execute_result"
    }
   ],
   "source": [
    "pre_pivot = pd.read_csv(ROOT_DIR + PREPIVOT_TRAIN_TEST_DATA_DIR)\n",
    "pre_pivot.loc[:,'date'] = pd.to_datetime(pre_pivot.loc[:,'date']).dt.date\n",
    "\n",
    "pre_pivot\\\n",
    "    .query('date >= @date_min & date < @date_max')\\\n",
    "    .pivot_table(    # sums the total number of police attended for each day, splitting by region\n",
    "         index = ['date','region'],\n",
    "         values=['police_needed'],\n",
    "         aggfunc='sum'\n",
    "         )\\\n",
    "    .reset_index()\\\n",
    "    .groupby(['region'])['police_needed'].mean() "
   ]
  },
  {
   "attachments": {},
   "cell_type": "markdown",
   "metadata": {},
   "source": [
    "## pre pivotted with scaled police"
   ]
  },
  {
   "cell_type": "code",
   "execution_count": 16,
   "metadata": {},
   "outputs": [
    {
     "data": {
      "text/plain": [
       "region\n",
       "EASTERN REGION                     3.620674\n",
       "METROPOLITAN NORTH WEST REGION    12.973935\n",
       "METROPOLITAN SOUTH EAST REGION    14.244139\n",
       "NORTH EASTERN REGION               3.005337\n",
       "NORTHERN REGION                    3.291925\n",
       "SOUTH WESTERN REGION               3.886423\n",
       "WESTERN REGION                     3.106387\n",
       "Name: scaled_police, dtype: float64"
      ]
     },
     "execution_count": 16,
     "metadata": {},
     "output_type": "execute_result"
    }
   ],
   "source": [
    "pre_pivot\\\n",
    "    .query('date >= @date_min & date < @date_max')\\\n",
    "    .pivot_table(    # sums the total number of police attended for each day, splitting by region\n",
    "         index = ['region','sky','date'],\n",
    "         values=['scaled_police'],\n",
    "         aggfunc='sum'\n",
    "         )\\\n",
    "    .reset_index()\\\n",
    "    .pivot_table(    # sums the total number of police attended for each day, splitting by region\n",
    "         index = ['region','date'],\n",
    "         values=['scaled_police'],\n",
    "         aggfunc='mean'\n",
    "         )\\\n",
    "    .reset_index()\\\n",
    "    .groupby(['region'])['scaled_police'].mean()"
   ]
  },
  {
   "attachments": {},
   "cell_type": "markdown",
   "metadata": {},
   "source": [
    "# comparing to final data"
   ]
  },
  {
   "cell_type": "code",
   "execution_count": 17,
   "metadata": {},
   "outputs": [
    {
     "data": {
      "text/plain": [
       "Region\n",
       "EASTERN REGION                     1.994434\n",
       "METROPOLITAN NORTH WEST REGION     9.447852\n",
       "METROPOLITAN SOUTH EAST REGION    10.866339\n",
       "NORTH EASTERN REGION               1.588027\n",
       "NORTHERN REGION                    1.752009\n",
       "SOUTH WESTERN REGION               2.412639\n",
       "WESTERN REGION                     1.631280\n",
       "Name: Police, dtype: float64"
      ]
     },
     "execution_count": 17,
     "metadata": {},
     "output_type": "execute_result"
    }
   ],
   "source": [
    "file = REGION_TESTING_DATA_DIR\n",
    "file = REGION_TRAINING_DATA_DIR\n",
    "\n",
    "test_data = pd.read_csv(ROOT_DIR + file)\n",
    "test_data\\\n",
    "    .pivot_table(      # averaging rainging or not\n",
    "        index = ['Region','Part of Day','Day of the Week'],\n",
    "        values=['Police'],\n",
    "        aggfunc='mean'\n",
    "    )\\\n",
    "    .reset_index()\\\n",
    "    .pivot_table(      # adding together parts of day\n",
    "        index = ['Region','Day of the Week'],\n",
    "        values=['Police'],\n",
    "        aggfunc='sum'\n",
    "    )\\\n",
    "    .reset_index()\\\n",
    "    .groupby(['Region'])['Police'].mean()\n",
    "# averaging each day of the week\n",
    "\n",
    "# test_data"
   ]
  }
 ],
 "metadata": {
  "kernelspec": {
   "display_name": "Python 3",
   "language": "python",
   "name": "python3"
  },
  "language_info": {
   "codemirror_mode": {
    "name": "ipython",
    "version": 3
   },
   "file_extension": ".py",
   "mimetype": "text/x-python",
   "name": "python",
   "nbconvert_exporter": "python",
   "pygments_lexer": "ipython3",
   "version": "3.9.13"
  },
  "orig_nbformat": 4
 },
 "nbformat": 4,
 "nbformat_minor": 2
}
