{
 "cells": [
  {
   "cell_type": "code",
   "execution_count": 1,
   "metadata": {},
   "outputs": [],
   "source": [
    "import pandas as pd\n",
    "import numpy as np\n",
    "import plotly.express as px\n",
    "import sys\n",
    "import datetime\n",
    "import math\n",
    "\n",
    "ROOT_DIR = '../'\n",
    "sys.path.insert(1, '../production_code/')\n",
    "from constants import *"
   ]
  },
  {
   "cell_type": "code",
   "execution_count": 2,
   "metadata": {},
   "outputs": [
    {
     "name": "stdout",
     "output_type": "stream",
     "text": [
      "(68903, 11)\n"
     ]
    },
    {
     "data": {
      "text/html": [
       "<div>\n",
       "<style scoped>\n",
       "    .dataframe tbody tr th:only-of-type {\n",
       "        vertical-align: middle;\n",
       "    }\n",
       "\n",
       "    .dataframe tbody tr th {\n",
       "        vertical-align: top;\n",
       "    }\n",
       "\n",
       "    .dataframe thead th {\n",
       "        text-align: right;\n",
       "    }\n",
       "</style>\n",
       "<table border=\"1\" class=\"dataframe\">\n",
       "  <thead>\n",
       "    <tr style=\"text-align: right;\">\n",
       "      <th></th>\n",
       "      <th>Unnamed: 0</th>\n",
       "      <th>ACCIDENT_NO</th>\n",
       "      <th>date</th>\n",
       "      <th>day</th>\n",
       "      <th>hour_bin</th>\n",
       "      <th>region</th>\n",
       "      <th>lga</th>\n",
       "      <th>sky</th>\n",
       "      <th>police_needed</th>\n",
       "      <th>ambulance_needed</th>\n",
       "      <th>date_stamp</th>\n",
       "    </tr>\n",
       "  </thead>\n",
       "  <tbody>\n",
       "    <tr>\n",
       "      <th>0</th>\n",
       "      <td>0</td>\n",
       "      <td>T20150000056</td>\n",
       "      <td>2015-02-01 03:00:00</td>\n",
       "      <td>Sunday</td>\n",
       "      <td>Night</td>\n",
       "      <td>EASTERN REGION</td>\n",
       "      <td>BAW BAW</td>\n",
       "      <td>Clear</td>\n",
       "      <td>1</td>\n",
       "      <td>True</td>\n",
       "      <td>2015-02-01</td>\n",
       "    </tr>\n",
       "    <tr>\n",
       "      <th>1</th>\n",
       "      <td>1</td>\n",
       "      <td>T20150000060</td>\n",
       "      <td>2015-02-01 07:30:00</td>\n",
       "      <td>Sunday</td>\n",
       "      <td>Morning</td>\n",
       "      <td>WESTERN REGION</td>\n",
       "      <td>HEPBURN</td>\n",
       "      <td>Clear</td>\n",
       "      <td>1</td>\n",
       "      <td>True</td>\n",
       "      <td>2015-02-01</td>\n",
       "    </tr>\n",
       "    <tr>\n",
       "      <th>2</th>\n",
       "      <td>2</td>\n",
       "      <td>T20150000063</td>\n",
       "      <td>2015-02-01 08:30:00</td>\n",
       "      <td>Sunday</td>\n",
       "      <td>Morning</td>\n",
       "      <td>SOUTH WESTERN REGION</td>\n",
       "      <td>SOUTHERN GRAMPIANS</td>\n",
       "      <td>Clear</td>\n",
       "      <td>1</td>\n",
       "      <td>True</td>\n",
       "      <td>2015-02-01</td>\n",
       "    </tr>\n",
       "  </tbody>\n",
       "</table>\n",
       "</div>"
      ],
      "text/plain": [
       "   Unnamed: 0   ACCIDENT_NO                date     day hour_bin  \\\n",
       "0           0  T20150000056 2015-02-01 03:00:00  Sunday    Night   \n",
       "1           1  T20150000060 2015-02-01 07:30:00  Sunday  Morning   \n",
       "2           2  T20150000063 2015-02-01 08:30:00  Sunday  Morning   \n",
       "\n",
       "                 region                 lga    sky  police_needed  \\\n",
       "0        EASTERN REGION             BAW BAW  Clear              1   \n",
       "1        WESTERN REGION             HEPBURN  Clear              1   \n",
       "2  SOUTH WESTERN REGION  SOUTHERN GRAMPIANS  Clear              1   \n",
       "\n",
       "   ambulance_needed date_stamp  \n",
       "0              True 2015-02-01  \n",
       "1              True 2015-02-01  \n",
       "2              True 2015-02-01  "
      ]
     },
     "execution_count": 2,
     "metadata": {},
     "output_type": "execute_result"
    }
   ],
   "source": [
    "df = pd.read_csv(ROOT_DIR + FULLY_CLEANED_DATA_DIR)\n",
    "\n",
    "# fixing date type\n",
    "df.loc[:,'date'] = pd.to_datetime(df.loc[:,'date'])\n",
    "\n",
    "# adding pure date stamp\n",
    "df.loc[:,'date_stamp'] =  pd.to_datetime(df.loc[:,'date'].dt.date)\n",
    "\n",
    "\n",
    "day_dict = {0: \"Monday\", 1: \"Tuesday\", 2: \"Wednesday\", 3: \"Thursday\", 4: \"Friday\", 5: \"Saturday\", 6: \"Sunday\"}\n",
    "hour_bin_dict = {0: 'Night', 1: 'Morning', 2:'Afternoon',3:'Evening'}\n",
    "\n",
    "print(df.shape)\n",
    "df.head(3)\n"
   ]
  },
  {
   "attachments": {},
   "cell_type": "markdown",
   "metadata": {},
   "source": [
    "# Main Issues\n",
    "\n",
    "### initial pivot\n",
    "\n",
    "after completing an intial pivot of the data, there are two main issues\n",
    "\n",
    "1. there is no larger date grouping, so if we have 6 years of data, the calculated needed will be double that of 3 years\n",
    "2. Rainy days dont apear as often as clear days, so currently, looks like rainy days are less dangerous\n",
    "3. some less populated regions have very little need\n",
    "4. \n"
   ]
  },
  {
   "cell_type": "code",
   "execution_count": 18,
   "metadata": {},
   "outputs": [
    {
     "data": {
      "text/html": [
       "<div>\n",
       "<style scoped>\n",
       "    .dataframe tbody tr th:only-of-type {\n",
       "        vertical-align: middle;\n",
       "    }\n",
       "\n",
       "    .dataframe tbody tr th {\n",
       "        vertical-align: top;\n",
       "    }\n",
       "\n",
       "    .dataframe thead th {\n",
       "        text-align: right;\n",
       "    }\n",
       "</style>\n",
       "<table border=\"1\" class=\"dataframe\">\n",
       "  <thead>\n",
       "    <tr style=\"text-align: right;\">\n",
       "      <th></th>\n",
       "      <th></th>\n",
       "      <th></th>\n",
       "      <th></th>\n",
       "      <th>ambulance_needed</th>\n",
       "      <th>police_needed</th>\n",
       "    </tr>\n",
       "    <tr>\n",
       "      <th>day</th>\n",
       "      <th>hour_bin</th>\n",
       "      <th>region</th>\n",
       "      <th>sky</th>\n",
       "      <th></th>\n",
       "      <th></th>\n",
       "    </tr>\n",
       "  </thead>\n",
       "  <tbody>\n",
       "    <tr>\n",
       "      <th rowspan=\"5\" valign=\"top\">Friday</th>\n",
       "      <th rowspan=\"5\" valign=\"top\">Afternoon</th>\n",
       "      <th rowspan=\"2\" valign=\"top\">EASTERN REGION</th>\n",
       "      <th>Clear</th>\n",
       "      <td>211</td>\n",
       "      <td>176</td>\n",
       "    </tr>\n",
       "    <tr>\n",
       "      <th>Not clear</th>\n",
       "      <td>39</td>\n",
       "      <td>33</td>\n",
       "    </tr>\n",
       "    <tr>\n",
       "      <th rowspan=\"2\" valign=\"top\">METROPOLITAN NORTH WEST REGION</th>\n",
       "      <th>Clear</th>\n",
       "      <td>1296</td>\n",
       "      <td>1044</td>\n",
       "    </tr>\n",
       "    <tr>\n",
       "      <th>Not clear</th>\n",
       "      <td>155</td>\n",
       "      <td>126</td>\n",
       "    </tr>\n",
       "    <tr>\n",
       "      <th>METROPOLITAN SOUTH EAST REGION</th>\n",
       "      <th>Clear</th>\n",
       "      <td>1473</td>\n",
       "      <td>1201</td>\n",
       "    </tr>\n",
       "    <tr>\n",
       "      <th>...</th>\n",
       "      <th>...</th>\n",
       "      <th>...</th>\n",
       "      <th>...</th>\n",
       "      <td>...</td>\n",
       "      <td>...</td>\n",
       "    </tr>\n",
       "    <tr>\n",
       "      <th rowspan=\"5\" valign=\"top\">Wednesday</th>\n",
       "      <th rowspan=\"5\" valign=\"top\">Night</th>\n",
       "      <th>NORTHERN REGION</th>\n",
       "      <th>Not clear</th>\n",
       "      <td>6</td>\n",
       "      <td>6</td>\n",
       "    </tr>\n",
       "    <tr>\n",
       "      <th rowspan=\"2\" valign=\"top\">SOUTH WESTERN REGION</th>\n",
       "      <th>Clear</th>\n",
       "      <td>41</td>\n",
       "      <td>38</td>\n",
       "    </tr>\n",
       "    <tr>\n",
       "      <th>Not clear</th>\n",
       "      <td>8</td>\n",
       "      <td>6</td>\n",
       "    </tr>\n",
       "    <tr>\n",
       "      <th rowspan=\"2\" valign=\"top\">WESTERN REGION</th>\n",
       "      <th>Clear</th>\n",
       "      <td>23</td>\n",
       "      <td>23</td>\n",
       "    </tr>\n",
       "    <tr>\n",
       "      <th>Not clear</th>\n",
       "      <td>7</td>\n",
       "      <td>7</td>\n",
       "    </tr>\n",
       "  </tbody>\n",
       "</table>\n",
       "<p>392 rows × 2 columns</p>\n",
       "</div>"
      ],
      "text/plain": [
       "                                                              ambulance_needed  \\\n",
       "day       hour_bin  region                         sky                           \n",
       "Friday    Afternoon EASTERN REGION                 Clear                   211   \n",
       "                                                   Not clear                39   \n",
       "                    METROPOLITAN NORTH WEST REGION Clear                  1296   \n",
       "                                                   Not clear               155   \n",
       "                    METROPOLITAN SOUTH EAST REGION Clear                  1473   \n",
       "...                                                                        ...   \n",
       "Wednesday Night     NORTHERN REGION                Not clear                 6   \n",
       "                    SOUTH WESTERN REGION           Clear                    41   \n",
       "                                                   Not clear                 8   \n",
       "                    WESTERN REGION                 Clear                    23   \n",
       "                                                   Not clear                 7   \n",
       "\n",
       "                                                              police_needed  \n",
       "day       hour_bin  region                         sky                       \n",
       "Friday    Afternoon EASTERN REGION                 Clear                176  \n",
       "                                                   Not clear             33  \n",
       "                    METROPOLITAN NORTH WEST REGION Clear               1044  \n",
       "                                                   Not clear            126  \n",
       "                    METROPOLITAN SOUTH EAST REGION Clear               1201  \n",
       "...                                                                     ...  \n",
       "Wednesday Night     NORTHERN REGION                Not clear              6  \n",
       "                    SOUTH WESTERN REGION           Clear                 38  \n",
       "                                                   Not clear              6  \n",
       "                    WESTERN REGION                 Clear                 23  \n",
       "                                                   Not clear              7  \n",
       "\n",
       "[392 rows x 2 columns]"
      ]
     },
     "execution_count": 18,
     "metadata": {},
     "output_type": "execute_result"
    }
   ],
   "source": [
    "# testing how it pivots\n",
    "(df.pivot_table(\n",
    "    index = ['day','hour_bin','region','sky'],\n",
    "    values = ['police_needed', 'ambulance_needed'],\n",
    "    aggfunc = 'sum'\n",
    "))"
   ]
  },
  {
   "cell_type": "code",
   "execution_count": 14,
   "metadata": {},
   "outputs": [
    {
     "data": {
      "text/html": [
       "<div>\n",
       "<style scoped>\n",
       "    .dataframe tbody tr th:only-of-type {\n",
       "        vertical-align: middle;\n",
       "    }\n",
       "\n",
       "    .dataframe tbody tr th {\n",
       "        vertical-align: top;\n",
       "    }\n",
       "\n",
       "    .dataframe thead th {\n",
       "        text-align: right;\n",
       "    }\n",
       "</style>\n",
       "<table border=\"1\" class=\"dataframe\">\n",
       "  <thead>\n",
       "    <tr style=\"text-align: right;\">\n",
       "      <th></th>\n",
       "      <th>Unnamed: 0</th>\n",
       "      <th>police_needed</th>\n",
       "      <th>ambulance_needed</th>\n",
       "      <th>scaled_police</th>\n",
       "      <th>scaled_ambulance</th>\n",
       "    </tr>\n",
       "    <tr>\n",
       "      <th>date_stamp</th>\n",
       "      <th></th>\n",
       "      <th></th>\n",
       "      <th></th>\n",
       "      <th></th>\n",
       "      <th></th>\n",
       "    </tr>\n",
       "  </thead>\n",
       "  <tbody>\n",
       "    <tr>\n",
       "      <th>2015-01-02</th>\n",
       "      <td>16453</td>\n",
       "      <td>3</td>\n",
       "      <td>4</td>\n",
       "      <td>3.356125</td>\n",
       "      <td>4.474834</td>\n",
       "    </tr>\n",
       "    <tr>\n",
       "      <th>2015-01-09</th>\n",
       "      <td>63162</td>\n",
       "      <td>6</td>\n",
       "      <td>7</td>\n",
       "      <td>6.712251</td>\n",
       "      <td>7.830959</td>\n",
       "    </tr>\n",
       "    <tr>\n",
       "      <th>2015-01-16</th>\n",
       "      <td>2579</td>\n",
       "      <td>4</td>\n",
       "      <td>5</td>\n",
       "      <td>4.474834</td>\n",
       "      <td>5.593542</td>\n",
       "    </tr>\n",
       "    <tr>\n",
       "      <th>2015-01-23</th>\n",
       "      <td>6068</td>\n",
       "      <td>5</td>\n",
       "      <td>6</td>\n",
       "      <td>5.593542</td>\n",
       "      <td>6.712251</td>\n",
       "    </tr>\n",
       "    <tr>\n",
       "      <th>2015-01-30</th>\n",
       "      <td>16435</td>\n",
       "      <td>6</td>\n",
       "      <td>7</td>\n",
       "      <td>6.712251</td>\n",
       "      <td>7.830959</td>\n",
       "    </tr>\n",
       "    <tr>\n",
       "      <th>...</th>\n",
       "      <td>...</td>\n",
       "      <td>...</td>\n",
       "      <td>...</td>\n",
       "      <td>...</td>\n",
       "      <td>...</td>\n",
       "    </tr>\n",
       "    <tr>\n",
       "      <th>2020-09-18</th>\n",
       "      <td>137636</td>\n",
       "      <td>2</td>\n",
       "      <td>2</td>\n",
       "      <td>2.237417</td>\n",
       "      <td>2.237417</td>\n",
       "    </tr>\n",
       "    <tr>\n",
       "      <th>2020-10-02</th>\n",
       "      <td>323773</td>\n",
       "      <td>5</td>\n",
       "      <td>5</td>\n",
       "      <td>5.593542</td>\n",
       "      <td>5.593542</td>\n",
       "    </tr>\n",
       "    <tr>\n",
       "      <th>2020-10-09</th>\n",
       "      <td>206109</td>\n",
       "      <td>3</td>\n",
       "      <td>3</td>\n",
       "      <td>3.356125</td>\n",
       "      <td>3.356125</td>\n",
       "    </tr>\n",
       "    <tr>\n",
       "      <th>2020-10-16</th>\n",
       "      <td>137727</td>\n",
       "      <td>2</td>\n",
       "      <td>2</td>\n",
       "      <td>2.237417</td>\n",
       "      <td>2.237417</td>\n",
       "    </tr>\n",
       "    <tr>\n",
       "      <th>2020-11-06</th>\n",
       "      <td>474646</td>\n",
       "      <td>7</td>\n",
       "      <td>7</td>\n",
       "      <td>7.830959</td>\n",
       "      <td>7.830959</td>\n",
       "    </tr>\n",
       "  </tbody>\n",
       "</table>\n",
       "<p>287 rows × 5 columns</p>\n",
       "</div>"
      ],
      "text/plain": [
       "            Unnamed: 0  police_needed  ambulance_needed  scaled_police  \\\n",
       "date_stamp                                                               \n",
       "2015-01-02       16453              3                 4       3.356125   \n",
       "2015-01-09       63162              6                 7       6.712251   \n",
       "2015-01-16        2579              4                 5       4.474834   \n",
       "2015-01-23        6068              5                 6       5.593542   \n",
       "2015-01-30       16435              6                 7       6.712251   \n",
       "...                ...            ...               ...            ...   \n",
       "2020-09-18      137636              2                 2       2.237417   \n",
       "2020-10-02      323773              5                 5       5.593542   \n",
       "2020-10-09      206109              3                 3       3.356125   \n",
       "2020-10-16      137727              2                 2       2.237417   \n",
       "2020-11-06      474646              7                 7       7.830959   \n",
       "\n",
       "            scaled_ambulance  \n",
       "date_stamp                    \n",
       "2015-01-02          4.474834  \n",
       "2015-01-09          7.830959  \n",
       "2015-01-16          5.593542  \n",
       "2015-01-23          6.712251  \n",
       "2015-01-30          7.830959  \n",
       "...                      ...  \n",
       "2020-09-18          2.237417  \n",
       "2020-10-02          5.593542  \n",
       "2020-10-09          3.356125  \n",
       "2020-10-16          2.237417  \n",
       "2020-11-06          7.830959  \n",
       "\n",
       "[287 rows x 5 columns]"
      ]
     },
     "execution_count": 14,
     "metadata": {},
     "output_type": "execute_result"
    }
   ],
   "source": [
    "# exploring the values of crashes at one friday afternoon with clear skys in the south eastern metro region\n",
    "df.query('hour_bin == \"Afternoon\" & day == \"Friday\" & sky == \"Clear\" & region == \"METROPOLITAN SOUTH EAST REGION\"').groupby('date_stamp').sum()"
   ]
  },
  {
   "attachments": {},
   "cell_type": "markdown",
   "metadata": {},
   "source": [
    "\n",
    "### Issue 1. scaling by time span\n",
    "\n",
    "The largest time scale is the 7 days of a week. Therefore if we had 1 year of data, there would be 52 potential weeks that would be combined into the one table. and for 3 years, 156\n",
    "\n",
    "Therefore, we simply need to divide everything by the number of weeks in the data set"
   ]
  },
  {
   "cell_type": "code",
   "execution_count": 5,
   "metadata": {},
   "outputs": [
    {
     "name": "stdout",
     "output_type": "stream",
     "text": [
      "2020-12-10 17:45:00\n",
      "2015-01-02 00:04:00\n"
     ]
    },
    {
     "data": {
      "text/plain": [
       "310"
      ]
     },
     "execution_count": 5,
     "metadata": {},
     "output_type": "execute_result"
    }
   ],
   "source": [
    "print(pd.to_datetime(df['date']).max())\n",
    "print(pd.to_datetime(df['date']).min())\n",
    "\n",
    "# small function to find num of weeks\n",
    "def calc_num_weeks_between(min, max):\n",
    "    return math.ceil(\n",
    "        (max - min).days / 7\n",
    "    )\n",
    "    \n",
    "num_of_weeks = calc_num_weeks_between(df['date'].min(), df['date'].max())\n",
    "\n",
    "# then final result must be divided by this\n",
    "num_of_weeks\n"
   ]
  },
  {
   "attachments": {},
   "cell_type": "markdown",
   "metadata": {},
   "source": [
    "### Issue 2: need to scale weather conditions\n",
    "\n",
    "If we assume that the dataset is vast enough, for each date, there would be at least one crash, with the weather reported. Therefore, by looking at the number of times it is either clear or not, for each hourly bin (removing duplicates from the smallest time group to ignore multiple crashes). We can get a rough distribution of the percentage of time it is clear, grouped by hourly bin for some extra granuality"
   ]
  },
  {
   "cell_type": "code",
   "execution_count": 20,
   "metadata": {},
   "outputs": [
    {
     "data": {
      "text/plain": [
       "hour_bin\n",
       "Afternoon    0.893888\n",
       "Evening      0.922148\n",
       "Morning      0.780909\n",
       "Night        0.800304\n",
       "Name: ACCIDENT_NO, dtype: float64"
      ]
     },
     "execution_count": 20,
     "metadata": {},
     "output_type": "execute_result"
    }
   ],
   "source": [
    "# calculating count of times its not clear per hourly bin\n",
    "time_dist_rain = df[df['sky'] == 'Not clear']\\\n",
    "        .drop_duplicates(   # removing duplicates in smallest time group\n",
    "            subset = ['date_stamp']\n",
    "            )\\\n",
    "        .groupby(    # grouping by hourly_bin\n",
    "            ['hour_bin']\n",
    "            )['ACCIDENT_NO']\\\n",
    "        .count() \n",
    "\n",
    "\n",
    "# repeats the\n",
    "#  same for clear weather\n",
    "time_dist_clear = df[df['sky'] == 'Clear'].drop_duplicates(subset = ['date_stamp','hour_bin']).groupby(['hour_bin'])['ACCIDENT_NO'].count()\n",
    "\n",
    "# calculating percentage clear\n",
    "pr_clear = time_dist_clear / (time_dist_rain + time_dist_clear)\n",
    "pr_clear"
   ]
  },
  {
   "cell_type": "code",
   "execution_count": 7,
   "metadata": {},
   "outputs": [],
   "source": [
    "# need to use these weights to scale\n",
    "def scale_need(row, clear_weights):\n",
    "    \n",
    "    # if its clear\n",
    "    if row['sky'] == 'Clear':\n",
    "\n",
    "        # scales based on clear weights\n",
    "        return row[0] * 1/(pr_clear[row['hour_bin']])\n",
    "    # else its raining\n",
    "    else:\n",
    "\n",
    "        # scales based on not clear weights\n",
    "        return row[0] * 1/(1 - pr_clear[row['hour_bin']])\n",
    "\n",
    "# uses above function to scale need\n",
    "df.loc[:,'scaled_police'] = df.loc[:,['police_needed','sky','region','hour_bin']].apply(scale_need, axis = 1, clear_weights = pr_clear)\n",
    "df.loc[:,'scaled_ambulance'] = df.loc[:,['ambulance_needed','sky','region','hour_bin']].apply(scale_need, axis = 1, clear_weights = pr_clear)"
   ]
  },
  {
   "attachments": {},
   "cell_type": "markdown",
   "metadata": {},
   "source": [
    "### Issue 3: low counts in regional areas\n",
    "\n",
    "No scaling makes sense here, the counts are low because the number of crashes are low.\n",
    "\n",
    "# final pivotted data\n",
    "\n",
    "looking at the data now, it looks really good, the number needed for non clear days is slightly high than clear days, more ambulances are needed in metro areas. And no time is left without an ambulance. time to generate a training and tesing data set"
   ]
  },
  {
   "cell_type": "code",
   "execution_count": 8,
   "metadata": {},
   "outputs": [
    {
     "data": {
      "text/html": [
       "<div>\n",
       "<style scoped>\n",
       "    .dataframe tbody tr th:only-of-type {\n",
       "        vertical-align: middle;\n",
       "    }\n",
       "\n",
       "    .dataframe tbody tr th {\n",
       "        vertical-align: top;\n",
       "    }\n",
       "\n",
       "    .dataframe thead th {\n",
       "        text-align: right;\n",
       "    }\n",
       "</style>\n",
       "<table border=\"1\" class=\"dataframe\">\n",
       "  <thead>\n",
       "    <tr style=\"text-align: right;\">\n",
       "      <th></th>\n",
       "      <th></th>\n",
       "      <th></th>\n",
       "      <th></th>\n",
       "      <th>scaled_ambulance</th>\n",
       "      <th>scaled_police</th>\n",
       "    </tr>\n",
       "    <tr>\n",
       "      <th>day</th>\n",
       "      <th>hour_bin</th>\n",
       "      <th>region</th>\n",
       "      <th>sky</th>\n",
       "      <th></th>\n",
       "      <th></th>\n",
       "    </tr>\n",
       "  </thead>\n",
       "  <tbody>\n",
       "    <tr>\n",
       "      <th rowspan=\"5\" valign=\"top\">Friday</th>\n",
       "      <th rowspan=\"5\" valign=\"top\">Afternoon</th>\n",
       "      <th rowspan=\"2\" valign=\"top\">EASTERN REGION</th>\n",
       "      <th>Clear</th>\n",
       "      <td>0.761443</td>\n",
       "      <td>0.635138</td>\n",
       "    </tr>\n",
       "    <tr>\n",
       "      <th>Not clear</th>\n",
       "      <td>1.185600</td>\n",
       "      <td>1.003200</td>\n",
       "    </tr>\n",
       "    <tr>\n",
       "      <th rowspan=\"2\" valign=\"top\">METROPOLITAN NORTH WEST REGION</th>\n",
       "      <th>Clear</th>\n",
       "      <td>4.676923</td>\n",
       "      <td>3.767521</td>\n",
       "    </tr>\n",
       "    <tr>\n",
       "      <th>Not clear</th>\n",
       "      <td>4.712000</td>\n",
       "      <td>3.830400</td>\n",
       "    </tr>\n",
       "    <tr>\n",
       "      <th>METROPOLITAN SOUTH EAST REGION</th>\n",
       "      <th>Clear</th>\n",
       "      <td>5.315670</td>\n",
       "      <td>4.334093</td>\n",
       "    </tr>\n",
       "    <tr>\n",
       "      <th>...</th>\n",
       "      <th>...</th>\n",
       "      <th>...</th>\n",
       "      <th>...</th>\n",
       "      <td>...</td>\n",
       "      <td>...</td>\n",
       "    </tr>\n",
       "    <tr>\n",
       "      <th rowspan=\"5\" valign=\"top\">Wednesday</th>\n",
       "      <th rowspan=\"5\" valign=\"top\">Night</th>\n",
       "      <th>NORTHERN REGION</th>\n",
       "      <th>Not clear</th>\n",
       "      <td>0.096922</td>\n",
       "      <td>0.096922</td>\n",
       "    </tr>\n",
       "    <tr>\n",
       "      <th rowspan=\"2\" valign=\"top\">SOUTH WESTERN REGION</th>\n",
       "      <th>Clear</th>\n",
       "      <td>0.165260</td>\n",
       "      <td>0.153168</td>\n",
       "    </tr>\n",
       "    <tr>\n",
       "      <th>Not clear</th>\n",
       "      <td>0.129229</td>\n",
       "      <td>0.096922</td>\n",
       "    </tr>\n",
       "    <tr>\n",
       "      <th rowspan=\"2\" valign=\"top\">WESTERN REGION</th>\n",
       "      <th>Clear</th>\n",
       "      <td>0.092707</td>\n",
       "      <td>0.092707</td>\n",
       "    </tr>\n",
       "    <tr>\n",
       "      <th>Not clear</th>\n",
       "      <td>0.113075</td>\n",
       "      <td>0.113075</td>\n",
       "    </tr>\n",
       "  </tbody>\n",
       "</table>\n",
       "<p>392 rows × 2 columns</p>\n",
       "</div>"
      ],
      "text/plain": [
       "                                                              scaled_ambulance  \\\n",
       "day       hour_bin  region                         sky                           \n",
       "Friday    Afternoon EASTERN REGION                 Clear              0.761443   \n",
       "                                                   Not clear          1.185600   \n",
       "                    METROPOLITAN NORTH WEST REGION Clear              4.676923   \n",
       "                                                   Not clear          4.712000   \n",
       "                    METROPOLITAN SOUTH EAST REGION Clear              5.315670   \n",
       "...                                                                        ...   \n",
       "Wednesday Night     NORTHERN REGION                Not clear          0.096922   \n",
       "                    SOUTH WESTERN REGION           Clear              0.165260   \n",
       "                                                   Not clear          0.129229   \n",
       "                    WESTERN REGION                 Clear              0.092707   \n",
       "                                                   Not clear          0.113075   \n",
       "\n",
       "                                                              scaled_police  \n",
       "day       hour_bin  region                         sky                       \n",
       "Friday    Afternoon EASTERN REGION                 Clear           0.635138  \n",
       "                                                   Not clear       1.003200  \n",
       "                    METROPOLITAN NORTH WEST REGION Clear           3.767521  \n",
       "                                                   Not clear       3.830400  \n",
       "                    METROPOLITAN SOUTH EAST REGION Clear           4.334093  \n",
       "...                                                                     ...  \n",
       "Wednesday Night     NORTHERN REGION                Not clear       0.096922  \n",
       "                    SOUTH WESTERN REGION           Clear           0.153168  \n",
       "                                                   Not clear       0.096922  \n",
       "                    WESTERN REGION                 Clear           0.092707  \n",
       "                                                   Not clear       0.113075  \n",
       "\n",
       "[392 rows x 2 columns]"
      ]
     },
     "execution_count": 8,
     "metadata": {},
     "output_type": "execute_result"
    }
   ],
   "source": [
    "# testing how it pivots\n",
    "final = (df.pivot_table(\n",
    "    index = ['day','hour_bin','region','sky'],\n",
    "    values = ['scaled_police', 'scaled_ambulance'],\n",
    "    aggfunc = 'sum'\n",
    ") / (num_of_weeks))\n",
    "\n",
    "final"
   ]
  },
  {
   "cell_type": "code",
   "execution_count": 9,
   "metadata": {},
   "outputs": [
    {
     "data": {
      "application/vnd.plotly.v1+json": {
       "config": {
        "plotlyServerURL": "https://plot.ly"
       },
       "data": [
        {
         "coloraxis": "coloraxis",
         "hoverinfo": "text",
         "hovertemplate": "Day of the Week: %{x}<br>region: %{y}<br>% chance of needing an ambulace: %{z}<extra></extra>",
         "name": "0",
         "text": [
          [
           0.4265473570202805,
           0.40711693314952746,
           0.47374136179063786,
           0.4535640150410334,
           0.397173122035933,
           0.39535914979264114,
           0.40741697133893057
          ],
          [
           3.0017148207124533,
           2.76161996502113,
           2.7099120586665766,
           2.4310412941339474,
           3.002406499161549,
           3.0139690048227172,
           3.043008309784791
          ],
          [
           3.04551589561295,
           2.909585112500539,
           2.7678099962377716,
           2.5923823450246375,
           2.9561920347546944,
           3.0543953563619897,
           3.065734437219874
          ],
          [
           0.486107064374979,
           0.42252128832791913,
           0.4970316500797564,
           0.5043368415561219,
           0.4119446186390722,
           0.41146765257629875,
           0.4086681169860505
          ],
          [
           0.45578567790149793,
           0.4188974159096983,
           0.5052230537173577,
           0.4215794226745544,
           0.459300082790916,
           0.43362759687478286,
           0.4758908318399105
          ],
          [
           0.6033429270424613,
           0.6071373148784862,
           0.6296716970686886,
           0.6049413786737343,
           0.6033258822355297,
           0.6682170251232855,
           0.6616296700984278
          ],
          [
           0.45749793612209694,
           0.42253192067928425,
           0.44826176579827304,
           0.41086190909204795,
           0.45512782368929877,
           0.4524254535176832,
           0.4058659583593493
          ]
         ],
         "texttemplate": "%{text:.2f}",
         "type": "heatmap",
         "x": [
          "Monday",
          "Tuesday",
          "Wednesday",
          "Thursday",
          "Friday",
          "Saturday",
          "Sunday"
         ],
         "xaxis": "x",
         "y": [
          "EASTERN REGION",
          "METROPOLITAN NORTH WEST REGION",
          "METROPOLITAN SOUTH EAST REGION",
          "NORTH EASTERN REGION",
          "NORTHERN REGION",
          "SOUTH WESTERN REGION",
          "WESTERN REGION"
         ],
         "yaxis": "y",
         "z": [
          [
           0.4265473570202805,
           0.40711693314952746,
           0.47374136179063786,
           0.4535640150410334,
           0.397173122035933,
           0.39535914979264114,
           0.40741697133893057
          ],
          [
           3.0017148207124533,
           2.76161996502113,
           2.7099120586665766,
           2.4310412941339474,
           3.002406499161549,
           3.0139690048227172,
           3.043008309784791
          ],
          [
           3.04551589561295,
           2.909585112500539,
           2.7678099962377716,
           2.5923823450246375,
           2.9561920347546944,
           3.0543953563619897,
           3.065734437219874
          ],
          [
           0.486107064374979,
           0.42252128832791913,
           0.4970316500797564,
           0.5043368415561219,
           0.4119446186390722,
           0.41146765257629875,
           0.4086681169860505
          ],
          [
           0.45578567790149793,
           0.4188974159096983,
           0.5052230537173577,
           0.4215794226745544,
           0.459300082790916,
           0.43362759687478286,
           0.4758908318399105
          ],
          [
           0.6033429270424613,
           0.6071373148784862,
           0.6296716970686886,
           0.6049413786737343,
           0.6033258822355297,
           0.6682170251232855,
           0.6616296700984278
          ],
          [
           0.45749793612209694,
           0.42253192067928425,
           0.44826176579827304,
           0.41086190909204795,
           0.45512782368929877,
           0.4524254535176832,
           0.4058659583593493
          ]
         ]
        }
       ],
       "layout": {
        "coloraxis": {
         "colorbar": {
          "title": {
           "text": "% chance of needing an ambulace"
          }
         },
         "colorscale": [
          [
           0,
           "#0d0887"
          ],
          [
           0.1111111111111111,
           "#46039f"
          ],
          [
           0.2222222222222222,
           "#7201a8"
          ],
          [
           0.3333333333333333,
           "#9c179e"
          ],
          [
           0.4444444444444444,
           "#bd3786"
          ],
          [
           0.5555555555555556,
           "#d8576b"
          ],
          [
           0.6666666666666666,
           "#ed7953"
          ],
          [
           0.7777777777777778,
           "#fb9f3a"
          ],
          [
           0.8888888888888888,
           "#fdca26"
          ],
          [
           1,
           "#f0f921"
          ]
         ]
        },
        "template": {
         "data": {
          "bar": [
           {
            "error_x": {
             "color": "#2a3f5f"
            },
            "error_y": {
             "color": "#2a3f5f"
            },
            "marker": {
             "line": {
              "color": "#E5ECF6",
              "width": 0.5
             },
             "pattern": {
              "fillmode": "overlay",
              "size": 10,
              "solidity": 0.2
             }
            },
            "type": "bar"
           }
          ],
          "barpolar": [
           {
            "marker": {
             "line": {
              "color": "#E5ECF6",
              "width": 0.5
             },
             "pattern": {
              "fillmode": "overlay",
              "size": 10,
              "solidity": 0.2
             }
            },
            "type": "barpolar"
           }
          ],
          "carpet": [
           {
            "aaxis": {
             "endlinecolor": "#2a3f5f",
             "gridcolor": "white",
             "linecolor": "white",
             "minorgridcolor": "white",
             "startlinecolor": "#2a3f5f"
            },
            "baxis": {
             "endlinecolor": "#2a3f5f",
             "gridcolor": "white",
             "linecolor": "white",
             "minorgridcolor": "white",
             "startlinecolor": "#2a3f5f"
            },
            "type": "carpet"
           }
          ],
          "choropleth": [
           {
            "colorbar": {
             "outlinewidth": 0,
             "ticks": ""
            },
            "type": "choropleth"
           }
          ],
          "contour": [
           {
            "colorbar": {
             "outlinewidth": 0,
             "ticks": ""
            },
            "colorscale": [
             [
              0,
              "#0d0887"
             ],
             [
              0.1111111111111111,
              "#46039f"
             ],
             [
              0.2222222222222222,
              "#7201a8"
             ],
             [
              0.3333333333333333,
              "#9c179e"
             ],
             [
              0.4444444444444444,
              "#bd3786"
             ],
             [
              0.5555555555555556,
              "#d8576b"
             ],
             [
              0.6666666666666666,
              "#ed7953"
             ],
             [
              0.7777777777777778,
              "#fb9f3a"
             ],
             [
              0.8888888888888888,
              "#fdca26"
             ],
             [
              1,
              "#f0f921"
             ]
            ],
            "type": "contour"
           }
          ],
          "contourcarpet": [
           {
            "colorbar": {
             "outlinewidth": 0,
             "ticks": ""
            },
            "type": "contourcarpet"
           }
          ],
          "heatmap": [
           {
            "colorbar": {
             "outlinewidth": 0,
             "ticks": ""
            },
            "colorscale": [
             [
              0,
              "#0d0887"
             ],
             [
              0.1111111111111111,
              "#46039f"
             ],
             [
              0.2222222222222222,
              "#7201a8"
             ],
             [
              0.3333333333333333,
              "#9c179e"
             ],
             [
              0.4444444444444444,
              "#bd3786"
             ],
             [
              0.5555555555555556,
              "#d8576b"
             ],
             [
              0.6666666666666666,
              "#ed7953"
             ],
             [
              0.7777777777777778,
              "#fb9f3a"
             ],
             [
              0.8888888888888888,
              "#fdca26"
             ],
             [
              1,
              "#f0f921"
             ]
            ],
            "type": "heatmap"
           }
          ],
          "heatmapgl": [
           {
            "colorbar": {
             "outlinewidth": 0,
             "ticks": ""
            },
            "colorscale": [
             [
              0,
              "#0d0887"
             ],
             [
              0.1111111111111111,
              "#46039f"
             ],
             [
              0.2222222222222222,
              "#7201a8"
             ],
             [
              0.3333333333333333,
              "#9c179e"
             ],
             [
              0.4444444444444444,
              "#bd3786"
             ],
             [
              0.5555555555555556,
              "#d8576b"
             ],
             [
              0.6666666666666666,
              "#ed7953"
             ],
             [
              0.7777777777777778,
              "#fb9f3a"
             ],
             [
              0.8888888888888888,
              "#fdca26"
             ],
             [
              1,
              "#f0f921"
             ]
            ],
            "type": "heatmapgl"
           }
          ],
          "histogram": [
           {
            "marker": {
             "pattern": {
              "fillmode": "overlay",
              "size": 10,
              "solidity": 0.2
             }
            },
            "type": "histogram"
           }
          ],
          "histogram2d": [
           {
            "colorbar": {
             "outlinewidth": 0,
             "ticks": ""
            },
            "colorscale": [
             [
              0,
              "#0d0887"
             ],
             [
              0.1111111111111111,
              "#46039f"
             ],
             [
              0.2222222222222222,
              "#7201a8"
             ],
             [
              0.3333333333333333,
              "#9c179e"
             ],
             [
              0.4444444444444444,
              "#bd3786"
             ],
             [
              0.5555555555555556,
              "#d8576b"
             ],
             [
              0.6666666666666666,
              "#ed7953"
             ],
             [
              0.7777777777777778,
              "#fb9f3a"
             ],
             [
              0.8888888888888888,
              "#fdca26"
             ],
             [
              1,
              "#f0f921"
             ]
            ],
            "type": "histogram2d"
           }
          ],
          "histogram2dcontour": [
           {
            "colorbar": {
             "outlinewidth": 0,
             "ticks": ""
            },
            "colorscale": [
             [
              0,
              "#0d0887"
             ],
             [
              0.1111111111111111,
              "#46039f"
             ],
             [
              0.2222222222222222,
              "#7201a8"
             ],
             [
              0.3333333333333333,
              "#9c179e"
             ],
             [
              0.4444444444444444,
              "#bd3786"
             ],
             [
              0.5555555555555556,
              "#d8576b"
             ],
             [
              0.6666666666666666,
              "#ed7953"
             ],
             [
              0.7777777777777778,
              "#fb9f3a"
             ],
             [
              0.8888888888888888,
              "#fdca26"
             ],
             [
              1,
              "#f0f921"
             ]
            ],
            "type": "histogram2dcontour"
           }
          ],
          "mesh3d": [
           {
            "colorbar": {
             "outlinewidth": 0,
             "ticks": ""
            },
            "type": "mesh3d"
           }
          ],
          "parcoords": [
           {
            "line": {
             "colorbar": {
              "outlinewidth": 0,
              "ticks": ""
             }
            },
            "type": "parcoords"
           }
          ],
          "pie": [
           {
            "automargin": true,
            "type": "pie"
           }
          ],
          "scatter": [
           {
            "fillpattern": {
             "fillmode": "overlay",
             "size": 10,
             "solidity": 0.2
            },
            "type": "scatter"
           }
          ],
          "scatter3d": [
           {
            "line": {
             "colorbar": {
              "outlinewidth": 0,
              "ticks": ""
             }
            },
            "marker": {
             "colorbar": {
              "outlinewidth": 0,
              "ticks": ""
             }
            },
            "type": "scatter3d"
           }
          ],
          "scattercarpet": [
           {
            "marker": {
             "colorbar": {
              "outlinewidth": 0,
              "ticks": ""
             }
            },
            "type": "scattercarpet"
           }
          ],
          "scattergeo": [
           {
            "marker": {
             "colorbar": {
              "outlinewidth": 0,
              "ticks": ""
             }
            },
            "type": "scattergeo"
           }
          ],
          "scattergl": [
           {
            "marker": {
             "colorbar": {
              "outlinewidth": 0,
              "ticks": ""
             }
            },
            "type": "scattergl"
           }
          ],
          "scattermapbox": [
           {
            "marker": {
             "colorbar": {
              "outlinewidth": 0,
              "ticks": ""
             }
            },
            "type": "scattermapbox"
           }
          ],
          "scatterpolar": [
           {
            "marker": {
             "colorbar": {
              "outlinewidth": 0,
              "ticks": ""
             }
            },
            "type": "scatterpolar"
           }
          ],
          "scatterpolargl": [
           {
            "marker": {
             "colorbar": {
              "outlinewidth": 0,
              "ticks": ""
             }
            },
            "type": "scatterpolargl"
           }
          ],
          "scatterternary": [
           {
            "marker": {
             "colorbar": {
              "outlinewidth": 0,
              "ticks": ""
             }
            },
            "type": "scatterternary"
           }
          ],
          "surface": [
           {
            "colorbar": {
             "outlinewidth": 0,
             "ticks": ""
            },
            "colorscale": [
             [
              0,
              "#0d0887"
             ],
             [
              0.1111111111111111,
              "#46039f"
             ],
             [
              0.2222222222222222,
              "#7201a8"
             ],
             [
              0.3333333333333333,
              "#9c179e"
             ],
             [
              0.4444444444444444,
              "#bd3786"
             ],
             [
              0.5555555555555556,
              "#d8576b"
             ],
             [
              0.6666666666666666,
              "#ed7953"
             ],
             [
              0.7777777777777778,
              "#fb9f3a"
             ],
             [
              0.8888888888888888,
              "#fdca26"
             ],
             [
              1,
              "#f0f921"
             ]
            ],
            "type": "surface"
           }
          ],
          "table": [
           {
            "cells": {
             "fill": {
              "color": "#EBF0F8"
             },
             "line": {
              "color": "white"
             }
            },
            "header": {
             "fill": {
              "color": "#C8D4E3"
             },
             "line": {
              "color": "white"
             }
            },
            "type": "table"
           }
          ]
         },
         "layout": {
          "annotationdefaults": {
           "arrowcolor": "#2a3f5f",
           "arrowhead": 0,
           "arrowwidth": 1
          },
          "autotypenumbers": "strict",
          "coloraxis": {
           "colorbar": {
            "outlinewidth": 0,
            "ticks": ""
           }
          },
          "colorscale": {
           "diverging": [
            [
             0,
             "#8e0152"
            ],
            [
             0.1,
             "#c51b7d"
            ],
            [
             0.2,
             "#de77ae"
            ],
            [
             0.3,
             "#f1b6da"
            ],
            [
             0.4,
             "#fde0ef"
            ],
            [
             0.5,
             "#f7f7f7"
            ],
            [
             0.6,
             "#e6f5d0"
            ],
            [
             0.7,
             "#b8e186"
            ],
            [
             0.8,
             "#7fbc41"
            ],
            [
             0.9,
             "#4d9221"
            ],
            [
             1,
             "#276419"
            ]
           ],
           "sequential": [
            [
             0,
             "#0d0887"
            ],
            [
             0.1111111111111111,
             "#46039f"
            ],
            [
             0.2222222222222222,
             "#7201a8"
            ],
            [
             0.3333333333333333,
             "#9c179e"
            ],
            [
             0.4444444444444444,
             "#bd3786"
            ],
            [
             0.5555555555555556,
             "#d8576b"
            ],
            [
             0.6666666666666666,
             "#ed7953"
            ],
            [
             0.7777777777777778,
             "#fb9f3a"
            ],
            [
             0.8888888888888888,
             "#fdca26"
            ],
            [
             1,
             "#f0f921"
            ]
           ],
           "sequentialminus": [
            [
             0,
             "#0d0887"
            ],
            [
             0.1111111111111111,
             "#46039f"
            ],
            [
             0.2222222222222222,
             "#7201a8"
            ],
            [
             0.3333333333333333,
             "#9c179e"
            ],
            [
             0.4444444444444444,
             "#bd3786"
            ],
            [
             0.5555555555555556,
             "#d8576b"
            ],
            [
             0.6666666666666666,
             "#ed7953"
            ],
            [
             0.7777777777777778,
             "#fb9f3a"
            ],
            [
             0.8888888888888888,
             "#fdca26"
            ],
            [
             1,
             "#f0f921"
            ]
           ]
          },
          "colorway": [
           "#636efa",
           "#EF553B",
           "#00cc96",
           "#ab63fa",
           "#FFA15A",
           "#19d3f3",
           "#FF6692",
           "#B6E880",
           "#FF97FF",
           "#FECB52"
          ],
          "font": {
           "color": "#2a3f5f"
          },
          "geo": {
           "bgcolor": "white",
           "lakecolor": "white",
           "landcolor": "#E5ECF6",
           "showlakes": true,
           "showland": true,
           "subunitcolor": "white"
          },
          "hoverlabel": {
           "align": "left"
          },
          "hovermode": "closest",
          "mapbox": {
           "style": "light"
          },
          "paper_bgcolor": "white",
          "plot_bgcolor": "#E5ECF6",
          "polar": {
           "angularaxis": {
            "gridcolor": "white",
            "linecolor": "white",
            "ticks": ""
           },
           "bgcolor": "#E5ECF6",
           "radialaxis": {
            "gridcolor": "white",
            "linecolor": "white",
            "ticks": ""
           }
          },
          "scene": {
           "xaxis": {
            "backgroundcolor": "#E5ECF6",
            "gridcolor": "white",
            "gridwidth": 2,
            "linecolor": "white",
            "showbackground": true,
            "ticks": "",
            "zerolinecolor": "white"
           },
           "yaxis": {
            "backgroundcolor": "#E5ECF6",
            "gridcolor": "white",
            "gridwidth": 2,
            "linecolor": "white",
            "showbackground": true,
            "ticks": "",
            "zerolinecolor": "white"
           },
           "zaxis": {
            "backgroundcolor": "#E5ECF6",
            "gridcolor": "white",
            "gridwidth": 2,
            "linecolor": "white",
            "showbackground": true,
            "ticks": "",
            "zerolinecolor": "white"
           }
          },
          "shapedefaults": {
           "line": {
            "color": "#2a3f5f"
           }
          },
          "ternary": {
           "aaxis": {
            "gridcolor": "white",
            "linecolor": "white",
            "ticks": ""
           },
           "baxis": {
            "gridcolor": "white",
            "linecolor": "white",
            "ticks": ""
           },
           "bgcolor": "#E5ECF6",
           "caxis": {
            "gridcolor": "white",
            "linecolor": "white",
            "ticks": ""
           }
          },
          "title": {
           "x": 0.05
          },
          "xaxis": {
           "automargin": true,
           "gridcolor": "white",
           "linecolor": "white",
           "ticks": "",
           "title": {
            "standoff": 15
           },
           "zerolinecolor": "white",
           "zerolinewidth": 2
          },
          "yaxis": {
           "automargin": true,
           "gridcolor": "white",
           "linecolor": "white",
           "ticks": "",
           "title": {
            "standoff": 15
           },
           "zerolinecolor": "white",
           "zerolinewidth": 2
          }
         }
        },
        "title": {
         "text": "Average Chance of an Ambulance, sky is clear"
        },
        "xaxis": {
         "anchor": "y",
         "constrain": "domain",
         "domain": [
          0,
          1
         ],
         "scaleanchor": "y",
         "title": {
          "text": "Day of the Week"
         }
        },
        "yaxis": {
         "anchor": "x",
         "autorange": "reversed",
         "constrain": "domain",
         "domain": [
          0,
          1
         ],
         "title": {
          "text": "region"
         }
        }
       }
      }
     },
     "metadata": {},
     "output_type": "display_data"
    }
   ],
   "source": [
    "def display_final_df(df_final, query = 'sky == \"Clear\"'):\n",
    "    df_temp = df_final.reset_index().query(query).pivot_table(\n",
    "        index = 'day',\n",
    "        columns = 'region',\n",
    "        values = 'scaled_ambulance',\n",
    "        aggfunc = 'mean',\n",
    "    ).T\n",
    "\n",
    "\n",
    "    # create a heatmap\n",
    "    fig = px.imshow(\n",
    "        df_temp, \n",
    "        x=list(day_dict.values()), \n",
    "        y=list(df_temp.index), \n",
    "        labels={\n",
    "                \"x\": \"Day of the Week\",\n",
    "                \"y\": \"region\",\n",
    "                \"color\": \"% chance of needing an ambulace\"\n",
    "            }, \n",
    "        title=\"Average Chance of an Ambulance, sky is clear\"\n",
    "        )\n",
    "\n",
    "    # add annotations\n",
    "    fig.update_traces(hoverinfo='text', text=df_temp.values, texttemplate='%{text:.2f}')\n",
    "    # show the figure\n",
    "    fig.show()\n",
    "    return fig\n",
    "\n",
    "fig = display_final_df(final)\n"
   ]
  },
  {
   "attachments": {},
   "cell_type": "markdown",
   "metadata": {},
   "source": [
    "# creating train test split"
   ]
  },
  {
   "cell_type": "code",
   "execution_count": 16,
   "metadata": {},
   "outputs": [
    {
     "data": {
      "application/vnd.plotly.v1+json": {
       "config": {
        "plotlyServerURL": "https://plot.ly"
       },
       "data": [
        {
         "coloraxis": "coloraxis",
         "hoverinfo": "text",
         "hovertemplate": "Day of the Week: %{x}<br>region: %{y}<br>% chance of needing an ambulace: %{z}<extra></extra>",
         "name": "0",
         "text": [
          [
           0.4869352415828375,
           0.4948040592764648,
           0.5917696339501399,
           0.5476476709103067,
           0.45287781125146087,
           0.4523014439072696,
           0.48815002431004295
          ],
          [
           3.335963448773279,
           3.0834574572480564,
           3.10634671275185,
           2.802652114124784,
           3.2347196888270986,
           3.3133257705633246,
           3.4073650131314674
          ],
          [
           3.439799750319007,
           3.3332149862457534,
           3.1570956855884296,
           3.085872360229063,
           3.267711957263327,
           3.4819816844862537,
           3.5318229040960825
          ],
          [
           0.5886559237645098,
           0.5001310001640975,
           0.5748033905073352,
           0.5947131813490784,
           0.4479390614944671,
           0.4686910281173155,
           0.4607196539904905
          ],
          [
           0.5323587869520946,
           0.4822542598729967,
           0.5769143368723256,
           0.5147067714315973,
           0.5047613946126341,
           0.5061583724135916,
           0.585212092002062
          ],
          [
           0.6460414206231431,
           0.6684660716064045,
           0.7200607191245062,
           0.661064450672168,
           0.6905420455187308,
           0.7176077915420779,
           0.7097809946827248
          ],
          [
           0.5022160691213006,
           0.49757785125701215,
           0.4968820078371786,
           0.5149748327019986,
           0.4763472848371206,
           0.5412699557227607,
           0.41424137186630583
          ]
         ],
         "texttemplate": "%{text:.2f}",
         "type": "heatmap",
         "x": [
          "Monday",
          "Tuesday",
          "Wednesday",
          "Thursday",
          "Friday",
          "Saturday",
          "Sunday"
         ],
         "xaxis": "x",
         "y": [
          "EASTERN REGION",
          "METROPOLITAN NORTH WEST REGION",
          "METROPOLITAN SOUTH EAST REGION",
          "NORTH EASTERN REGION",
          "NORTHERN REGION",
          "SOUTH WESTERN REGION",
          "WESTERN REGION"
         ],
         "yaxis": "y",
         "z": [
          [
           0.4869352415828375,
           0.4948040592764648,
           0.5917696339501399,
           0.5476476709103067,
           0.45287781125146087,
           0.4523014439072696,
           0.48815002431004295
          ],
          [
           3.335963448773279,
           3.0834574572480564,
           3.10634671275185,
           2.802652114124784,
           3.2347196888270986,
           3.3133257705633246,
           3.4073650131314674
          ],
          [
           3.439799750319007,
           3.3332149862457534,
           3.1570956855884296,
           3.085872360229063,
           3.267711957263327,
           3.4819816844862537,
           3.5318229040960825
          ],
          [
           0.5886559237645098,
           0.5001310001640975,
           0.5748033905073352,
           0.5947131813490784,
           0.4479390614944671,
           0.4686910281173155,
           0.4607196539904905
          ],
          [
           0.5323587869520946,
           0.4822542598729967,
           0.5769143368723256,
           0.5147067714315973,
           0.5047613946126341,
           0.5061583724135916,
           0.585212092002062
          ],
          [
           0.6460414206231431,
           0.6684660716064045,
           0.7200607191245062,
           0.661064450672168,
           0.6905420455187308,
           0.7176077915420779,
           0.7097809946827248
          ],
          [
           0.5022160691213006,
           0.49757785125701215,
           0.4968820078371786,
           0.5149748327019986,
           0.4763472848371206,
           0.5412699557227607,
           0.41424137186630583
          ]
         ]
        }
       ],
       "layout": {
        "coloraxis": {
         "colorbar": {
          "title": {
           "text": "% chance of needing an ambulace"
          }
         },
         "colorscale": [
          [
           0,
           "#0d0887"
          ],
          [
           0.1111111111111111,
           "#46039f"
          ],
          [
           0.2222222222222222,
           "#7201a8"
          ],
          [
           0.3333333333333333,
           "#9c179e"
          ],
          [
           0.4444444444444444,
           "#bd3786"
          ],
          [
           0.5555555555555556,
           "#d8576b"
          ],
          [
           0.6666666666666666,
           "#ed7953"
          ],
          [
           0.7777777777777778,
           "#fb9f3a"
          ],
          [
           0.8888888888888888,
           "#fdca26"
          ],
          [
           1,
           "#f0f921"
          ]
         ]
        },
        "template": {
         "data": {
          "bar": [
           {
            "error_x": {
             "color": "#2a3f5f"
            },
            "error_y": {
             "color": "#2a3f5f"
            },
            "marker": {
             "line": {
              "color": "#E5ECF6",
              "width": 0.5
             },
             "pattern": {
              "fillmode": "overlay",
              "size": 10,
              "solidity": 0.2
             }
            },
            "type": "bar"
           }
          ],
          "barpolar": [
           {
            "marker": {
             "line": {
              "color": "#E5ECF6",
              "width": 0.5
             },
             "pattern": {
              "fillmode": "overlay",
              "size": 10,
              "solidity": 0.2
             }
            },
            "type": "barpolar"
           }
          ],
          "carpet": [
           {
            "aaxis": {
             "endlinecolor": "#2a3f5f",
             "gridcolor": "white",
             "linecolor": "white",
             "minorgridcolor": "white",
             "startlinecolor": "#2a3f5f"
            },
            "baxis": {
             "endlinecolor": "#2a3f5f",
             "gridcolor": "white",
             "linecolor": "white",
             "minorgridcolor": "white",
             "startlinecolor": "#2a3f5f"
            },
            "type": "carpet"
           }
          ],
          "choropleth": [
           {
            "colorbar": {
             "outlinewidth": 0,
             "ticks": ""
            },
            "type": "choropleth"
           }
          ],
          "contour": [
           {
            "colorbar": {
             "outlinewidth": 0,
             "ticks": ""
            },
            "colorscale": [
             [
              0,
              "#0d0887"
             ],
             [
              0.1111111111111111,
              "#46039f"
             ],
             [
              0.2222222222222222,
              "#7201a8"
             ],
             [
              0.3333333333333333,
              "#9c179e"
             ],
             [
              0.4444444444444444,
              "#bd3786"
             ],
             [
              0.5555555555555556,
              "#d8576b"
             ],
             [
              0.6666666666666666,
              "#ed7953"
             ],
             [
              0.7777777777777778,
              "#fb9f3a"
             ],
             [
              0.8888888888888888,
              "#fdca26"
             ],
             [
              1,
              "#f0f921"
             ]
            ],
            "type": "contour"
           }
          ],
          "contourcarpet": [
           {
            "colorbar": {
             "outlinewidth": 0,
             "ticks": ""
            },
            "type": "contourcarpet"
           }
          ],
          "heatmap": [
           {
            "colorbar": {
             "outlinewidth": 0,
             "ticks": ""
            },
            "colorscale": [
             [
              0,
              "#0d0887"
             ],
             [
              0.1111111111111111,
              "#46039f"
             ],
             [
              0.2222222222222222,
              "#7201a8"
             ],
             [
              0.3333333333333333,
              "#9c179e"
             ],
             [
              0.4444444444444444,
              "#bd3786"
             ],
             [
              0.5555555555555556,
              "#d8576b"
             ],
             [
              0.6666666666666666,
              "#ed7953"
             ],
             [
              0.7777777777777778,
              "#fb9f3a"
             ],
             [
              0.8888888888888888,
              "#fdca26"
             ],
             [
              1,
              "#f0f921"
             ]
            ],
            "type": "heatmap"
           }
          ],
          "heatmapgl": [
           {
            "colorbar": {
             "outlinewidth": 0,
             "ticks": ""
            },
            "colorscale": [
             [
              0,
              "#0d0887"
             ],
             [
              0.1111111111111111,
              "#46039f"
             ],
             [
              0.2222222222222222,
              "#7201a8"
             ],
             [
              0.3333333333333333,
              "#9c179e"
             ],
             [
              0.4444444444444444,
              "#bd3786"
             ],
             [
              0.5555555555555556,
              "#d8576b"
             ],
             [
              0.6666666666666666,
              "#ed7953"
             ],
             [
              0.7777777777777778,
              "#fb9f3a"
             ],
             [
              0.8888888888888888,
              "#fdca26"
             ],
             [
              1,
              "#f0f921"
             ]
            ],
            "type": "heatmapgl"
           }
          ],
          "histogram": [
           {
            "marker": {
             "pattern": {
              "fillmode": "overlay",
              "size": 10,
              "solidity": 0.2
             }
            },
            "type": "histogram"
           }
          ],
          "histogram2d": [
           {
            "colorbar": {
             "outlinewidth": 0,
             "ticks": ""
            },
            "colorscale": [
             [
              0,
              "#0d0887"
             ],
             [
              0.1111111111111111,
              "#46039f"
             ],
             [
              0.2222222222222222,
              "#7201a8"
             ],
             [
              0.3333333333333333,
              "#9c179e"
             ],
             [
              0.4444444444444444,
              "#bd3786"
             ],
             [
              0.5555555555555556,
              "#d8576b"
             ],
             [
              0.6666666666666666,
              "#ed7953"
             ],
             [
              0.7777777777777778,
              "#fb9f3a"
             ],
             [
              0.8888888888888888,
              "#fdca26"
             ],
             [
              1,
              "#f0f921"
             ]
            ],
            "type": "histogram2d"
           }
          ],
          "histogram2dcontour": [
           {
            "colorbar": {
             "outlinewidth": 0,
             "ticks": ""
            },
            "colorscale": [
             [
              0,
              "#0d0887"
             ],
             [
              0.1111111111111111,
              "#46039f"
             ],
             [
              0.2222222222222222,
              "#7201a8"
             ],
             [
              0.3333333333333333,
              "#9c179e"
             ],
             [
              0.4444444444444444,
              "#bd3786"
             ],
             [
              0.5555555555555556,
              "#d8576b"
             ],
             [
              0.6666666666666666,
              "#ed7953"
             ],
             [
              0.7777777777777778,
              "#fb9f3a"
             ],
             [
              0.8888888888888888,
              "#fdca26"
             ],
             [
              1,
              "#f0f921"
             ]
            ],
            "type": "histogram2dcontour"
           }
          ],
          "mesh3d": [
           {
            "colorbar": {
             "outlinewidth": 0,
             "ticks": ""
            },
            "type": "mesh3d"
           }
          ],
          "parcoords": [
           {
            "line": {
             "colorbar": {
              "outlinewidth": 0,
              "ticks": ""
             }
            },
            "type": "parcoords"
           }
          ],
          "pie": [
           {
            "automargin": true,
            "type": "pie"
           }
          ],
          "scatter": [
           {
            "fillpattern": {
             "fillmode": "overlay",
             "size": 10,
             "solidity": 0.2
            },
            "type": "scatter"
           }
          ],
          "scatter3d": [
           {
            "line": {
             "colorbar": {
              "outlinewidth": 0,
              "ticks": ""
             }
            },
            "marker": {
             "colorbar": {
              "outlinewidth": 0,
              "ticks": ""
             }
            },
            "type": "scatter3d"
           }
          ],
          "scattercarpet": [
           {
            "marker": {
             "colorbar": {
              "outlinewidth": 0,
              "ticks": ""
             }
            },
            "type": "scattercarpet"
           }
          ],
          "scattergeo": [
           {
            "marker": {
             "colorbar": {
              "outlinewidth": 0,
              "ticks": ""
             }
            },
            "type": "scattergeo"
           }
          ],
          "scattergl": [
           {
            "marker": {
             "colorbar": {
              "outlinewidth": 0,
              "ticks": ""
             }
            },
            "type": "scattergl"
           }
          ],
          "scattermapbox": [
           {
            "marker": {
             "colorbar": {
              "outlinewidth": 0,
              "ticks": ""
             }
            },
            "type": "scattermapbox"
           }
          ],
          "scatterpolar": [
           {
            "marker": {
             "colorbar": {
              "outlinewidth": 0,
              "ticks": ""
             }
            },
            "type": "scatterpolar"
           }
          ],
          "scatterpolargl": [
           {
            "marker": {
             "colorbar": {
              "outlinewidth": 0,
              "ticks": ""
             }
            },
            "type": "scatterpolargl"
           }
          ],
          "scatterternary": [
           {
            "marker": {
             "colorbar": {
              "outlinewidth": 0,
              "ticks": ""
             }
            },
            "type": "scatterternary"
           }
          ],
          "surface": [
           {
            "colorbar": {
             "outlinewidth": 0,
             "ticks": ""
            },
            "colorscale": [
             [
              0,
              "#0d0887"
             ],
             [
              0.1111111111111111,
              "#46039f"
             ],
             [
              0.2222222222222222,
              "#7201a8"
             ],
             [
              0.3333333333333333,
              "#9c179e"
             ],
             [
              0.4444444444444444,
              "#bd3786"
             ],
             [
              0.5555555555555556,
              "#d8576b"
             ],
             [
              0.6666666666666666,
              "#ed7953"
             ],
             [
              0.7777777777777778,
              "#fb9f3a"
             ],
             [
              0.8888888888888888,
              "#fdca26"
             ],
             [
              1,
              "#f0f921"
             ]
            ],
            "type": "surface"
           }
          ],
          "table": [
           {
            "cells": {
             "fill": {
              "color": "#EBF0F8"
             },
             "line": {
              "color": "white"
             }
            },
            "header": {
             "fill": {
              "color": "#C8D4E3"
             },
             "line": {
              "color": "white"
             }
            },
            "type": "table"
           }
          ]
         },
         "layout": {
          "annotationdefaults": {
           "arrowcolor": "#2a3f5f",
           "arrowhead": 0,
           "arrowwidth": 1
          },
          "autotypenumbers": "strict",
          "coloraxis": {
           "colorbar": {
            "outlinewidth": 0,
            "ticks": ""
           }
          },
          "colorscale": {
           "diverging": [
            [
             0,
             "#8e0152"
            ],
            [
             0.1,
             "#c51b7d"
            ],
            [
             0.2,
             "#de77ae"
            ],
            [
             0.3,
             "#f1b6da"
            ],
            [
             0.4,
             "#fde0ef"
            ],
            [
             0.5,
             "#f7f7f7"
            ],
            [
             0.6,
             "#e6f5d0"
            ],
            [
             0.7,
             "#b8e186"
            ],
            [
             0.8,
             "#7fbc41"
            ],
            [
             0.9,
             "#4d9221"
            ],
            [
             1,
             "#276419"
            ]
           ],
           "sequential": [
            [
             0,
             "#0d0887"
            ],
            [
             0.1111111111111111,
             "#46039f"
            ],
            [
             0.2222222222222222,
             "#7201a8"
            ],
            [
             0.3333333333333333,
             "#9c179e"
            ],
            [
             0.4444444444444444,
             "#bd3786"
            ],
            [
             0.5555555555555556,
             "#d8576b"
            ],
            [
             0.6666666666666666,
             "#ed7953"
            ],
            [
             0.7777777777777778,
             "#fb9f3a"
            ],
            [
             0.8888888888888888,
             "#fdca26"
            ],
            [
             1,
             "#f0f921"
            ]
           ],
           "sequentialminus": [
            [
             0,
             "#0d0887"
            ],
            [
             0.1111111111111111,
             "#46039f"
            ],
            [
             0.2222222222222222,
             "#7201a8"
            ],
            [
             0.3333333333333333,
             "#9c179e"
            ],
            [
             0.4444444444444444,
             "#bd3786"
            ],
            [
             0.5555555555555556,
             "#d8576b"
            ],
            [
             0.6666666666666666,
             "#ed7953"
            ],
            [
             0.7777777777777778,
             "#fb9f3a"
            ],
            [
             0.8888888888888888,
             "#fdca26"
            ],
            [
             1,
             "#f0f921"
            ]
           ]
          },
          "colorway": [
           "#636efa",
           "#EF553B",
           "#00cc96",
           "#ab63fa",
           "#FFA15A",
           "#19d3f3",
           "#FF6692",
           "#B6E880",
           "#FF97FF",
           "#FECB52"
          ],
          "font": {
           "color": "#2a3f5f"
          },
          "geo": {
           "bgcolor": "white",
           "lakecolor": "white",
           "landcolor": "#E5ECF6",
           "showlakes": true,
           "showland": true,
           "subunitcolor": "white"
          },
          "hoverlabel": {
           "align": "left"
          },
          "hovermode": "closest",
          "mapbox": {
           "style": "light"
          },
          "paper_bgcolor": "white",
          "plot_bgcolor": "#E5ECF6",
          "polar": {
           "angularaxis": {
            "gridcolor": "white",
            "linecolor": "white",
            "ticks": ""
           },
           "bgcolor": "#E5ECF6",
           "radialaxis": {
            "gridcolor": "white",
            "linecolor": "white",
            "ticks": ""
           }
          },
          "scene": {
           "xaxis": {
            "backgroundcolor": "#E5ECF6",
            "gridcolor": "white",
            "gridwidth": 2,
            "linecolor": "white",
            "showbackground": true,
            "ticks": "",
            "zerolinecolor": "white"
           },
           "yaxis": {
            "backgroundcolor": "#E5ECF6",
            "gridcolor": "white",
            "gridwidth": 2,
            "linecolor": "white",
            "showbackground": true,
            "ticks": "",
            "zerolinecolor": "white"
           },
           "zaxis": {
            "backgroundcolor": "#E5ECF6",
            "gridcolor": "white",
            "gridwidth": 2,
            "linecolor": "white",
            "showbackground": true,
            "ticks": "",
            "zerolinecolor": "white"
           }
          },
          "shapedefaults": {
           "line": {
            "color": "#2a3f5f"
           }
          },
          "ternary": {
           "aaxis": {
            "gridcolor": "white",
            "linecolor": "white",
            "ticks": ""
           },
           "baxis": {
            "gridcolor": "white",
            "linecolor": "white",
            "ticks": ""
           },
           "bgcolor": "#E5ECF6",
           "caxis": {
            "gridcolor": "white",
            "linecolor": "white",
            "ticks": ""
           }
          },
          "title": {
           "x": 0.05
          },
          "xaxis": {
           "automargin": true,
           "gridcolor": "white",
           "linecolor": "white",
           "ticks": "",
           "title": {
            "standoff": 15
           },
           "zerolinecolor": "white",
           "zerolinewidth": 2
          },
          "yaxis": {
           "automargin": true,
           "gridcolor": "white",
           "linecolor": "white",
           "ticks": "",
           "title": {
            "standoff": 15
           },
           "zerolinecolor": "white",
           "zerolinewidth": 2
          }
         }
        },
        "title": {
         "text": "Average Chance of an Ambulance, sky is clear"
        },
        "xaxis": {
         "anchor": "y",
         "constrain": "domain",
         "domain": [
          0,
          1
         ],
         "scaleanchor": "y",
         "title": {
          "text": "Day of the Week"
         }
        },
        "yaxis": {
         "anchor": "x",
         "autorange": "reversed",
         "constrain": "domain",
         "domain": [
          0,
          1
         ],
         "title": {
          "text": "region"
         }
        }
       }
      }
     },
     "metadata": {},
     "output_type": "display_data"
    },
    {
     "data": {
      "application/vnd.plotly.v1+json": {
       "config": {
        "plotlyServerURL": "https://plot.ly"
       },
       "data": [
        {
         "coloraxis": "coloraxis",
         "hoverinfo": "text",
         "hovertemplate": "Day of the Week: %{x}<br>region: %{y}<br>% chance of needing an ambulace: %{z}<extra></extra>",
         "name": "0",
         "text": [
          [
           0.43345286936602917,
           0.3814987030757814,
           0.4267140458851034,
           0.42661521412195835,
           0.38591592087909077,
           0.4026647725838262,
           0.39035165259413956
          ],
          [
           3.2049245968176256,
           2.9674332821266347,
           2.7935529428356385,
           2.570328761246709,
           3.2497066878964294,
           3.298055182396131,
           3.3329567731754786
          ],
          [
           3.11127540098067,
           3.047099952126037,
           2.765514790574506,
           2.4751033134075278,
           3.204813403900702,
           3.1271206486403478,
           3.1695949461334556
          ],
          [
           0.45418247294782543,
           0.4072688969218453,
           0.5115914445433669,
           0.5072489202369315,
           0.453688818566881,
           0.4451254306547087,
           0.44228824585033444
          ],
          [
           0.45966517183584654,
           0.4272982210253516,
           0.47171449661646503,
           0.39153701730199797,
           0.49157064556801017,
           0.44341337972045414,
           0.4263578058497371
          ],
          [
           0.6673096210655366,
           0.6866993090027491,
           0.6451171758329669,
           0.6479994827717391,
           0.6272668184639268,
           0.7701280338358935,
           0.7241978752715961
          ],
          [
           0.48705632343020594,
           0.43036098690739183,
           0.43881483008806504,
           0.35105903975988395,
           0.4926915196868928,
           0.43405258965252397,
           0.4777350311421421
          ]
         ],
         "texttemplate": "%{text:.2f}",
         "type": "heatmap",
         "x": [
          "Monday",
          "Tuesday",
          "Wednesday",
          "Thursday",
          "Friday",
          "Saturday",
          "Sunday"
         ],
         "xaxis": "x",
         "y": [
          "EASTERN REGION",
          "METROPOLITAN NORTH WEST REGION",
          "METROPOLITAN SOUTH EAST REGION",
          "NORTH EASTERN REGION",
          "NORTHERN REGION",
          "SOUTH WESTERN REGION",
          "WESTERN REGION"
         ],
         "yaxis": "y",
         "z": [
          [
           0.43345286936602917,
           0.3814987030757814,
           0.4267140458851034,
           0.42661521412195835,
           0.38591592087909077,
           0.4026647725838262,
           0.39035165259413956
          ],
          [
           3.2049245968176256,
           2.9674332821266347,
           2.7935529428356385,
           2.570328761246709,
           3.2497066878964294,
           3.298055182396131,
           3.3329567731754786
          ],
          [
           3.11127540098067,
           3.047099952126037,
           2.765514790574506,
           2.4751033134075278,
           3.204813403900702,
           3.1271206486403478,
           3.1695949461334556
          ],
          [
           0.45418247294782543,
           0.4072688969218453,
           0.5115914445433669,
           0.5072489202369315,
           0.453688818566881,
           0.4451254306547087,
           0.44228824585033444
          ],
          [
           0.45966517183584654,
           0.4272982210253516,
           0.47171449661646503,
           0.39153701730199797,
           0.49157064556801017,
           0.44341337972045414,
           0.4263578058497371
          ],
          [
           0.6673096210655366,
           0.6866993090027491,
           0.6451171758329669,
           0.6479994827717391,
           0.6272668184639268,
           0.7701280338358935,
           0.7241978752715961
          ],
          [
           0.48705632343020594,
           0.43036098690739183,
           0.43881483008806504,
           0.35105903975988395,
           0.4926915196868928,
           0.43405258965252397,
           0.4777350311421421
          ]
         ]
        }
       ],
       "layout": {
        "coloraxis": {
         "colorbar": {
          "title": {
           "text": "% chance of needing an ambulace"
          }
         },
         "colorscale": [
          [
           0,
           "#0d0887"
          ],
          [
           0.1111111111111111,
           "#46039f"
          ],
          [
           0.2222222222222222,
           "#7201a8"
          ],
          [
           0.3333333333333333,
           "#9c179e"
          ],
          [
           0.4444444444444444,
           "#bd3786"
          ],
          [
           0.5555555555555556,
           "#d8576b"
          ],
          [
           0.6666666666666666,
           "#ed7953"
          ],
          [
           0.7777777777777778,
           "#fb9f3a"
          ],
          [
           0.8888888888888888,
           "#fdca26"
          ],
          [
           1,
           "#f0f921"
          ]
         ]
        },
        "template": {
         "data": {
          "bar": [
           {
            "error_x": {
             "color": "#2a3f5f"
            },
            "error_y": {
             "color": "#2a3f5f"
            },
            "marker": {
             "line": {
              "color": "#E5ECF6",
              "width": 0.5
             },
             "pattern": {
              "fillmode": "overlay",
              "size": 10,
              "solidity": 0.2
             }
            },
            "type": "bar"
           }
          ],
          "barpolar": [
           {
            "marker": {
             "line": {
              "color": "#E5ECF6",
              "width": 0.5
             },
             "pattern": {
              "fillmode": "overlay",
              "size": 10,
              "solidity": 0.2
             }
            },
            "type": "barpolar"
           }
          ],
          "carpet": [
           {
            "aaxis": {
             "endlinecolor": "#2a3f5f",
             "gridcolor": "white",
             "linecolor": "white",
             "minorgridcolor": "white",
             "startlinecolor": "#2a3f5f"
            },
            "baxis": {
             "endlinecolor": "#2a3f5f",
             "gridcolor": "white",
             "linecolor": "white",
             "minorgridcolor": "white",
             "startlinecolor": "#2a3f5f"
            },
            "type": "carpet"
           }
          ],
          "choropleth": [
           {
            "colorbar": {
             "outlinewidth": 0,
             "ticks": ""
            },
            "type": "choropleth"
           }
          ],
          "contour": [
           {
            "colorbar": {
             "outlinewidth": 0,
             "ticks": ""
            },
            "colorscale": [
             [
              0,
              "#0d0887"
             ],
             [
              0.1111111111111111,
              "#46039f"
             ],
             [
              0.2222222222222222,
              "#7201a8"
             ],
             [
              0.3333333333333333,
              "#9c179e"
             ],
             [
              0.4444444444444444,
              "#bd3786"
             ],
             [
              0.5555555555555556,
              "#d8576b"
             ],
             [
              0.6666666666666666,
              "#ed7953"
             ],
             [
              0.7777777777777778,
              "#fb9f3a"
             ],
             [
              0.8888888888888888,
              "#fdca26"
             ],
             [
              1,
              "#f0f921"
             ]
            ],
            "type": "contour"
           }
          ],
          "contourcarpet": [
           {
            "colorbar": {
             "outlinewidth": 0,
             "ticks": ""
            },
            "type": "contourcarpet"
           }
          ],
          "heatmap": [
           {
            "colorbar": {
             "outlinewidth": 0,
             "ticks": ""
            },
            "colorscale": [
             [
              0,
              "#0d0887"
             ],
             [
              0.1111111111111111,
              "#46039f"
             ],
             [
              0.2222222222222222,
              "#7201a8"
             ],
             [
              0.3333333333333333,
              "#9c179e"
             ],
             [
              0.4444444444444444,
              "#bd3786"
             ],
             [
              0.5555555555555556,
              "#d8576b"
             ],
             [
              0.6666666666666666,
              "#ed7953"
             ],
             [
              0.7777777777777778,
              "#fb9f3a"
             ],
             [
              0.8888888888888888,
              "#fdca26"
             ],
             [
              1,
              "#f0f921"
             ]
            ],
            "type": "heatmap"
           }
          ],
          "heatmapgl": [
           {
            "colorbar": {
             "outlinewidth": 0,
             "ticks": ""
            },
            "colorscale": [
             [
              0,
              "#0d0887"
             ],
             [
              0.1111111111111111,
              "#46039f"
             ],
             [
              0.2222222222222222,
              "#7201a8"
             ],
             [
              0.3333333333333333,
              "#9c179e"
             ],
             [
              0.4444444444444444,
              "#bd3786"
             ],
             [
              0.5555555555555556,
              "#d8576b"
             ],
             [
              0.6666666666666666,
              "#ed7953"
             ],
             [
              0.7777777777777778,
              "#fb9f3a"
             ],
             [
              0.8888888888888888,
              "#fdca26"
             ],
             [
              1,
              "#f0f921"
             ]
            ],
            "type": "heatmapgl"
           }
          ],
          "histogram": [
           {
            "marker": {
             "pattern": {
              "fillmode": "overlay",
              "size": 10,
              "solidity": 0.2
             }
            },
            "type": "histogram"
           }
          ],
          "histogram2d": [
           {
            "colorbar": {
             "outlinewidth": 0,
             "ticks": ""
            },
            "colorscale": [
             [
              0,
              "#0d0887"
             ],
             [
              0.1111111111111111,
              "#46039f"
             ],
             [
              0.2222222222222222,
              "#7201a8"
             ],
             [
              0.3333333333333333,
              "#9c179e"
             ],
             [
              0.4444444444444444,
              "#bd3786"
             ],
             [
              0.5555555555555556,
              "#d8576b"
             ],
             [
              0.6666666666666666,
              "#ed7953"
             ],
             [
              0.7777777777777778,
              "#fb9f3a"
             ],
             [
              0.8888888888888888,
              "#fdca26"
             ],
             [
              1,
              "#f0f921"
             ]
            ],
            "type": "histogram2d"
           }
          ],
          "histogram2dcontour": [
           {
            "colorbar": {
             "outlinewidth": 0,
             "ticks": ""
            },
            "colorscale": [
             [
              0,
              "#0d0887"
             ],
             [
              0.1111111111111111,
              "#46039f"
             ],
             [
              0.2222222222222222,
              "#7201a8"
             ],
             [
              0.3333333333333333,
              "#9c179e"
             ],
             [
              0.4444444444444444,
              "#bd3786"
             ],
             [
              0.5555555555555556,
              "#d8576b"
             ],
             [
              0.6666666666666666,
              "#ed7953"
             ],
             [
              0.7777777777777778,
              "#fb9f3a"
             ],
             [
              0.8888888888888888,
              "#fdca26"
             ],
             [
              1,
              "#f0f921"
             ]
            ],
            "type": "histogram2dcontour"
           }
          ],
          "mesh3d": [
           {
            "colorbar": {
             "outlinewidth": 0,
             "ticks": ""
            },
            "type": "mesh3d"
           }
          ],
          "parcoords": [
           {
            "line": {
             "colorbar": {
              "outlinewidth": 0,
              "ticks": ""
             }
            },
            "type": "parcoords"
           }
          ],
          "pie": [
           {
            "automargin": true,
            "type": "pie"
           }
          ],
          "scatter": [
           {
            "fillpattern": {
             "fillmode": "overlay",
             "size": 10,
             "solidity": 0.2
            },
            "type": "scatter"
           }
          ],
          "scatter3d": [
           {
            "line": {
             "colorbar": {
              "outlinewidth": 0,
              "ticks": ""
             }
            },
            "marker": {
             "colorbar": {
              "outlinewidth": 0,
              "ticks": ""
             }
            },
            "type": "scatter3d"
           }
          ],
          "scattercarpet": [
           {
            "marker": {
             "colorbar": {
              "outlinewidth": 0,
              "ticks": ""
             }
            },
            "type": "scattercarpet"
           }
          ],
          "scattergeo": [
           {
            "marker": {
             "colorbar": {
              "outlinewidth": 0,
              "ticks": ""
             }
            },
            "type": "scattergeo"
           }
          ],
          "scattergl": [
           {
            "marker": {
             "colorbar": {
              "outlinewidth": 0,
              "ticks": ""
             }
            },
            "type": "scattergl"
           }
          ],
          "scattermapbox": [
           {
            "marker": {
             "colorbar": {
              "outlinewidth": 0,
              "ticks": ""
             }
            },
            "type": "scattermapbox"
           }
          ],
          "scatterpolar": [
           {
            "marker": {
             "colorbar": {
              "outlinewidth": 0,
              "ticks": ""
             }
            },
            "type": "scatterpolar"
           }
          ],
          "scatterpolargl": [
           {
            "marker": {
             "colorbar": {
              "outlinewidth": 0,
              "ticks": ""
             }
            },
            "type": "scatterpolargl"
           }
          ],
          "scatterternary": [
           {
            "marker": {
             "colorbar": {
              "outlinewidth": 0,
              "ticks": ""
             }
            },
            "type": "scatterternary"
           }
          ],
          "surface": [
           {
            "colorbar": {
             "outlinewidth": 0,
             "ticks": ""
            },
            "colorscale": [
             [
              0,
              "#0d0887"
             ],
             [
              0.1111111111111111,
              "#46039f"
             ],
             [
              0.2222222222222222,
              "#7201a8"
             ],
             [
              0.3333333333333333,
              "#9c179e"
             ],
             [
              0.4444444444444444,
              "#bd3786"
             ],
             [
              0.5555555555555556,
              "#d8576b"
             ],
             [
              0.6666666666666666,
              "#ed7953"
             ],
             [
              0.7777777777777778,
              "#fb9f3a"
             ],
             [
              0.8888888888888888,
              "#fdca26"
             ],
             [
              1,
              "#f0f921"
             ]
            ],
            "type": "surface"
           }
          ],
          "table": [
           {
            "cells": {
             "fill": {
              "color": "#EBF0F8"
             },
             "line": {
              "color": "white"
             }
            },
            "header": {
             "fill": {
              "color": "#C8D4E3"
             },
             "line": {
              "color": "white"
             }
            },
            "type": "table"
           }
          ]
         },
         "layout": {
          "annotationdefaults": {
           "arrowcolor": "#2a3f5f",
           "arrowhead": 0,
           "arrowwidth": 1
          },
          "autotypenumbers": "strict",
          "coloraxis": {
           "colorbar": {
            "outlinewidth": 0,
            "ticks": ""
           }
          },
          "colorscale": {
           "diverging": [
            [
             0,
             "#8e0152"
            ],
            [
             0.1,
             "#c51b7d"
            ],
            [
             0.2,
             "#de77ae"
            ],
            [
             0.3,
             "#f1b6da"
            ],
            [
             0.4,
             "#fde0ef"
            ],
            [
             0.5,
             "#f7f7f7"
            ],
            [
             0.6,
             "#e6f5d0"
            ],
            [
             0.7,
             "#b8e186"
            ],
            [
             0.8,
             "#7fbc41"
            ],
            [
             0.9,
             "#4d9221"
            ],
            [
             1,
             "#276419"
            ]
           ],
           "sequential": [
            [
             0,
             "#0d0887"
            ],
            [
             0.1111111111111111,
             "#46039f"
            ],
            [
             0.2222222222222222,
             "#7201a8"
            ],
            [
             0.3333333333333333,
             "#9c179e"
            ],
            [
             0.4444444444444444,
             "#bd3786"
            ],
            [
             0.5555555555555556,
             "#d8576b"
            ],
            [
             0.6666666666666666,
             "#ed7953"
            ],
            [
             0.7777777777777778,
             "#fb9f3a"
            ],
            [
             0.8888888888888888,
             "#fdca26"
            ],
            [
             1,
             "#f0f921"
            ]
           ],
           "sequentialminus": [
            [
             0,
             "#0d0887"
            ],
            [
             0.1111111111111111,
             "#46039f"
            ],
            [
             0.2222222222222222,
             "#7201a8"
            ],
            [
             0.3333333333333333,
             "#9c179e"
            ],
            [
             0.4444444444444444,
             "#bd3786"
            ],
            [
             0.5555555555555556,
             "#d8576b"
            ],
            [
             0.6666666666666666,
             "#ed7953"
            ],
            [
             0.7777777777777778,
             "#fb9f3a"
            ],
            [
             0.8888888888888888,
             "#fdca26"
            ],
            [
             1,
             "#f0f921"
            ]
           ]
          },
          "colorway": [
           "#636efa",
           "#EF553B",
           "#00cc96",
           "#ab63fa",
           "#FFA15A",
           "#19d3f3",
           "#FF6692",
           "#B6E880",
           "#FF97FF",
           "#FECB52"
          ],
          "font": {
           "color": "#2a3f5f"
          },
          "geo": {
           "bgcolor": "white",
           "lakecolor": "white",
           "landcolor": "#E5ECF6",
           "showlakes": true,
           "showland": true,
           "subunitcolor": "white"
          },
          "hoverlabel": {
           "align": "left"
          },
          "hovermode": "closest",
          "mapbox": {
           "style": "light"
          },
          "paper_bgcolor": "white",
          "plot_bgcolor": "#E5ECF6",
          "polar": {
           "angularaxis": {
            "gridcolor": "white",
            "linecolor": "white",
            "ticks": ""
           },
           "bgcolor": "#E5ECF6",
           "radialaxis": {
            "gridcolor": "white",
            "linecolor": "white",
            "ticks": ""
           }
          },
          "scene": {
           "xaxis": {
            "backgroundcolor": "#E5ECF6",
            "gridcolor": "white",
            "gridwidth": 2,
            "linecolor": "white",
            "showbackground": true,
            "ticks": "",
            "zerolinecolor": "white"
           },
           "yaxis": {
            "backgroundcolor": "#E5ECF6",
            "gridcolor": "white",
            "gridwidth": 2,
            "linecolor": "white",
            "showbackground": true,
            "ticks": "",
            "zerolinecolor": "white"
           },
           "zaxis": {
            "backgroundcolor": "#E5ECF6",
            "gridcolor": "white",
            "gridwidth": 2,
            "linecolor": "white",
            "showbackground": true,
            "ticks": "",
            "zerolinecolor": "white"
           }
          },
          "shapedefaults": {
           "line": {
            "color": "#2a3f5f"
           }
          },
          "ternary": {
           "aaxis": {
            "gridcolor": "white",
            "linecolor": "white",
            "ticks": ""
           },
           "baxis": {
            "gridcolor": "white",
            "linecolor": "white",
            "ticks": ""
           },
           "bgcolor": "#E5ECF6",
           "caxis": {
            "gridcolor": "white",
            "linecolor": "white",
            "ticks": ""
           }
          },
          "title": {
           "x": 0.05
          },
          "xaxis": {
           "automargin": true,
           "gridcolor": "white",
           "linecolor": "white",
           "ticks": "",
           "title": {
            "standoff": 15
           },
           "zerolinecolor": "white",
           "zerolinewidth": 2
          },
          "yaxis": {
           "automargin": true,
           "gridcolor": "white",
           "linecolor": "white",
           "ticks": "",
           "title": {
            "standoff": 15
           },
           "zerolinecolor": "white",
           "zerolinewidth": 2
          }
         }
        },
        "title": {
         "text": "Average Chance of an Ambulance, sky is clear"
        },
        "xaxis": {
         "anchor": "y",
         "constrain": "domain",
         "domain": [
          0,
          1
         ],
         "scaleanchor": "y",
         "title": {
          "text": "Day of the Week"
         }
        },
        "yaxis": {
         "anchor": "x",
         "autorange": "reversed",
         "constrain": "domain",
         "domain": [
          0,
          1
         ],
         "title": {
          "text": "region"
         }
        }
       }
      }
     },
     "metadata": {},
     "output_type": "display_data"
    }
   ],
   "source": [
    "\n",
    "min_date = pd.to_datetime(TRAIN_SPLIT_MIN_DATE)\n",
    "split_date = pd.to_datetime(TEST_TRAIN_SPLIT_DATE)\n",
    "max_date = pd.to_datetime(TEST_SPLIT_MAX_DATE)\n",
    "\n",
    "\n",
    "# testing how it pivots\n",
    "df_train = df\\\n",
    "    .query('date >= @min_date & date < @split_date')\\\n",
    "    .pivot_table(\n",
    "        index = ['day','hour_bin','region','sky'],\n",
    "        values = ['scaled_police', 'scaled_ambulance'],\n",
    "        aggfunc = 'sum'\n",
    "    ) / calc_num_weeks_between(min_date, split_date)\n",
    "\n",
    "\n",
    "\n",
    "# testing how it pivots\n",
    "df_test = df\\\n",
    "    .query('date >= @split_date & date < @max_date')\\\n",
    "    .pivot_table(\n",
    "        index = ['day','hour_bin','region','sky'],\n",
    "        values = ['scaled_police', 'scaled_ambulance'],\n",
    "        aggfunc = 'sum'\n",
    "    ) / calc_num_weeks_between(split_date, max_date)\n",
    "\n",
    "\n",
    "fig = display_final_df(df_train)\n",
    "fig = display_final_df(df_test)"
   ]
  },
  {
   "cell_type": "code",
   "execution_count": 11,
   "metadata": {},
   "outputs": [
    {
     "data": {
      "text/html": [
       "<div>\n",
       "<style scoped>\n",
       "    .dataframe tbody tr th:only-of-type {\n",
       "        vertical-align: middle;\n",
       "    }\n",
       "\n",
       "    .dataframe tbody tr th {\n",
       "        vertical-align: top;\n",
       "    }\n",
       "\n",
       "    .dataframe thead th {\n",
       "        text-align: right;\n",
       "    }\n",
       "</style>\n",
       "<table border=\"1\" class=\"dataframe\">\n",
       "  <thead>\n",
       "    <tr style=\"text-align: right;\">\n",
       "      <th></th>\n",
       "      <th>Unnamed: 0</th>\n",
       "      <th>police_needed</th>\n",
       "      <th>ambulance_needed</th>\n",
       "      <th>scaled_police</th>\n",
       "      <th>scaled_ambulance</th>\n",
       "    </tr>\n",
       "    <tr>\n",
       "      <th>date_stamp</th>\n",
       "      <th></th>\n",
       "      <th></th>\n",
       "      <th></th>\n",
       "      <th></th>\n",
       "      <th></th>\n",
       "    </tr>\n",
       "  </thead>\n",
       "  <tbody>\n",
       "    <tr>\n",
       "      <th>2015-02-13</th>\n",
       "      <td>3122</td>\n",
       "      <td>1</td>\n",
       "      <td>2</td>\n",
       "      <td>9.424</td>\n",
       "      <td>18.848</td>\n",
       "    </tr>\n",
       "    <tr>\n",
       "      <th>2015-04-17</th>\n",
       "      <td>48478</td>\n",
       "      <td>9</td>\n",
       "      <td>11</td>\n",
       "      <td>84.816</td>\n",
       "      <td>103.664</td>\n",
       "    </tr>\n",
       "    <tr>\n",
       "      <th>2015-05-08</th>\n",
       "      <td>24117</td>\n",
       "      <td>3</td>\n",
       "      <td>3</td>\n",
       "      <td>28.272</td>\n",
       "      <td>28.272</td>\n",
       "    </tr>\n",
       "    <tr>\n",
       "      <th>2015-06-05</th>\n",
       "      <td>37612</td>\n",
       "      <td>7</td>\n",
       "      <td>8</td>\n",
       "      <td>65.968</td>\n",
       "      <td>75.392</td>\n",
       "    </tr>\n",
       "    <tr>\n",
       "      <th>2015-07-17</th>\n",
       "      <td>15142</td>\n",
       "      <td>1</td>\n",
       "      <td>2</td>\n",
       "      <td>9.424</td>\n",
       "      <td>18.848</td>\n",
       "    </tr>\n",
       "    <tr>\n",
       "      <th>...</th>\n",
       "      <td>...</td>\n",
       "      <td>...</td>\n",
       "      <td>...</td>\n",
       "      <td>...</td>\n",
       "      <td>...</td>\n",
       "    </tr>\n",
       "    <tr>\n",
       "      <th>2019-11-08</th>\n",
       "      <td>58300</td>\n",
       "      <td>1</td>\n",
       "      <td>1</td>\n",
       "      <td>9.424</td>\n",
       "      <td>9.424</td>\n",
       "    </tr>\n",
       "    <tr>\n",
       "      <th>2019-12-06</th>\n",
       "      <td>225819</td>\n",
       "      <td>4</td>\n",
       "      <td>4</td>\n",
       "      <td>37.696</td>\n",
       "      <td>37.696</td>\n",
       "    </tr>\n",
       "    <tr>\n",
       "      <th>2019-12-20</th>\n",
       "      <td>189572</td>\n",
       "      <td>2</td>\n",
       "      <td>3</td>\n",
       "      <td>18.848</td>\n",
       "      <td>28.272</td>\n",
       "    </tr>\n",
       "    <tr>\n",
       "      <th>2020-02-14</th>\n",
       "      <td>521668</td>\n",
       "      <td>5</td>\n",
       "      <td>8</td>\n",
       "      <td>47.120</td>\n",
       "      <td>75.392</td>\n",
       "    </tr>\n",
       "    <tr>\n",
       "      <th>2020-05-01</th>\n",
       "      <td>190845</td>\n",
       "      <td>3</td>\n",
       "      <td>3</td>\n",
       "      <td>28.272</td>\n",
       "      <td>28.272</td>\n",
       "    </tr>\n",
       "  </tbody>\n",
       "</table>\n",
       "<p>64 rows × 5 columns</p>\n",
       "</div>"
      ],
      "text/plain": [
       "            Unnamed: 0  police_needed  ambulance_needed  scaled_police  \\\n",
       "date_stamp                                                               \n",
       "2015-02-13        3122              1                 2          9.424   \n",
       "2015-04-17       48478              9                11         84.816   \n",
       "2015-05-08       24117              3                 3         28.272   \n",
       "2015-06-05       37612              7                 8         65.968   \n",
       "2015-07-17       15142              1                 2          9.424   \n",
       "...                ...            ...               ...            ...   \n",
       "2019-11-08       58300              1                 1          9.424   \n",
       "2019-12-06      225819              4                 4         37.696   \n",
       "2019-12-20      189572              2                 3         18.848   \n",
       "2020-02-14      521668              5                 8         47.120   \n",
       "2020-05-01      190845              3                 3         28.272   \n",
       "\n",
       "            scaled_ambulance  \n",
       "date_stamp                    \n",
       "2015-02-13            18.848  \n",
       "2015-04-17           103.664  \n",
       "2015-05-08            28.272  \n",
       "2015-06-05            75.392  \n",
       "2015-07-17            18.848  \n",
       "...                      ...  \n",
       "2019-11-08             9.424  \n",
       "2019-12-06            37.696  \n",
       "2019-12-20            28.272  \n",
       "2020-02-14            75.392  \n",
       "2020-05-01            28.272  \n",
       "\n",
       "[64 rows x 5 columns]"
      ]
     },
     "execution_count": 11,
     "metadata": {},
     "output_type": "execute_result"
    }
   ],
   "source": [
    "# exploring the values of crashes at one friday afternoon with rainy skys in the south eastern metro region\n",
    "df.query('hour_bin == \"Afternoon\" & day == \"Friday\" & sky == \"Not clear\" & region == \"METROPOLITAN SOUTH EAST REGION\"').groupby('date_stamp').sum()"
   ]
  },
  {
   "cell_type": "code",
   "execution_count": 12,
   "metadata": {},
   "outputs": [
    {
     "data": {
      "text/html": [
       "<div>\n",
       "<style scoped>\n",
       "    .dataframe tbody tr th:only-of-type {\n",
       "        vertical-align: middle;\n",
       "    }\n",
       "\n",
       "    .dataframe tbody tr th {\n",
       "        vertical-align: top;\n",
       "    }\n",
       "\n",
       "    .dataframe thead th {\n",
       "        text-align: right;\n",
       "    }\n",
       "</style>\n",
       "<table border=\"1\" class=\"dataframe\">\n",
       "  <thead>\n",
       "    <tr style=\"text-align: right;\">\n",
       "      <th></th>\n",
       "      <th>Unnamed: 0</th>\n",
       "      <th>police_needed</th>\n",
       "      <th>ambulance_needed</th>\n",
       "      <th>scaled_police</th>\n",
       "      <th>scaled_ambulance</th>\n",
       "    </tr>\n",
       "    <tr>\n",
       "      <th>date_stamp</th>\n",
       "      <th></th>\n",
       "      <th></th>\n",
       "      <th></th>\n",
       "      <th></th>\n",
       "      <th></th>\n",
       "    </tr>\n",
       "  </thead>\n",
       "  <tbody>\n",
       "    <tr>\n",
       "      <th>2015-01-02</th>\n",
       "      <td>16453</td>\n",
       "      <td>3</td>\n",
       "      <td>4</td>\n",
       "      <td>3.356125</td>\n",
       "      <td>4.474834</td>\n",
       "    </tr>\n",
       "    <tr>\n",
       "      <th>2015-01-09</th>\n",
       "      <td>63162</td>\n",
       "      <td>6</td>\n",
       "      <td>7</td>\n",
       "      <td>6.712251</td>\n",
       "      <td>7.830959</td>\n",
       "    </tr>\n",
       "    <tr>\n",
       "      <th>2015-01-16</th>\n",
       "      <td>2579</td>\n",
       "      <td>4</td>\n",
       "      <td>5</td>\n",
       "      <td>4.474834</td>\n",
       "      <td>5.593542</td>\n",
       "    </tr>\n",
       "    <tr>\n",
       "      <th>2015-01-23</th>\n",
       "      <td>6068</td>\n",
       "      <td>5</td>\n",
       "      <td>6</td>\n",
       "      <td>5.593542</td>\n",
       "      <td>6.712251</td>\n",
       "    </tr>\n",
       "    <tr>\n",
       "      <th>2015-01-30</th>\n",
       "      <td>16435</td>\n",
       "      <td>6</td>\n",
       "      <td>7</td>\n",
       "      <td>6.712251</td>\n",
       "      <td>7.830959</td>\n",
       "    </tr>\n",
       "    <tr>\n",
       "      <th>...</th>\n",
       "      <td>...</td>\n",
       "      <td>...</td>\n",
       "      <td>...</td>\n",
       "      <td>...</td>\n",
       "      <td>...</td>\n",
       "    </tr>\n",
       "    <tr>\n",
       "      <th>2020-09-18</th>\n",
       "      <td>137636</td>\n",
       "      <td>2</td>\n",
       "      <td>2</td>\n",
       "      <td>2.237417</td>\n",
       "      <td>2.237417</td>\n",
       "    </tr>\n",
       "    <tr>\n",
       "      <th>2020-10-02</th>\n",
       "      <td>323773</td>\n",
       "      <td>5</td>\n",
       "      <td>5</td>\n",
       "      <td>5.593542</td>\n",
       "      <td>5.593542</td>\n",
       "    </tr>\n",
       "    <tr>\n",
       "      <th>2020-10-09</th>\n",
       "      <td>206109</td>\n",
       "      <td>3</td>\n",
       "      <td>3</td>\n",
       "      <td>3.356125</td>\n",
       "      <td>3.356125</td>\n",
       "    </tr>\n",
       "    <tr>\n",
       "      <th>2020-10-16</th>\n",
       "      <td>137727</td>\n",
       "      <td>2</td>\n",
       "      <td>2</td>\n",
       "      <td>2.237417</td>\n",
       "      <td>2.237417</td>\n",
       "    </tr>\n",
       "    <tr>\n",
       "      <th>2020-11-06</th>\n",
       "      <td>474646</td>\n",
       "      <td>7</td>\n",
       "      <td>7</td>\n",
       "      <td>7.830959</td>\n",
       "      <td>7.830959</td>\n",
       "    </tr>\n",
       "  </tbody>\n",
       "</table>\n",
       "<p>287 rows × 5 columns</p>\n",
       "</div>"
      ],
      "text/plain": [
       "            Unnamed: 0  police_needed  ambulance_needed  scaled_police  \\\n",
       "date_stamp                                                               \n",
       "2015-01-02       16453              3                 4       3.356125   \n",
       "2015-01-09       63162              6                 7       6.712251   \n",
       "2015-01-16        2579              4                 5       4.474834   \n",
       "2015-01-23        6068              5                 6       5.593542   \n",
       "2015-01-30       16435              6                 7       6.712251   \n",
       "...                ...            ...               ...            ...   \n",
       "2020-09-18      137636              2                 2       2.237417   \n",
       "2020-10-02      323773              5                 5       5.593542   \n",
       "2020-10-09      206109              3                 3       3.356125   \n",
       "2020-10-16      137727              2                 2       2.237417   \n",
       "2020-11-06      474646              7                 7       7.830959   \n",
       "\n",
       "            scaled_ambulance  \n",
       "date_stamp                    \n",
       "2015-01-02          4.474834  \n",
       "2015-01-09          7.830959  \n",
       "2015-01-16          5.593542  \n",
       "2015-01-23          6.712251  \n",
       "2015-01-30          7.830959  \n",
       "...                      ...  \n",
       "2020-09-18          2.237417  \n",
       "2020-10-02          5.593542  \n",
       "2020-10-09          3.356125  \n",
       "2020-10-16          2.237417  \n",
       "2020-11-06          7.830959  \n",
       "\n",
       "[287 rows x 5 columns]"
      ]
     },
     "execution_count": 12,
     "metadata": {},
     "output_type": "execute_result"
    }
   ],
   "source": [
    "# exploring the values of crashes at one friday afternoon with clear skys in the south eastern metro region\n",
    "df.query('hour_bin == \"Afternoon\" & day == \"Friday\" & sky == \"Clear\" & region == \"METROPOLITAN SOUTH EAST REGION\"').groupby('date_stamp').sum()"
   ]
  },
  {
   "cell_type": "code",
   "execution_count": 13,
   "metadata": {},
   "outputs": [
    {
     "data": {
      "text/html": [
       "<div>\n",
       "<style scoped>\n",
       "    .dataframe tbody tr th:only-of-type {\n",
       "        vertical-align: middle;\n",
       "    }\n",
       "\n",
       "    .dataframe tbody tr th {\n",
       "        vertical-align: top;\n",
       "    }\n",
       "\n",
       "    .dataframe thead th {\n",
       "        text-align: right;\n",
       "    }\n",
       "</style>\n",
       "<table border=\"1\" class=\"dataframe\">\n",
       "  <thead>\n",
       "    <tr style=\"text-align: right;\">\n",
       "      <th></th>\n",
       "      <th>Day of the Week</th>\n",
       "      <th>Part of Day</th>\n",
       "      <th>Region</th>\n",
       "      <th>Sky</th>\n",
       "      <th>Ambulance</th>\n",
       "      <th>Police</th>\n",
       "    </tr>\n",
       "  </thead>\n",
       "  <tbody>\n",
       "    <tr>\n",
       "      <th>0</th>\n",
       "      <td>Friday</td>\n",
       "      <td>Afternoon</td>\n",
       "      <td>EASTERN REGION</td>\n",
       "      <td>Clear</td>\n",
       "      <td>0.798060</td>\n",
       "      <td>0.655549</td>\n",
       "    </tr>\n",
       "    <tr>\n",
       "      <th>1</th>\n",
       "      <td>Friday</td>\n",
       "      <td>Afternoon</td>\n",
       "      <td>EASTERN REGION</td>\n",
       "      <td>Not clear</td>\n",
       "      <td>1.500637</td>\n",
       "      <td>1.200510</td>\n",
       "    </tr>\n",
       "    <tr>\n",
       "      <th>2</th>\n",
       "      <td>Friday</td>\n",
       "      <td>Afternoon</td>\n",
       "      <td>METROPOLITAN NORTH WEST REGION</td>\n",
       "      <td>Clear</td>\n",
       "      <td>5.116132</td>\n",
       "      <td>4.082930</td>\n",
       "    </tr>\n",
       "    <tr>\n",
       "      <th>3</th>\n",
       "      <td>Friday</td>\n",
       "      <td>Afternoon</td>\n",
       "      <td>METROPOLITAN NORTH WEST REGION</td>\n",
       "      <td>Not clear</td>\n",
       "      <td>6.662828</td>\n",
       "      <td>5.222217</td>\n",
       "    </tr>\n",
       "    <tr>\n",
       "      <th>4</th>\n",
       "      <td>Friday</td>\n",
       "      <td>Afternoon</td>\n",
       "      <td>METROPOLITAN SOUTH EAST REGION</td>\n",
       "      <td>Clear</td>\n",
       "      <td>5.978321</td>\n",
       "      <td>4.638721</td>\n",
       "    </tr>\n",
       "    <tr>\n",
       "      <th>5</th>\n",
       "      <td>Friday</td>\n",
       "      <td>Afternoon</td>\n",
       "      <td>METROPOLITAN SOUTH EAST REGION</td>\n",
       "      <td>Not clear</td>\n",
       "      <td>9.303949</td>\n",
       "      <td>7.683261</td>\n",
       "    </tr>\n",
       "    <tr>\n",
       "      <th>6</th>\n",
       "      <td>Friday</td>\n",
       "      <td>Afternoon</td>\n",
       "      <td>NORTH EASTERN REGION</td>\n",
       "      <td>Clear</td>\n",
       "      <td>1.118708</td>\n",
       "      <td>0.819436</td>\n",
       "    </tr>\n",
       "    <tr>\n",
       "      <th>7</th>\n",
       "      <td>Friday</td>\n",
       "      <td>Afternoon</td>\n",
       "      <td>NORTH EASTERN REGION</td>\n",
       "      <td>Not clear</td>\n",
       "      <td>0.780331</td>\n",
       "      <td>0.660280</td>\n",
       "    </tr>\n",
       "    <tr>\n",
       "      <th>8</th>\n",
       "      <td>Friday</td>\n",
       "      <td>Afternoon</td>\n",
       "      <td>NORTHERN REGION</td>\n",
       "      <td>Clear</td>\n",
       "      <td>0.954821</td>\n",
       "      <td>0.783808</td>\n",
       "    </tr>\n",
       "    <tr>\n",
       "      <th>9</th>\n",
       "      <td>Friday</td>\n",
       "      <td>Afternoon</td>\n",
       "      <td>NORTHERN REGION</td>\n",
       "      <td>Not clear</td>\n",
       "      <td>1.320561</td>\n",
       "      <td>1.020433</td>\n",
       "    </tr>\n",
       "    <tr>\n",
       "      <th>10</th>\n",
       "      <td>Friday</td>\n",
       "      <td>Afternoon</td>\n",
       "      <td>SOUTH WESTERN REGION</td>\n",
       "      <td>Clear</td>\n",
       "      <td>1.061704</td>\n",
       "      <td>0.876440</td>\n",
       "    </tr>\n",
       "    <tr>\n",
       "      <th>11</th>\n",
       "      <td>Friday</td>\n",
       "      <td>Afternoon</td>\n",
       "      <td>SOUTH WESTERN REGION</td>\n",
       "      <td>Not clear</td>\n",
       "      <td>1.380586</td>\n",
       "      <td>1.260535</td>\n",
       "    </tr>\n",
       "    <tr>\n",
       "      <th>12</th>\n",
       "      <td>Friday</td>\n",
       "      <td>Afternoon</td>\n",
       "      <td>WESTERN REGION</td>\n",
       "      <td>Clear</td>\n",
       "      <td>0.776683</td>\n",
       "      <td>0.648423</td>\n",
       "    </tr>\n",
       "    <tr>\n",
       "      <th>13</th>\n",
       "      <td>Friday</td>\n",
       "      <td>Afternoon</td>\n",
       "      <td>WESTERN REGION</td>\n",
       "      <td>Not clear</td>\n",
       "      <td>0.900382</td>\n",
       "      <td>0.840357</td>\n",
       "    </tr>\n",
       "    <tr>\n",
       "      <th>14</th>\n",
       "      <td>Friday</td>\n",
       "      <td>Evening</td>\n",
       "      <td>EASTERN REGION</td>\n",
       "      <td>Clear</td>\n",
       "      <td>0.345358</td>\n",
       "      <td>0.338451</td>\n",
       "    </tr>\n",
       "    <tr>\n",
       "      <th>15</th>\n",
       "      <td>Friday</td>\n",
       "      <td>Evening</td>\n",
       "      <td>EASTERN REGION</td>\n",
       "      <td>Not clear</td>\n",
       "      <td>1.799912</td>\n",
       "      <td>1.554470</td>\n",
       "    </tr>\n",
       "    <tr>\n",
       "      <th>16</th>\n",
       "      <td>Friday</td>\n",
       "      <td>Evening</td>\n",
       "      <td>METROPOLITAN NORTH WEST REGION</td>\n",
       "      <td>Clear</td>\n",
       "      <td>3.018431</td>\n",
       "      <td>2.631630</td>\n",
       "    </tr>\n",
       "    <tr>\n",
       "      <th>17</th>\n",
       "      <td>Friday</td>\n",
       "      <td>Evening</td>\n",
       "      <td>METROPOLITAN NORTH WEST REGION</td>\n",
       "      <td>Not clear</td>\n",
       "      <td>6.381507</td>\n",
       "      <td>4.990665</td>\n",
       "    </tr>\n",
       "    <tr>\n",
       "      <th>18</th>\n",
       "      <td>Friday</td>\n",
       "      <td>Evening</td>\n",
       "      <td>METROPOLITAN SOUTH EAST REGION</td>\n",
       "      <td>Clear</td>\n",
       "      <td>2.749052</td>\n",
       "      <td>2.376065</td>\n",
       "    </tr>\n",
       "    <tr>\n",
       "      <th>19</th>\n",
       "      <td>Friday</td>\n",
       "      <td>Evening</td>\n",
       "      <td>METROPOLITAN SOUTH EAST REGION</td>\n",
       "      <td>Not clear</td>\n",
       "      <td>6.954206</td>\n",
       "      <td>5.808807</td>\n",
       "    </tr>\n",
       "  </tbody>\n",
       "</table>\n",
       "</div>"
      ],
      "text/plain": [
       "   Day of the Week Part of Day                          Region        Sky  \\\n",
       "0           Friday   Afternoon                  EASTERN REGION      Clear   \n",
       "1           Friday   Afternoon                  EASTERN REGION  Not clear   \n",
       "2           Friday   Afternoon  METROPOLITAN NORTH WEST REGION      Clear   \n",
       "3           Friday   Afternoon  METROPOLITAN NORTH WEST REGION  Not clear   \n",
       "4           Friday   Afternoon  METROPOLITAN SOUTH EAST REGION      Clear   \n",
       "5           Friday   Afternoon  METROPOLITAN SOUTH EAST REGION  Not clear   \n",
       "6           Friday   Afternoon            NORTH EASTERN REGION      Clear   \n",
       "7           Friday   Afternoon            NORTH EASTERN REGION  Not clear   \n",
       "8           Friday   Afternoon                 NORTHERN REGION      Clear   \n",
       "9           Friday   Afternoon                 NORTHERN REGION  Not clear   \n",
       "10          Friday   Afternoon            SOUTH WESTERN REGION      Clear   \n",
       "11          Friday   Afternoon            SOUTH WESTERN REGION  Not clear   \n",
       "12          Friday   Afternoon                  WESTERN REGION      Clear   \n",
       "13          Friday   Afternoon                  WESTERN REGION  Not clear   \n",
       "14          Friday     Evening                  EASTERN REGION      Clear   \n",
       "15          Friday     Evening                  EASTERN REGION  Not clear   \n",
       "16          Friday     Evening  METROPOLITAN NORTH WEST REGION      Clear   \n",
       "17          Friday     Evening  METROPOLITAN NORTH WEST REGION  Not clear   \n",
       "18          Friday     Evening  METROPOLITAN SOUTH EAST REGION      Clear   \n",
       "19          Friday     Evening  METROPOLITAN SOUTH EAST REGION  Not clear   \n",
       "\n",
       "    Ambulance    Police  \n",
       "0    0.798060  0.655549  \n",
       "1    1.500637  1.200510  \n",
       "2    5.116132  4.082930  \n",
       "3    6.662828  5.222217  \n",
       "4    5.978321  4.638721  \n",
       "5    9.303949  7.683261  \n",
       "6    1.118708  0.819436  \n",
       "7    0.780331  0.660280  \n",
       "8    0.954821  0.783808  \n",
       "9    1.320561  1.020433  \n",
       "10   1.061704  0.876440  \n",
       "11   1.380586  1.260535  \n",
       "12   0.776683  0.648423  \n",
       "13   0.900382  0.840357  \n",
       "14   0.345358  0.338451  \n",
       "15   1.799912  1.554470  \n",
       "16   3.018431  2.631630  \n",
       "17   6.381507  4.990665  \n",
       "18   2.749052  2.376065  \n",
       "19   6.954206  5.808807  "
      ]
     },
     "execution_count": 13,
     "metadata": {},
     "output_type": "execute_result"
    }
   ],
   "source": [
    "area_type = 'region' \n",
    "# area_type = 'lga' \n",
    "\n",
    "\n",
    "\n",
    "\n",
    "# testing how it pivots\n",
    "df_train = df\\\n",
    "    .query('date >= @min_date & date < @split_date')\\\n",
    "    .pivot_table(\n",
    "        index = ['day','hour_bin',area_type,'sky'],\n",
    "        values = ['scaled_police', 'scaled_ambulance'],\n",
    "        aggfunc = 'sum'\n",
    "    ) / calc_num_weeks_between(min_date, split_date)\n",
    "\n",
    "\n",
    "\n",
    "# testing how it pivots\n",
    "df_test = df\\\n",
    "    .query('date >= @split_date & date < @max_date')\\\n",
    "    .pivot_table(\n",
    "        index = ['day','hour_bin',area_type,'sky'],\n",
    "        values = ['scaled_police', 'scaled_ambulance'],\n",
    "        aggfunc = 'sum'\n",
    "    ) / calc_num_weeks_between(split_date, max_date)\n",
    "\n",
    "\n",
    "columns = {\n",
    "    'hour_bin': 'Part of Day',\n",
    "    'day': 'Day of the Week',\n",
    "    'sky': 'Sky',\n",
    "    'region': 'Region',\n",
    "    'lga': 'LGA',\n",
    "    'scaled_police':'Police',\n",
    "    'scaled_ambulance': 'Ambulance',\n",
    "    }\n",
    "\n",
    "df_train = df_train.reset_index().rename(columns = columns)\n",
    "df_test = df_test.reset_index().rename(columns = columns)\n",
    "\n",
    "# saving data\n",
    "\n",
    "df_train.to_csv(ROOT_DIR + ('_' + area_type +'.').join(TRAINING_DATA_DIR.split('.')), index= False)\n",
    "df_test.to_csv(ROOT_DIR + ('_' + area_type +'.').join(TESTING_DATA_DIR.split('.')), index= False)\n",
    "\n",
    "df_train.head(20)"
   ]
  }
 ],
 "metadata": {
  "kernelspec": {
   "display_name": "Python 3",
   "language": "python",
   "name": "python3"
  },
  "language_info": {
   "codemirror_mode": {
    "name": "ipython",
    "version": 3
   },
   "file_extension": ".py",
   "mimetype": "text/x-python",
   "name": "python",
   "nbconvert_exporter": "python",
   "pygments_lexer": "ipython3",
   "version": "3.9.13"
  },
  "orig_nbformat": 4
 },
 "nbformat": 4,
 "nbformat_minor": 2
}
