{
 "cells": [
  {
   "cell_type": "code",
   "execution_count": 1,
   "metadata": {},
   "outputs": [],
   "source": [
    "import pandas as pd\n",
    "import numpy as np\n",
    "import plotly.express as px\n",
    "import sys\n",
    "import datetime\n",
    "import math\n",
    "\n",
    "ROOT_DIR = '../'\n",
    "sys.path.insert(1, '../production_code/')\n",
    "from constants import *"
   ]
  },
  {
   "attachments": {},
   "cell_type": "markdown",
   "metadata": {},
   "source": [
    "# importing data"
   ]
  },
  {
   "cell_type": "code",
   "execution_count": 2,
   "metadata": {},
   "outputs": [
    {
     "name": "stdout",
     "output_type": "stream",
     "text": [
      "(70367, 11)\n"
     ]
    },
    {
     "data": {
      "text/html": [
       "<div>\n",
       "<style scoped>\n",
       "    .dataframe tbody tr th:only-of-type {\n",
       "        vertical-align: middle;\n",
       "    }\n",
       "\n",
       "    .dataframe tbody tr th {\n",
       "        vertical-align: top;\n",
       "    }\n",
       "\n",
       "    .dataframe thead th {\n",
       "        text-align: right;\n",
       "    }\n",
       "</style>\n",
       "<table border=\"1\" class=\"dataframe\">\n",
       "  <thead>\n",
       "    <tr style=\"text-align: right;\">\n",
       "      <th></th>\n",
       "      <th>Unnamed: 0</th>\n",
       "      <th>ACCIDENT_NO</th>\n",
       "      <th>date</th>\n",
       "      <th>day</th>\n",
       "      <th>hour_bin</th>\n",
       "      <th>region</th>\n",
       "      <th>lga</th>\n",
       "      <th>sky</th>\n",
       "      <th>police_needed</th>\n",
       "      <th>ambulance_needed</th>\n",
       "      <th>date_stamp</th>\n",
       "    </tr>\n",
       "  </thead>\n",
       "  <tbody>\n",
       "    <tr>\n",
       "      <th>0</th>\n",
       "      <td>0</td>\n",
       "      <td>T20150000056</td>\n",
       "      <td>2015-02-01 03:00:00</td>\n",
       "      <td>Sunday</td>\n",
       "      <td>Night</td>\n",
       "      <td>EASTERN REGION</td>\n",
       "      <td>BAW BAW</td>\n",
       "      <td>Clear</td>\n",
       "      <td>1</td>\n",
       "      <td>True</td>\n",
       "      <td>2015-02-01</td>\n",
       "    </tr>\n",
       "    <tr>\n",
       "      <th>1</th>\n",
       "      <td>1</td>\n",
       "      <td>T20150000060</td>\n",
       "      <td>2015-02-01 07:30:00</td>\n",
       "      <td>Sunday</td>\n",
       "      <td>Morning</td>\n",
       "      <td>WESTERN REGION</td>\n",
       "      <td>HEPBURN</td>\n",
       "      <td>Clear</td>\n",
       "      <td>1</td>\n",
       "      <td>True</td>\n",
       "      <td>2015-02-01</td>\n",
       "    </tr>\n",
       "    <tr>\n",
       "      <th>2</th>\n",
       "      <td>2</td>\n",
       "      <td>T20150000063</td>\n",
       "      <td>2015-02-01 08:30:00</td>\n",
       "      <td>Sunday</td>\n",
       "      <td>Morning</td>\n",
       "      <td>SOUTH WESTERN REGION</td>\n",
       "      <td>SOUTHERN GRAMPIANS</td>\n",
       "      <td>Clear</td>\n",
       "      <td>1</td>\n",
       "      <td>True</td>\n",
       "      <td>2015-02-01</td>\n",
       "    </tr>\n",
       "  </tbody>\n",
       "</table>\n",
       "</div>"
      ],
      "text/plain": [
       "   Unnamed: 0   ACCIDENT_NO                date     day hour_bin  \\\n",
       "0           0  T20150000056 2015-02-01 03:00:00  Sunday    Night   \n",
       "1           1  T20150000060 2015-02-01 07:30:00  Sunday  Morning   \n",
       "2           2  T20150000063 2015-02-01 08:30:00  Sunday  Morning   \n",
       "\n",
       "                 region                 lga    sky  police_needed  \\\n",
       "0        EASTERN REGION             BAW BAW  Clear              1   \n",
       "1        WESTERN REGION             HEPBURN  Clear              1   \n",
       "2  SOUTH WESTERN REGION  SOUTHERN GRAMPIANS  Clear              1   \n",
       "\n",
       "   ambulance_needed date_stamp  \n",
       "0              True 2015-02-01  \n",
       "1              True 2015-02-01  \n",
       "2              True 2015-02-01  "
      ]
     },
     "execution_count": 2,
     "metadata": {},
     "output_type": "execute_result"
    }
   ],
   "source": [
    "# importing data\n",
    "df = pd.read_csv(ROOT_DIR + FULLY_CLEANED_DATA_DIR)\n",
    "\n",
    "# fixing date type\n",
    "df.loc[:,'date'] = pd.to_datetime(df.loc[:,'date'])\n",
    "\n",
    "# adding pure date stamp\n",
    "df.loc[:,'date_stamp'] =  pd.to_datetime(df.loc[:,'date'].dt.date)\n",
    "\n",
    "day_dict = {0: \"Monday\", 1: \"Tuesday\", 2: \"Wednesday\", 3: \"Thursday\", 4: \"Friday\", 5: \"Saturday\", 6: \"Sunday\"}\n",
    "hour_bin_dict = {0: 'Night', 1: 'Morning', 2:'Afternoon',3:'Evening'}\n",
    "\n",
    "# displaying data\n",
    "print(df.shape)\n",
    "df.head(3)\n"
   ]
  },
  {
   "attachments": {},
   "cell_type": "markdown",
   "metadata": {},
   "source": [
    "# Main Issues\n",
    "\n",
    "### initial pivot\n",
    "\n",
    "after completing an intial pivot of the data, there are two main issues\n",
    "\n",
    "1. there is no larger date grouping, so if we have 6 years of data, the calculated needed will be double that of 3 years\n",
    "2. Rainy days dont apear as often as clear days, so currently, looks like rainy days are less dangerous\n",
    "3. some less populated regions have very little need\n"
   ]
  },
  {
   "cell_type": "code",
   "execution_count": 3,
   "metadata": {},
   "outputs": [
    {
     "data": {
      "text/html": [
       "<div>\n",
       "<style scoped>\n",
       "    .dataframe tbody tr th:only-of-type {\n",
       "        vertical-align: middle;\n",
       "    }\n",
       "\n",
       "    .dataframe tbody tr th {\n",
       "        vertical-align: top;\n",
       "    }\n",
       "\n",
       "    .dataframe thead th {\n",
       "        text-align: right;\n",
       "    }\n",
       "</style>\n",
       "<table border=\"1\" class=\"dataframe\">\n",
       "  <thead>\n",
       "    <tr style=\"text-align: right;\">\n",
       "      <th></th>\n",
       "      <th></th>\n",
       "      <th></th>\n",
       "      <th></th>\n",
       "      <th>ambulance_needed</th>\n",
       "      <th>police_needed</th>\n",
       "    </tr>\n",
       "    <tr>\n",
       "      <th>day</th>\n",
       "      <th>hour_bin</th>\n",
       "      <th>region</th>\n",
       "      <th>sky</th>\n",
       "      <th></th>\n",
       "      <th></th>\n",
       "    </tr>\n",
       "  </thead>\n",
       "  <tbody>\n",
       "    <tr>\n",
       "      <th rowspan=\"5\" valign=\"top\">Friday</th>\n",
       "      <th rowspan=\"5\" valign=\"top\">Afternoon</th>\n",
       "      <th rowspan=\"2\" valign=\"top\">EASTERN REGION</th>\n",
       "      <th>Clear</th>\n",
       "      <td>218</td>\n",
       "      <td>178</td>\n",
       "    </tr>\n",
       "    <tr>\n",
       "      <th>Not clear</th>\n",
       "      <td>39</td>\n",
       "      <td>33</td>\n",
       "    </tr>\n",
       "    <tr>\n",
       "      <th rowspan=\"2\" valign=\"top\">METROPOLITAN NORTH WEST REGION</th>\n",
       "      <th>Clear</th>\n",
       "      <td>1326</td>\n",
       "      <td>1050</td>\n",
       "    </tr>\n",
       "    <tr>\n",
       "      <th>Not clear</th>\n",
       "      <td>158</td>\n",
       "      <td>127</td>\n",
       "    </tr>\n",
       "    <tr>\n",
       "      <th>METROPOLITAN SOUTH EAST REGION</th>\n",
       "      <th>Clear</th>\n",
       "      <td>1501</td>\n",
       "      <td>1207</td>\n",
       "    </tr>\n",
       "    <tr>\n",
       "      <th>...</th>\n",
       "      <th>...</th>\n",
       "      <th>...</th>\n",
       "      <th>...</th>\n",
       "      <td>...</td>\n",
       "      <td>...</td>\n",
       "    </tr>\n",
       "    <tr>\n",
       "      <th rowspan=\"5\" valign=\"top\">Wednesday</th>\n",
       "      <th rowspan=\"5\" valign=\"top\">Night</th>\n",
       "      <th>NORTHERN REGION</th>\n",
       "      <th>Not clear</th>\n",
       "      <td>6</td>\n",
       "      <td>6</td>\n",
       "    </tr>\n",
       "    <tr>\n",
       "      <th rowspan=\"2\" valign=\"top\">SOUTH WESTERN REGION</th>\n",
       "      <th>Clear</th>\n",
       "      <td>42</td>\n",
       "      <td>38</td>\n",
       "    </tr>\n",
       "    <tr>\n",
       "      <th>Not clear</th>\n",
       "      <td>8</td>\n",
       "      <td>6</td>\n",
       "    </tr>\n",
       "    <tr>\n",
       "      <th rowspan=\"2\" valign=\"top\">WESTERN REGION</th>\n",
       "      <th>Clear</th>\n",
       "      <td>23</td>\n",
       "      <td>23</td>\n",
       "    </tr>\n",
       "    <tr>\n",
       "      <th>Not clear</th>\n",
       "      <td>7</td>\n",
       "      <td>7</td>\n",
       "    </tr>\n",
       "  </tbody>\n",
       "</table>\n",
       "<p>392 rows × 2 columns</p>\n",
       "</div>"
      ],
      "text/plain": [
       "                                                              ambulance_needed  \\\n",
       "day       hour_bin  region                         sky                           \n",
       "Friday    Afternoon EASTERN REGION                 Clear                   218   \n",
       "                                                   Not clear                39   \n",
       "                    METROPOLITAN NORTH WEST REGION Clear                  1326   \n",
       "                                                   Not clear               158   \n",
       "                    METROPOLITAN SOUTH EAST REGION Clear                  1501   \n",
       "...                                                                        ...   \n",
       "Wednesday Night     NORTHERN REGION                Not clear                 6   \n",
       "                    SOUTH WESTERN REGION           Clear                    42   \n",
       "                                                   Not clear                 8   \n",
       "                    WESTERN REGION                 Clear                    23   \n",
       "                                                   Not clear                 7   \n",
       "\n",
       "                                                              police_needed  \n",
       "day       hour_bin  region                         sky                       \n",
       "Friday    Afternoon EASTERN REGION                 Clear                178  \n",
       "                                                   Not clear             33  \n",
       "                    METROPOLITAN NORTH WEST REGION Clear               1050  \n",
       "                                                   Not clear            127  \n",
       "                    METROPOLITAN SOUTH EAST REGION Clear               1207  \n",
       "...                                                                     ...  \n",
       "Wednesday Night     NORTHERN REGION                Not clear              6  \n",
       "                    SOUTH WESTERN REGION           Clear                 38  \n",
       "                                                   Not clear              6  \n",
       "                    WESTERN REGION                 Clear                 23  \n",
       "                                                   Not clear              7  \n",
       "\n",
       "[392 rows x 2 columns]"
      ]
     },
     "execution_count": 3,
     "metadata": {},
     "output_type": "execute_result"
    }
   ],
   "source": [
    "# testing how it pivots\n",
    "(df.pivot_table(\n",
    "    index = ['day','hour_bin','region','sky'],\n",
    "    values = ['police_needed', 'ambulance_needed'],\n",
    "    aggfunc = 'sum'\n",
    "))"
   ]
  },
  {
   "cell_type": "code",
   "execution_count": 4,
   "metadata": {},
   "outputs": [
    {
     "data": {
      "text/html": [
       "<div>\n",
       "<style scoped>\n",
       "    .dataframe tbody tr th:only-of-type {\n",
       "        vertical-align: middle;\n",
       "    }\n",
       "\n",
       "    .dataframe tbody tr th {\n",
       "        vertical-align: top;\n",
       "    }\n",
       "\n",
       "    .dataframe thead th {\n",
       "        text-align: right;\n",
       "    }\n",
       "</style>\n",
       "<table border=\"1\" class=\"dataframe\">\n",
       "  <thead>\n",
       "    <tr style=\"text-align: right;\">\n",
       "      <th></th>\n",
       "      <th>Unnamed: 0</th>\n",
       "      <th>police_needed</th>\n",
       "      <th>ambulance_needed</th>\n",
       "    </tr>\n",
       "    <tr>\n",
       "      <th>date_stamp</th>\n",
       "      <th></th>\n",
       "      <th></th>\n",
       "      <th></th>\n",
       "    </tr>\n",
       "  </thead>\n",
       "  <tbody>\n",
       "    <tr>\n",
       "      <th>2015-01-02</th>\n",
       "      <td>16727</td>\n",
       "      <td>3</td>\n",
       "      <td>4</td>\n",
       "    </tr>\n",
       "    <tr>\n",
       "      <th>2015-01-09</th>\n",
       "      <td>64278</td>\n",
       "      <td>6</td>\n",
       "      <td>7</td>\n",
       "    </tr>\n",
       "    <tr>\n",
       "      <th>2015-01-16</th>\n",
       "      <td>2621</td>\n",
       "      <td>4</td>\n",
       "      <td>5</td>\n",
       "    </tr>\n",
       "    <tr>\n",
       "      <th>2015-01-23</th>\n",
       "      <td>6144</td>\n",
       "      <td>5</td>\n",
       "      <td>6</td>\n",
       "    </tr>\n",
       "    <tr>\n",
       "      <th>2015-01-30</th>\n",
       "      <td>16711</td>\n",
       "      <td>6</td>\n",
       "      <td>7</td>\n",
       "    </tr>\n",
       "    <tr>\n",
       "      <th>...</th>\n",
       "      <td>...</td>\n",
       "      <td>...</td>\n",
       "      <td>...</td>\n",
       "    </tr>\n",
       "    <tr>\n",
       "      <th>2020-09-18</th>\n",
       "      <td>140561</td>\n",
       "      <td>2</td>\n",
       "      <td>2</td>\n",
       "    </tr>\n",
       "    <tr>\n",
       "      <th>2020-10-02</th>\n",
       "      <td>330458</td>\n",
       "      <td>5</td>\n",
       "      <td>5</td>\n",
       "    </tr>\n",
       "    <tr>\n",
       "      <th>2020-10-09</th>\n",
       "      <td>210492</td>\n",
       "      <td>3</td>\n",
       "      <td>3</td>\n",
       "    </tr>\n",
       "    <tr>\n",
       "      <th>2020-10-16</th>\n",
       "      <td>140655</td>\n",
       "      <td>2</td>\n",
       "      <td>2</td>\n",
       "    </tr>\n",
       "    <tr>\n",
       "      <th>2020-11-06</th>\n",
       "      <td>484733</td>\n",
       "      <td>7</td>\n",
       "      <td>7</td>\n",
       "    </tr>\n",
       "  </tbody>\n",
       "</table>\n",
       "<p>290 rows × 3 columns</p>\n",
       "</div>"
      ],
      "text/plain": [
       "            Unnamed: 0  police_needed  ambulance_needed\n",
       "date_stamp                                             \n",
       "2015-01-02       16727              3                 4\n",
       "2015-01-09       64278              6                 7\n",
       "2015-01-16        2621              4                 5\n",
       "2015-01-23        6144              5                 6\n",
       "2015-01-30       16711              6                 7\n",
       "...                ...            ...               ...\n",
       "2020-09-18      140561              2                 2\n",
       "2020-10-02      330458              5                 5\n",
       "2020-10-09      210492              3                 3\n",
       "2020-10-16      140655              2                 2\n",
       "2020-11-06      484733              7                 7\n",
       "\n",
       "[290 rows x 3 columns]"
      ]
     },
     "execution_count": 4,
     "metadata": {},
     "output_type": "execute_result"
    }
   ],
   "source": [
    "# exploring the values of crashes at one friday afternoon with clear skys in the south eastern metro region\n",
    "df.query('hour_bin == \"Afternoon\" & day == \"Friday\" & sky == \"Clear\" & region == \"METROPOLITAN SOUTH EAST REGION\"').groupby('date_stamp').sum()"
   ]
  },
  {
   "attachments": {},
   "cell_type": "markdown",
   "metadata": {},
   "source": [
    "\n",
    "### Issue 1. scaling by time span\n",
    "\n",
    "The largest time scale is the 7 days of a week. Therefore if we had 1 year of data, there would be 52 potential weeks that would be combined into the one table. and for 3 years, 156\n",
    "\n",
    "Therefore, we simply need to divide everything by the number of weeks in the data set"
   ]
  },
  {
   "cell_type": "code",
   "execution_count": 5,
   "metadata": {},
   "outputs": [
    {
     "name": "stdout",
     "output_type": "stream",
     "text": [
      "2020-12-10 17:45:00\n",
      "2015-01-02 00:04:00\n"
     ]
    },
    {
     "data": {
      "text/plain": [
       "310"
      ]
     },
     "execution_count": 5,
     "metadata": {},
     "output_type": "execute_result"
    }
   ],
   "source": [
    "print(pd.to_datetime(df['date']).max())\n",
    "print(pd.to_datetime(df['date']).min())\n",
    "\n",
    "# small function to find num of weeks\n",
    "def calc_num_weeks_between(min, max):\n",
    "    return math.ceil(\n",
    "        (max - min).days / 7\n",
    "    )\n",
    "    \n",
    "num_of_weeks = calc_num_weeks_between(df['date'].min(), df['date'].max())\n",
    "\n",
    "# then final result must be divided by this\n",
    "num_of_weeks\n"
   ]
  },
  {
   "attachments": {},
   "cell_type": "markdown",
   "metadata": {},
   "source": [
    "### Issue 2: need to scale weather conditions\n",
    "\n",
    "If we assume that the dataset is vast enough, for each date, there would be at least one crash, with the weather reported. Therefore, by looking at the number of times it is either clear or not, for each hourly bin (removing duplicates from the smallest time group to ignore multiple crashes). We can get a rough distribution of the percentage of time it is clear, grouped by hourly bin for some extra granuality"
   ]
  },
  {
   "cell_type": "code",
   "execution_count": 6,
   "metadata": {},
   "outputs": [
    {
     "data": {
      "text/plain": [
       "hour_bin\n",
       "Afternoon    0.891617\n",
       "Evening      0.921805\n",
       "Morning      0.778569\n",
       "Night        0.800400\n",
       "Name: ACCIDENT_NO, dtype: float64"
      ]
     },
     "execution_count": 6,
     "metadata": {},
     "output_type": "execute_result"
    }
   ],
   "source": [
    "# calculating count of times its not clear per hourly bin\n",
    "time_dist_rain = df[df['sky'] == 'Not clear']\\\n",
    "        .drop_duplicates(   # removing duplicates in smallest time group\n",
    "            subset = ['date_stamp']\n",
    "            )\\\n",
    "        .groupby(    # grouping by hourly_bin\n",
    "            ['hour_bin']\n",
    "            )['ACCIDENT_NO']\\\n",
    "        .count() \n",
    "\n",
    "\n",
    "# repeats the\n",
    "#  same for clear weather\n",
    "time_dist_clear = df[df['sky'] == 'Clear'].drop_duplicates(subset = ['date_stamp','hour_bin']).groupby(['hour_bin'])['ACCIDENT_NO'].count()\n",
    "\n",
    "# calculating percentage clear\n",
    "pr_clear = time_dist_clear / (time_dist_rain + time_dist_clear)\n",
    "pr_clear"
   ]
  },
  {
   "cell_type": "code",
   "execution_count": 7,
   "metadata": {},
   "outputs": [],
   "source": [
    "# need to use these weights to scale\n",
    "def scale_need(row, clear_weights):\n",
    "    \n",
    "    # if its clear\n",
    "    if row['sky'] == 'Clear':\n",
    "\n",
    "        # scales based on clear weights\n",
    "        return row[0] * 1/(pr_clear[row['hour_bin']])\n",
    "    # else its raining\n",
    "    else:\n",
    "\n",
    "        # scales based on not clear weights\n",
    "        return row[0] * 1/(1 - pr_clear[row['hour_bin']])\n",
    "\n",
    "# uses above function to scale need\n",
    "df.loc[:,'scaled_police'] = df.loc[:,['police_needed','sky','region','hour_bin']].apply(scale_need, axis = 1, clear_weights = pr_clear)\n",
    "df.loc[:,'scaled_ambulance'] = df.loc[:,['ambulance_needed','sky','region','hour_bin']].apply(scale_need, axis = 1, clear_weights = pr_clear)"
   ]
  },
  {
   "attachments": {},
   "cell_type": "markdown",
   "metadata": {},
   "source": [
    "### Issue 3: low counts in regional areas\n",
    "\n",
    "No scaling makes sense here, the counts are low because the number of crashes are low.\n",
    "\n",
    "# final pivotted data\n",
    "\n",
    "looking at the data now, it looks really good, the number needed for non clear days is slightly high than clear days, more ambulances are needed in metro areas. And no time is left without an ambulance. time to generate a training and tesing data set"
   ]
  },
  {
   "cell_type": "code",
   "execution_count": 8,
   "metadata": {},
   "outputs": [
    {
     "data": {
      "text/html": [
       "<div>\n",
       "<style scoped>\n",
       "    .dataframe tbody tr th:only-of-type {\n",
       "        vertical-align: middle;\n",
       "    }\n",
       "\n",
       "    .dataframe tbody tr th {\n",
       "        vertical-align: top;\n",
       "    }\n",
       "\n",
       "    .dataframe thead th {\n",
       "        text-align: right;\n",
       "    }\n",
       "</style>\n",
       "<table border=\"1\" class=\"dataframe\">\n",
       "  <thead>\n",
       "    <tr style=\"text-align: right;\">\n",
       "      <th></th>\n",
       "      <th></th>\n",
       "      <th></th>\n",
       "      <th></th>\n",
       "      <th>scaled_ambulance</th>\n",
       "      <th>scaled_police</th>\n",
       "    </tr>\n",
       "    <tr>\n",
       "      <th>day</th>\n",
       "      <th>hour_bin</th>\n",
       "      <th>region</th>\n",
       "      <th>sky</th>\n",
       "      <th></th>\n",
       "      <th></th>\n",
       "    </tr>\n",
       "  </thead>\n",
       "  <tbody>\n",
       "    <tr>\n",
       "      <th rowspan=\"5\" valign=\"top\">Friday</th>\n",
       "      <th rowspan=\"5\" valign=\"top\">Afternoon</th>\n",
       "      <th rowspan=\"2\" valign=\"top\">EASTERN REGION</th>\n",
       "      <th>Clear</th>\n",
       "      <td>0.788708</td>\n",
       "      <td>0.643991</td>\n",
       "    </tr>\n",
       "    <tr>\n",
       "      <th>Not clear</th>\n",
       "      <td>1.160761</td>\n",
       "      <td>0.982182</td>\n",
       "    </tr>\n",
       "    <tr>\n",
       "      <th rowspan=\"2\" valign=\"top\">METROPOLITAN NORTH WEST REGION</th>\n",
       "      <th>Clear</th>\n",
       "      <td>4.797372</td>\n",
       "      <td>3.798824</td>\n",
       "    </tr>\n",
       "    <tr>\n",
       "      <th>Not clear</th>\n",
       "      <td>4.702571</td>\n",
       "      <td>3.779914</td>\n",
       "    </tr>\n",
       "    <tr>\n",
       "      <th>METROPOLITAN SOUTH EAST REGION</th>\n",
       "      <th>Clear</th>\n",
       "      <td>5.430509</td>\n",
       "      <td>4.366838</td>\n",
       "    </tr>\n",
       "    <tr>\n",
       "      <th>...</th>\n",
       "      <th>...</th>\n",
       "      <th>...</th>\n",
       "      <th>...</th>\n",
       "      <td>...</td>\n",
       "      <td>...</td>\n",
       "    </tr>\n",
       "    <tr>\n",
       "      <th rowspan=\"5\" valign=\"top\">Wednesday</th>\n",
       "      <th rowspan=\"5\" valign=\"top\">Night</th>\n",
       "      <th>NORTHERN REGION</th>\n",
       "      <th>Not clear</th>\n",
       "      <td>0.096968</td>\n",
       "      <td>0.096968</td>\n",
       "    </tr>\n",
       "    <tr>\n",
       "      <th rowspan=\"2\" valign=\"top\">SOUTH WESTERN REGION</th>\n",
       "      <th>Clear</th>\n",
       "      <td>0.169270</td>\n",
       "      <td>0.153149</td>\n",
       "    </tr>\n",
       "    <tr>\n",
       "      <th>Not clear</th>\n",
       "      <td>0.129291</td>\n",
       "      <td>0.096968</td>\n",
       "    </tr>\n",
       "    <tr>\n",
       "      <th rowspan=\"2\" valign=\"top\">WESTERN REGION</th>\n",
       "      <th>Clear</th>\n",
       "      <td>0.092696</td>\n",
       "      <td>0.092696</td>\n",
       "    </tr>\n",
       "    <tr>\n",
       "      <th>Not clear</th>\n",
       "      <td>0.113130</td>\n",
       "      <td>0.113130</td>\n",
       "    </tr>\n",
       "  </tbody>\n",
       "</table>\n",
       "<p>392 rows × 2 columns</p>\n",
       "</div>"
      ],
      "text/plain": [
       "                                                              scaled_ambulance  \\\n",
       "day       hour_bin  region                         sky                           \n",
       "Friday    Afternoon EASTERN REGION                 Clear              0.788708   \n",
       "                                                   Not clear          1.160761   \n",
       "                    METROPOLITAN NORTH WEST REGION Clear              4.797372   \n",
       "                                                   Not clear          4.702571   \n",
       "                    METROPOLITAN SOUTH EAST REGION Clear              5.430509   \n",
       "...                                                                        ...   \n",
       "Wednesday Night     NORTHERN REGION                Not clear          0.096968   \n",
       "                    SOUTH WESTERN REGION           Clear              0.169270   \n",
       "                                                   Not clear          0.129291   \n",
       "                    WESTERN REGION                 Clear              0.092696   \n",
       "                                                   Not clear          0.113130   \n",
       "\n",
       "                                                              scaled_police  \n",
       "day       hour_bin  region                         sky                       \n",
       "Friday    Afternoon EASTERN REGION                 Clear           0.643991  \n",
       "                                                   Not clear       0.982182  \n",
       "                    METROPOLITAN NORTH WEST REGION Clear           3.798824  \n",
       "                                                   Not clear       3.779914  \n",
       "                    METROPOLITAN SOUTH EAST REGION Clear           4.366838  \n",
       "...                                                                     ...  \n",
       "Wednesday Night     NORTHERN REGION                Not clear       0.096968  \n",
       "                    SOUTH WESTERN REGION           Clear           0.153149  \n",
       "                                                   Not clear       0.096968  \n",
       "                    WESTERN REGION                 Clear           0.092696  \n",
       "                                                   Not clear       0.113130  \n",
       "\n",
       "[392 rows x 2 columns]"
      ]
     },
     "execution_count": 8,
     "metadata": {},
     "output_type": "execute_result"
    }
   ],
   "source": [
    "# testing how it pivots\n",
    "final = (df.pivot_table(\n",
    "    index = ['day','hour_bin','region','sky'],\n",
    "    values = ['scaled_police', 'scaled_ambulance'],\n",
    "    aggfunc = 'sum'\n",
    ") / (num_of_weeks))\n",
    "\n",
    "final"
   ]
  },
  {
   "cell_type": "code",
   "execution_count": 19,
   "metadata": {},
   "outputs": [
    {
     "data": {
      "application/vnd.plotly.v1+json": {
       "config": {
        "plotlyServerURL": "https://plot.ly"
       },
       "data": [
        {
         "coloraxis": "coloraxis",
         "hoverinfo": "text",
         "hovertemplate": "Part of Day: %{x}<br>Region: %{y}<br>Average Number of Ambulances: %{z}<extra></extra>",
         "name": "0",
         "text": [
          [
           0.10478629032258066,
           0.5557876458665059,
           0.802663008039352,
           0.2709570197756835
          ],
          [
           0.790503168202765,
           3.8851864829262452,
           4.612340427394189,
           2.4566103232061045
          ],
          [
           0.6338994815668204,
           3.910637887369546,
           5.102827996376383,
           2.2616412499357788
          ],
          [
           0.11860426267281107,
           0.5924850197149866,
           0.8403928210379822,
           0.2739565439798423
          ],
          [
           0.13817972350230415,
           0.5865660884491025,
           0.7757869768622455,
           0.3474448869817343
          ],
          [
           0.1727246543778802,
           0.8274665909705805,
           1.1029509717681758,
           0.4494287099231355
          ],
          [
           0.11687701612903226,
           0.566441722145097,
           0.7887081456973929,
           0.3019521032186584
          ]
         ],
         "texttemplate": "%{text:.2f}",
         "type": "heatmap",
         "x": [
          "Night Clear",
          "Morning Clear",
          "Afternoon Clear",
          "Evening Clear"
         ],
         "xaxis": "x",
         "y": [
          "EASTERN REGION",
          "METROPOLITAN NORTH WEST REGION",
          "METROPOLITAN SOUTH EAST REGION",
          "NORTH EASTERN REGION",
          "NORTHERN REGION",
          "SOUTH WESTERN REGION",
          "WESTERN REGION"
         ],
         "yaxis": "y",
         "z": [
          [
           0.10478629032258066,
           0.5557876458665059,
           0.802663008039352,
           0.2709570197756835
          ],
          [
           0.790503168202765,
           3.8851864829262452,
           4.612340427394189,
           2.4566103232061045
          ],
          [
           0.6338994815668204,
           3.910637887369546,
           5.102827996376383,
           2.2616412499357788
          ],
          [
           0.11860426267281107,
           0.5924850197149866,
           0.8403928210379822,
           0.2739565439798423
          ],
          [
           0.13817972350230415,
           0.5865660884491025,
           0.7757869768622455,
           0.3474448869817343
          ],
          [
           0.1727246543778802,
           0.8274665909705805,
           1.1029509717681758,
           0.4494287099231355
          ],
          [
           0.11687701612903226,
           0.566441722145097,
           0.7887081456973929,
           0.3019521032186584
          ]
         ]
        }
       ],
       "layout": {
        "coloraxis": {
         "colorbar": {
          "title": {
           "text": "Average Number of Ambulances"
          }
         },
         "colorscale": [
          [
           0,
           "#00B0F0"
          ],
          [
           0.5,
           "#eeeeee"
          ],
          [
           1,
           "#E03535"
          ]
         ]
        },
        "template": {
         "data": {
          "bar": [
           {
            "error_x": {
             "color": "#2a3f5f"
            },
            "error_y": {
             "color": "#2a3f5f"
            },
            "marker": {
             "line": {
              "color": "#E5ECF6",
              "width": 0.5
             },
             "pattern": {
              "fillmode": "overlay",
              "size": 10,
              "solidity": 0.2
             }
            },
            "type": "bar"
           }
          ],
          "barpolar": [
           {
            "marker": {
             "line": {
              "color": "#E5ECF6",
              "width": 0.5
             },
             "pattern": {
              "fillmode": "overlay",
              "size": 10,
              "solidity": 0.2
             }
            },
            "type": "barpolar"
           }
          ],
          "carpet": [
           {
            "aaxis": {
             "endlinecolor": "#2a3f5f",
             "gridcolor": "white",
             "linecolor": "white",
             "minorgridcolor": "white",
             "startlinecolor": "#2a3f5f"
            },
            "baxis": {
             "endlinecolor": "#2a3f5f",
             "gridcolor": "white",
             "linecolor": "white",
             "minorgridcolor": "white",
             "startlinecolor": "#2a3f5f"
            },
            "type": "carpet"
           }
          ],
          "choropleth": [
           {
            "colorbar": {
             "outlinewidth": 0,
             "ticks": ""
            },
            "type": "choropleth"
           }
          ],
          "contour": [
           {
            "colorbar": {
             "outlinewidth": 0,
             "ticks": ""
            },
            "colorscale": [
             [
              0,
              "#0d0887"
             ],
             [
              0.1111111111111111,
              "#46039f"
             ],
             [
              0.2222222222222222,
              "#7201a8"
             ],
             [
              0.3333333333333333,
              "#9c179e"
             ],
             [
              0.4444444444444444,
              "#bd3786"
             ],
             [
              0.5555555555555556,
              "#d8576b"
             ],
             [
              0.6666666666666666,
              "#ed7953"
             ],
             [
              0.7777777777777778,
              "#fb9f3a"
             ],
             [
              0.8888888888888888,
              "#fdca26"
             ],
             [
              1,
              "#f0f921"
             ]
            ],
            "type": "contour"
           }
          ],
          "contourcarpet": [
           {
            "colorbar": {
             "outlinewidth": 0,
             "ticks": ""
            },
            "type": "contourcarpet"
           }
          ],
          "heatmap": [
           {
            "colorbar": {
             "outlinewidth": 0,
             "ticks": ""
            },
            "colorscale": [
             [
              0,
              "#0d0887"
             ],
             [
              0.1111111111111111,
              "#46039f"
             ],
             [
              0.2222222222222222,
              "#7201a8"
             ],
             [
              0.3333333333333333,
              "#9c179e"
             ],
             [
              0.4444444444444444,
              "#bd3786"
             ],
             [
              0.5555555555555556,
              "#d8576b"
             ],
             [
              0.6666666666666666,
              "#ed7953"
             ],
             [
              0.7777777777777778,
              "#fb9f3a"
             ],
             [
              0.8888888888888888,
              "#fdca26"
             ],
             [
              1,
              "#f0f921"
             ]
            ],
            "type": "heatmap"
           }
          ],
          "heatmapgl": [
           {
            "colorbar": {
             "outlinewidth": 0,
             "ticks": ""
            },
            "colorscale": [
             [
              0,
              "#0d0887"
             ],
             [
              0.1111111111111111,
              "#46039f"
             ],
             [
              0.2222222222222222,
              "#7201a8"
             ],
             [
              0.3333333333333333,
              "#9c179e"
             ],
             [
              0.4444444444444444,
              "#bd3786"
             ],
             [
              0.5555555555555556,
              "#d8576b"
             ],
             [
              0.6666666666666666,
              "#ed7953"
             ],
             [
              0.7777777777777778,
              "#fb9f3a"
             ],
             [
              0.8888888888888888,
              "#fdca26"
             ],
             [
              1,
              "#f0f921"
             ]
            ],
            "type": "heatmapgl"
           }
          ],
          "histogram": [
           {
            "marker": {
             "pattern": {
              "fillmode": "overlay",
              "size": 10,
              "solidity": 0.2
             }
            },
            "type": "histogram"
           }
          ],
          "histogram2d": [
           {
            "colorbar": {
             "outlinewidth": 0,
             "ticks": ""
            },
            "colorscale": [
             [
              0,
              "#0d0887"
             ],
             [
              0.1111111111111111,
              "#46039f"
             ],
             [
              0.2222222222222222,
              "#7201a8"
             ],
             [
              0.3333333333333333,
              "#9c179e"
             ],
             [
              0.4444444444444444,
              "#bd3786"
             ],
             [
              0.5555555555555556,
              "#d8576b"
             ],
             [
              0.6666666666666666,
              "#ed7953"
             ],
             [
              0.7777777777777778,
              "#fb9f3a"
             ],
             [
              0.8888888888888888,
              "#fdca26"
             ],
             [
              1,
              "#f0f921"
             ]
            ],
            "type": "histogram2d"
           }
          ],
          "histogram2dcontour": [
           {
            "colorbar": {
             "outlinewidth": 0,
             "ticks": ""
            },
            "colorscale": [
             [
              0,
              "#0d0887"
             ],
             [
              0.1111111111111111,
              "#46039f"
             ],
             [
              0.2222222222222222,
              "#7201a8"
             ],
             [
              0.3333333333333333,
              "#9c179e"
             ],
             [
              0.4444444444444444,
              "#bd3786"
             ],
             [
              0.5555555555555556,
              "#d8576b"
             ],
             [
              0.6666666666666666,
              "#ed7953"
             ],
             [
              0.7777777777777778,
              "#fb9f3a"
             ],
             [
              0.8888888888888888,
              "#fdca26"
             ],
             [
              1,
              "#f0f921"
             ]
            ],
            "type": "histogram2dcontour"
           }
          ],
          "mesh3d": [
           {
            "colorbar": {
             "outlinewidth": 0,
             "ticks": ""
            },
            "type": "mesh3d"
           }
          ],
          "parcoords": [
           {
            "line": {
             "colorbar": {
              "outlinewidth": 0,
              "ticks": ""
             }
            },
            "type": "parcoords"
           }
          ],
          "pie": [
           {
            "automargin": true,
            "type": "pie"
           }
          ],
          "scatter": [
           {
            "fillpattern": {
             "fillmode": "overlay",
             "size": 10,
             "solidity": 0.2
            },
            "type": "scatter"
           }
          ],
          "scatter3d": [
           {
            "line": {
             "colorbar": {
              "outlinewidth": 0,
              "ticks": ""
             }
            },
            "marker": {
             "colorbar": {
              "outlinewidth": 0,
              "ticks": ""
             }
            },
            "type": "scatter3d"
           }
          ],
          "scattercarpet": [
           {
            "marker": {
             "colorbar": {
              "outlinewidth": 0,
              "ticks": ""
             }
            },
            "type": "scattercarpet"
           }
          ],
          "scattergeo": [
           {
            "marker": {
             "colorbar": {
              "outlinewidth": 0,
              "ticks": ""
             }
            },
            "type": "scattergeo"
           }
          ],
          "scattergl": [
           {
            "marker": {
             "colorbar": {
              "outlinewidth": 0,
              "ticks": ""
             }
            },
            "type": "scattergl"
           }
          ],
          "scattermapbox": [
           {
            "marker": {
             "colorbar": {
              "outlinewidth": 0,
              "ticks": ""
             }
            },
            "type": "scattermapbox"
           }
          ],
          "scatterpolar": [
           {
            "marker": {
             "colorbar": {
              "outlinewidth": 0,
              "ticks": ""
             }
            },
            "type": "scatterpolar"
           }
          ],
          "scatterpolargl": [
           {
            "marker": {
             "colorbar": {
              "outlinewidth": 0,
              "ticks": ""
             }
            },
            "type": "scatterpolargl"
           }
          ],
          "scatterternary": [
           {
            "marker": {
             "colorbar": {
              "outlinewidth": 0,
              "ticks": ""
             }
            },
            "type": "scatterternary"
           }
          ],
          "surface": [
           {
            "colorbar": {
             "outlinewidth": 0,
             "ticks": ""
            },
            "colorscale": [
             [
              0,
              "#0d0887"
             ],
             [
              0.1111111111111111,
              "#46039f"
             ],
             [
              0.2222222222222222,
              "#7201a8"
             ],
             [
              0.3333333333333333,
              "#9c179e"
             ],
             [
              0.4444444444444444,
              "#bd3786"
             ],
             [
              0.5555555555555556,
              "#d8576b"
             ],
             [
              0.6666666666666666,
              "#ed7953"
             ],
             [
              0.7777777777777778,
              "#fb9f3a"
             ],
             [
              0.8888888888888888,
              "#fdca26"
             ],
             [
              1,
              "#f0f921"
             ]
            ],
            "type": "surface"
           }
          ],
          "table": [
           {
            "cells": {
             "fill": {
              "color": "#EBF0F8"
             },
             "line": {
              "color": "white"
             }
            },
            "header": {
             "fill": {
              "color": "#C8D4E3"
             },
             "line": {
              "color": "white"
             }
            },
            "type": "table"
           }
          ]
         },
         "layout": {
          "annotationdefaults": {
           "arrowcolor": "#2a3f5f",
           "arrowhead": 0,
           "arrowwidth": 1
          },
          "autotypenumbers": "strict",
          "coloraxis": {
           "colorbar": {
            "outlinewidth": 0,
            "ticks": ""
           }
          },
          "colorscale": {
           "diverging": [
            [
             0,
             "#8e0152"
            ],
            [
             0.1,
             "#c51b7d"
            ],
            [
             0.2,
             "#de77ae"
            ],
            [
             0.3,
             "#f1b6da"
            ],
            [
             0.4,
             "#fde0ef"
            ],
            [
             0.5,
             "#f7f7f7"
            ],
            [
             0.6,
             "#e6f5d0"
            ],
            [
             0.7,
             "#b8e186"
            ],
            [
             0.8,
             "#7fbc41"
            ],
            [
             0.9,
             "#4d9221"
            ],
            [
             1,
             "#276419"
            ]
           ],
           "sequential": [
            [
             0,
             "#0d0887"
            ],
            [
             0.1111111111111111,
             "#46039f"
            ],
            [
             0.2222222222222222,
             "#7201a8"
            ],
            [
             0.3333333333333333,
             "#9c179e"
            ],
            [
             0.4444444444444444,
             "#bd3786"
            ],
            [
             0.5555555555555556,
             "#d8576b"
            ],
            [
             0.6666666666666666,
             "#ed7953"
            ],
            [
             0.7777777777777778,
             "#fb9f3a"
            ],
            [
             0.8888888888888888,
             "#fdca26"
            ],
            [
             1,
             "#f0f921"
            ]
           ],
           "sequentialminus": [
            [
             0,
             "#0d0887"
            ],
            [
             0.1111111111111111,
             "#46039f"
            ],
            [
             0.2222222222222222,
             "#7201a8"
            ],
            [
             0.3333333333333333,
             "#9c179e"
            ],
            [
             0.4444444444444444,
             "#bd3786"
            ],
            [
             0.5555555555555556,
             "#d8576b"
            ],
            [
             0.6666666666666666,
             "#ed7953"
            ],
            [
             0.7777777777777778,
             "#fb9f3a"
            ],
            [
             0.8888888888888888,
             "#fdca26"
            ],
            [
             1,
             "#f0f921"
            ]
           ]
          },
          "colorway": [
           "#636efa",
           "#EF553B",
           "#00cc96",
           "#ab63fa",
           "#FFA15A",
           "#19d3f3",
           "#FF6692",
           "#B6E880",
           "#FF97FF",
           "#FECB52"
          ],
          "font": {
           "color": "#2a3f5f"
          },
          "geo": {
           "bgcolor": "white",
           "lakecolor": "white",
           "landcolor": "#E5ECF6",
           "showlakes": true,
           "showland": true,
           "subunitcolor": "white"
          },
          "hoverlabel": {
           "align": "left"
          },
          "hovermode": "closest",
          "mapbox": {
           "style": "light"
          },
          "paper_bgcolor": "white",
          "plot_bgcolor": "#E5ECF6",
          "polar": {
           "angularaxis": {
            "gridcolor": "white",
            "linecolor": "white",
            "ticks": ""
           },
           "bgcolor": "#E5ECF6",
           "radialaxis": {
            "gridcolor": "white",
            "linecolor": "white",
            "ticks": ""
           }
          },
          "scene": {
           "xaxis": {
            "backgroundcolor": "#E5ECF6",
            "gridcolor": "white",
            "gridwidth": 2,
            "linecolor": "white",
            "showbackground": true,
            "ticks": "",
            "zerolinecolor": "white"
           },
           "yaxis": {
            "backgroundcolor": "#E5ECF6",
            "gridcolor": "white",
            "gridwidth": 2,
            "linecolor": "white",
            "showbackground": true,
            "ticks": "",
            "zerolinecolor": "white"
           },
           "zaxis": {
            "backgroundcolor": "#E5ECF6",
            "gridcolor": "white",
            "gridwidth": 2,
            "linecolor": "white",
            "showbackground": true,
            "ticks": "",
            "zerolinecolor": "white"
           }
          },
          "shapedefaults": {
           "line": {
            "color": "#2a3f5f"
           }
          },
          "ternary": {
           "aaxis": {
            "gridcolor": "white",
            "linecolor": "white",
            "ticks": ""
           },
           "baxis": {
            "gridcolor": "white",
            "linecolor": "white",
            "ticks": ""
           },
           "bgcolor": "#E5ECF6",
           "caxis": {
            "gridcolor": "white",
            "linecolor": "white",
            "ticks": ""
           }
          },
          "title": {
           "x": 0.05
          },
          "xaxis": {
           "automargin": true,
           "gridcolor": "white",
           "linecolor": "white",
           "ticks": "",
           "title": {
            "standoff": 15
           },
           "zerolinecolor": "white",
           "zerolinewidth": 2
          },
          "yaxis": {
           "automargin": true,
           "gridcolor": "white",
           "linecolor": "white",
           "ticks": "",
           "title": {
            "standoff": 15
           },
           "zerolinecolor": "white",
           "zerolinewidth": 2
          }
         }
        },
        "title": {
         "text": "Ambulances, Sky is Clear"
        },
        "xaxis": {
         "anchor": "y",
         "constrain": "domain",
         "domain": [
          0,
          1
         ],
         "scaleanchor": "y",
         "title": {
          "text": "Part of Day"
         }
        },
        "yaxis": {
         "anchor": "x",
         "autorange": "reversed",
         "constrain": "domain",
         "domain": [
          0,
          1
         ],
         "title": {
          "text": "Region"
         }
        }
       }
      }
     },
     "metadata": {},
     "output_type": "display_data"
    },
    {
     "data": {
      "application/vnd.plotly.v1+json": {
       "config": {
        "plotlyServerURL": "https://plot.ly"
       },
       "data": [
        {
         "coloraxis": "coloraxis",
         "hoverinfo": "text",
         "hovertemplate": "Part of Day: %{x}<br>Region: %{y}<br>Average Number of Ambulances: %{z}<extra></extra>",
         "name": "0",
         "text": [
          [
           0.13390850397884108,
           0.5681513017848369,
           1.0459605414746547,
           0.8898959842001315
          ],
          [
           0.5171638774355242,
           1.5816666276793996,
           3.1974078341013836,
           4.24910599078341
          ],
          [
           0.6025882679047848,
           2.0166249502912343,
           4.617533122119817,
           4.985774851876234
          ],
          [
           0.12236466742894099,
           0.29344078224052017,
           0.8206113191244243,
           0.536294930875576
          ],
          [
           0.11312959818902091,
           0.2767916598438949,
           0.7143145161290325,
           0.7130954575378537
          ],
          [
           0.1731575482485014,
           0.4224714808143659,
           1.0629680299539175,
           0.9900829493087555
          ],
          [
           0.0992769943291408,
           0.2767916598438949,
           0.6462845622119817,
           0.7130954575378537
          ]
         ],
         "texttemplate": "%{text:.2f}",
         "type": "heatmap",
         "x": [
          "Night Not clear",
          "Morning Not clear",
          "Afternoon Not clear",
          "Evening Not clear"
         ],
         "xaxis": "x",
         "y": [
          "EASTERN REGION",
          "METROPOLITAN NORTH WEST REGION",
          "METROPOLITAN SOUTH EAST REGION",
          "NORTH EASTERN REGION",
          "NORTHERN REGION",
          "SOUTH WESTERN REGION",
          "WESTERN REGION"
         ],
         "yaxis": "y",
         "z": [
          [
           0.13390850397884108,
           0.5681513017848369,
           1.0459605414746547,
           0.8898959842001315
          ],
          [
           0.5171638774355242,
           1.5816666276793996,
           3.1974078341013836,
           4.24910599078341
          ],
          [
           0.6025882679047848,
           2.0166249502912343,
           4.617533122119817,
           4.985774851876234
          ],
          [
           0.12236466742894099,
           0.29344078224052017,
           0.8206113191244243,
           0.536294930875576
          ],
          [
           0.11312959818902091,
           0.2767916598438949,
           0.7143145161290325,
           0.7130954575378537
          ],
          [
           0.1731575482485014,
           0.4224714808143659,
           1.0629680299539175,
           0.9900829493087555
          ],
          [
           0.0992769943291408,
           0.2767916598438949,
           0.6462845622119817,
           0.7130954575378537
          ]
         ]
        }
       ],
       "layout": {
        "coloraxis": {
         "colorbar": {
          "title": {
           "text": "Average Number of Ambulances"
          }
         },
         "colorscale": [
          [
           0,
           "#00B0F0"
          ],
          [
           0.5,
           "#eeeeee"
          ],
          [
           1,
           "#E03535"
          ]
         ]
        },
        "template": {
         "data": {
          "bar": [
           {
            "error_x": {
             "color": "#2a3f5f"
            },
            "error_y": {
             "color": "#2a3f5f"
            },
            "marker": {
             "line": {
              "color": "#E5ECF6",
              "width": 0.5
             },
             "pattern": {
              "fillmode": "overlay",
              "size": 10,
              "solidity": 0.2
             }
            },
            "type": "bar"
           }
          ],
          "barpolar": [
           {
            "marker": {
             "line": {
              "color": "#E5ECF6",
              "width": 0.5
             },
             "pattern": {
              "fillmode": "overlay",
              "size": 10,
              "solidity": 0.2
             }
            },
            "type": "barpolar"
           }
          ],
          "carpet": [
           {
            "aaxis": {
             "endlinecolor": "#2a3f5f",
             "gridcolor": "white",
             "linecolor": "white",
             "minorgridcolor": "white",
             "startlinecolor": "#2a3f5f"
            },
            "baxis": {
             "endlinecolor": "#2a3f5f",
             "gridcolor": "white",
             "linecolor": "white",
             "minorgridcolor": "white",
             "startlinecolor": "#2a3f5f"
            },
            "type": "carpet"
           }
          ],
          "choropleth": [
           {
            "colorbar": {
             "outlinewidth": 0,
             "ticks": ""
            },
            "type": "choropleth"
           }
          ],
          "contour": [
           {
            "colorbar": {
             "outlinewidth": 0,
             "ticks": ""
            },
            "colorscale": [
             [
              0,
              "#0d0887"
             ],
             [
              0.1111111111111111,
              "#46039f"
             ],
             [
              0.2222222222222222,
              "#7201a8"
             ],
             [
              0.3333333333333333,
              "#9c179e"
             ],
             [
              0.4444444444444444,
              "#bd3786"
             ],
             [
              0.5555555555555556,
              "#d8576b"
             ],
             [
              0.6666666666666666,
              "#ed7953"
             ],
             [
              0.7777777777777778,
              "#fb9f3a"
             ],
             [
              0.8888888888888888,
              "#fdca26"
             ],
             [
              1,
              "#f0f921"
             ]
            ],
            "type": "contour"
           }
          ],
          "contourcarpet": [
           {
            "colorbar": {
             "outlinewidth": 0,
             "ticks": ""
            },
            "type": "contourcarpet"
           }
          ],
          "heatmap": [
           {
            "colorbar": {
             "outlinewidth": 0,
             "ticks": ""
            },
            "colorscale": [
             [
              0,
              "#0d0887"
             ],
             [
              0.1111111111111111,
              "#46039f"
             ],
             [
              0.2222222222222222,
              "#7201a8"
             ],
             [
              0.3333333333333333,
              "#9c179e"
             ],
             [
              0.4444444444444444,
              "#bd3786"
             ],
             [
              0.5555555555555556,
              "#d8576b"
             ],
             [
              0.6666666666666666,
              "#ed7953"
             ],
             [
              0.7777777777777778,
              "#fb9f3a"
             ],
             [
              0.8888888888888888,
              "#fdca26"
             ],
             [
              1,
              "#f0f921"
             ]
            ],
            "type": "heatmap"
           }
          ],
          "heatmapgl": [
           {
            "colorbar": {
             "outlinewidth": 0,
             "ticks": ""
            },
            "colorscale": [
             [
              0,
              "#0d0887"
             ],
             [
              0.1111111111111111,
              "#46039f"
             ],
             [
              0.2222222222222222,
              "#7201a8"
             ],
             [
              0.3333333333333333,
              "#9c179e"
             ],
             [
              0.4444444444444444,
              "#bd3786"
             ],
             [
              0.5555555555555556,
              "#d8576b"
             ],
             [
              0.6666666666666666,
              "#ed7953"
             ],
             [
              0.7777777777777778,
              "#fb9f3a"
             ],
             [
              0.8888888888888888,
              "#fdca26"
             ],
             [
              1,
              "#f0f921"
             ]
            ],
            "type": "heatmapgl"
           }
          ],
          "histogram": [
           {
            "marker": {
             "pattern": {
              "fillmode": "overlay",
              "size": 10,
              "solidity": 0.2
             }
            },
            "type": "histogram"
           }
          ],
          "histogram2d": [
           {
            "colorbar": {
             "outlinewidth": 0,
             "ticks": ""
            },
            "colorscale": [
             [
              0,
              "#0d0887"
             ],
             [
              0.1111111111111111,
              "#46039f"
             ],
             [
              0.2222222222222222,
              "#7201a8"
             ],
             [
              0.3333333333333333,
              "#9c179e"
             ],
             [
              0.4444444444444444,
              "#bd3786"
             ],
             [
              0.5555555555555556,
              "#d8576b"
             ],
             [
              0.6666666666666666,
              "#ed7953"
             ],
             [
              0.7777777777777778,
              "#fb9f3a"
             ],
             [
              0.8888888888888888,
              "#fdca26"
             ],
             [
              1,
              "#f0f921"
             ]
            ],
            "type": "histogram2d"
           }
          ],
          "histogram2dcontour": [
           {
            "colorbar": {
             "outlinewidth": 0,
             "ticks": ""
            },
            "colorscale": [
             [
              0,
              "#0d0887"
             ],
             [
              0.1111111111111111,
              "#46039f"
             ],
             [
              0.2222222222222222,
              "#7201a8"
             ],
             [
              0.3333333333333333,
              "#9c179e"
             ],
             [
              0.4444444444444444,
              "#bd3786"
             ],
             [
              0.5555555555555556,
              "#d8576b"
             ],
             [
              0.6666666666666666,
              "#ed7953"
             ],
             [
              0.7777777777777778,
              "#fb9f3a"
             ],
             [
              0.8888888888888888,
              "#fdca26"
             ],
             [
              1,
              "#f0f921"
             ]
            ],
            "type": "histogram2dcontour"
           }
          ],
          "mesh3d": [
           {
            "colorbar": {
             "outlinewidth": 0,
             "ticks": ""
            },
            "type": "mesh3d"
           }
          ],
          "parcoords": [
           {
            "line": {
             "colorbar": {
              "outlinewidth": 0,
              "ticks": ""
             }
            },
            "type": "parcoords"
           }
          ],
          "pie": [
           {
            "automargin": true,
            "type": "pie"
           }
          ],
          "scatter": [
           {
            "fillpattern": {
             "fillmode": "overlay",
             "size": 10,
             "solidity": 0.2
            },
            "type": "scatter"
           }
          ],
          "scatter3d": [
           {
            "line": {
             "colorbar": {
              "outlinewidth": 0,
              "ticks": ""
             }
            },
            "marker": {
             "colorbar": {
              "outlinewidth": 0,
              "ticks": ""
             }
            },
            "type": "scatter3d"
           }
          ],
          "scattercarpet": [
           {
            "marker": {
             "colorbar": {
              "outlinewidth": 0,
              "ticks": ""
             }
            },
            "type": "scattercarpet"
           }
          ],
          "scattergeo": [
           {
            "marker": {
             "colorbar": {
              "outlinewidth": 0,
              "ticks": ""
             }
            },
            "type": "scattergeo"
           }
          ],
          "scattergl": [
           {
            "marker": {
             "colorbar": {
              "outlinewidth": 0,
              "ticks": ""
             }
            },
            "type": "scattergl"
           }
          ],
          "scattermapbox": [
           {
            "marker": {
             "colorbar": {
              "outlinewidth": 0,
              "ticks": ""
             }
            },
            "type": "scattermapbox"
           }
          ],
          "scatterpolar": [
           {
            "marker": {
             "colorbar": {
              "outlinewidth": 0,
              "ticks": ""
             }
            },
            "type": "scatterpolar"
           }
          ],
          "scatterpolargl": [
           {
            "marker": {
             "colorbar": {
              "outlinewidth": 0,
              "ticks": ""
             }
            },
            "type": "scatterpolargl"
           }
          ],
          "scatterternary": [
           {
            "marker": {
             "colorbar": {
              "outlinewidth": 0,
              "ticks": ""
             }
            },
            "type": "scatterternary"
           }
          ],
          "surface": [
           {
            "colorbar": {
             "outlinewidth": 0,
             "ticks": ""
            },
            "colorscale": [
             [
              0,
              "#0d0887"
             ],
             [
              0.1111111111111111,
              "#46039f"
             ],
             [
              0.2222222222222222,
              "#7201a8"
             ],
             [
              0.3333333333333333,
              "#9c179e"
             ],
             [
              0.4444444444444444,
              "#bd3786"
             ],
             [
              0.5555555555555556,
              "#d8576b"
             ],
             [
              0.6666666666666666,
              "#ed7953"
             ],
             [
              0.7777777777777778,
              "#fb9f3a"
             ],
             [
              0.8888888888888888,
              "#fdca26"
             ],
             [
              1,
              "#f0f921"
             ]
            ],
            "type": "surface"
           }
          ],
          "table": [
           {
            "cells": {
             "fill": {
              "color": "#EBF0F8"
             },
             "line": {
              "color": "white"
             }
            },
            "header": {
             "fill": {
              "color": "#C8D4E3"
             },
             "line": {
              "color": "white"
             }
            },
            "type": "table"
           }
          ]
         },
         "layout": {
          "annotationdefaults": {
           "arrowcolor": "#2a3f5f",
           "arrowhead": 0,
           "arrowwidth": 1
          },
          "autotypenumbers": "strict",
          "coloraxis": {
           "colorbar": {
            "outlinewidth": 0,
            "ticks": ""
           }
          },
          "colorscale": {
           "diverging": [
            [
             0,
             "#8e0152"
            ],
            [
             0.1,
             "#c51b7d"
            ],
            [
             0.2,
             "#de77ae"
            ],
            [
             0.3,
             "#f1b6da"
            ],
            [
             0.4,
             "#fde0ef"
            ],
            [
             0.5,
             "#f7f7f7"
            ],
            [
             0.6,
             "#e6f5d0"
            ],
            [
             0.7,
             "#b8e186"
            ],
            [
             0.8,
             "#7fbc41"
            ],
            [
             0.9,
             "#4d9221"
            ],
            [
             1,
             "#276419"
            ]
           ],
           "sequential": [
            [
             0,
             "#0d0887"
            ],
            [
             0.1111111111111111,
             "#46039f"
            ],
            [
             0.2222222222222222,
             "#7201a8"
            ],
            [
             0.3333333333333333,
             "#9c179e"
            ],
            [
             0.4444444444444444,
             "#bd3786"
            ],
            [
             0.5555555555555556,
             "#d8576b"
            ],
            [
             0.6666666666666666,
             "#ed7953"
            ],
            [
             0.7777777777777778,
             "#fb9f3a"
            ],
            [
             0.8888888888888888,
             "#fdca26"
            ],
            [
             1,
             "#f0f921"
            ]
           ],
           "sequentialminus": [
            [
             0,
             "#0d0887"
            ],
            [
             0.1111111111111111,
             "#46039f"
            ],
            [
             0.2222222222222222,
             "#7201a8"
            ],
            [
             0.3333333333333333,
             "#9c179e"
            ],
            [
             0.4444444444444444,
             "#bd3786"
            ],
            [
             0.5555555555555556,
             "#d8576b"
            ],
            [
             0.6666666666666666,
             "#ed7953"
            ],
            [
             0.7777777777777778,
             "#fb9f3a"
            ],
            [
             0.8888888888888888,
             "#fdca26"
            ],
            [
             1,
             "#f0f921"
            ]
           ]
          },
          "colorway": [
           "#636efa",
           "#EF553B",
           "#00cc96",
           "#ab63fa",
           "#FFA15A",
           "#19d3f3",
           "#FF6692",
           "#B6E880",
           "#FF97FF",
           "#FECB52"
          ],
          "font": {
           "color": "#2a3f5f"
          },
          "geo": {
           "bgcolor": "white",
           "lakecolor": "white",
           "landcolor": "#E5ECF6",
           "showlakes": true,
           "showland": true,
           "subunitcolor": "white"
          },
          "hoverlabel": {
           "align": "left"
          },
          "hovermode": "closest",
          "mapbox": {
           "style": "light"
          },
          "paper_bgcolor": "white",
          "plot_bgcolor": "#E5ECF6",
          "polar": {
           "angularaxis": {
            "gridcolor": "white",
            "linecolor": "white",
            "ticks": ""
           },
           "bgcolor": "#E5ECF6",
           "radialaxis": {
            "gridcolor": "white",
            "linecolor": "white",
            "ticks": ""
           }
          },
          "scene": {
           "xaxis": {
            "backgroundcolor": "#E5ECF6",
            "gridcolor": "white",
            "gridwidth": 2,
            "linecolor": "white",
            "showbackground": true,
            "ticks": "",
            "zerolinecolor": "white"
           },
           "yaxis": {
            "backgroundcolor": "#E5ECF6",
            "gridcolor": "white",
            "gridwidth": 2,
            "linecolor": "white",
            "showbackground": true,
            "ticks": "",
            "zerolinecolor": "white"
           },
           "zaxis": {
            "backgroundcolor": "#E5ECF6",
            "gridcolor": "white",
            "gridwidth": 2,
            "linecolor": "white",
            "showbackground": true,
            "ticks": "",
            "zerolinecolor": "white"
           }
          },
          "shapedefaults": {
           "line": {
            "color": "#2a3f5f"
           }
          },
          "ternary": {
           "aaxis": {
            "gridcolor": "white",
            "linecolor": "white",
            "ticks": ""
           },
           "baxis": {
            "gridcolor": "white",
            "linecolor": "white",
            "ticks": ""
           },
           "bgcolor": "#E5ECF6",
           "caxis": {
            "gridcolor": "white",
            "linecolor": "white",
            "ticks": ""
           }
          },
          "title": {
           "x": 0.05
          },
          "xaxis": {
           "automargin": true,
           "gridcolor": "white",
           "linecolor": "white",
           "ticks": "",
           "title": {
            "standoff": 15
           },
           "zerolinecolor": "white",
           "zerolinewidth": 2
          },
          "yaxis": {
           "automargin": true,
           "gridcolor": "white",
           "linecolor": "white",
           "ticks": "",
           "title": {
            "standoff": 15
           },
           "zerolinecolor": "white",
           "zerolinewidth": 2
          }
         }
        },
        "title": {
         "text": "Ambulances, Sky is Not clear"
        },
        "xaxis": {
         "anchor": "y",
         "constrain": "domain",
         "domain": [
          0,
          1
         ],
         "scaleanchor": "y",
         "title": {
          "text": "Part of Day"
         }
        },
        "yaxis": {
         "anchor": "x",
         "autorange": "reversed",
         "constrain": "domain",
         "domain": [
          0,
          1
         ],
         "title": {
          "text": "Region"
         }
        }
       }
      }
     },
     "metadata": {},
     "output_type": "display_data"
    }
   ],
   "source": [
    "# function to display final data for comparisons\n",
    "def display_final_df(df_final, query_ = 'Clear'):\n",
    "    \n",
    "    # pivotting data\n",
    "    df_temp = df_final.reset_index().query('sky == @query_').pivot_table(\n",
    "        index = 'hour_bin',\n",
    "        columns = 'region',\n",
    "        values = 'scaled_ambulance',\n",
    "        aggfunc = 'mean',\n",
    "    ).T\n",
    "\n",
    "    # renaming columns\n",
    "    df_temp.columns = [(x + \" \" + query_) for x in df_temp.columns] \n",
    "\n",
    "    # reordienr data\n",
    "    df_temp = df_temp.loc[list(df_temp.index),[(x + \" \" + query_) for x in list(hour_bin_dict.values())]]\n",
    "\n",
    "\n",
    "    # create a heatmap\n",
    "    fig = px.imshow(\n",
    "        df_temp, \n",
    "        x=[(x + \" \" + query_) for x in list(hour_bin_dict.values())], \n",
    "        y=list(df_temp.index), \n",
    "        labels={\n",
    "                \"x\": \"Part of Day\",\n",
    "                \"y\": \"Region\",\n",
    "                \"color\": \"Average Number of Ambulances\"\n",
    "            }, \n",
    "        title=\"Ambulances, Sky is \" + query_,\n",
    "        color_continuous_scale= POWERPOINT_COLOUR_SCALE\n",
    "        )\n",
    "\n",
    "    # add annotations\n",
    "    fig.update_traces(hoverinfo='text', text=df_temp.values, texttemplate='%{text:.2f}')\n",
    "    \n",
    "    # shows and returns the graph\n",
    "    fig.show()\n",
    "    return fig\n",
    "\n",
    "# for clear and not clear data\n",
    "for query_ in [\"Clear\", \"Not clear\"]:\n",
    "\n",
    "    # creates plot\n",
    "    fig = display_final_df(final, query_ = query_)\n",
    "\n",
    "    # saves graph\n",
    "    fig.update_layout(font=dict(size=40))\n",
    "    fig.write_image(ROOT_DIR + DATA_FURTHER_ANALYSIS_DIR + f'final_data_plot_{query_}.png', width=2500, height=1500)\n",
    "\n"
   ]
  },
  {
   "attachments": {},
   "cell_type": "markdown",
   "metadata": {},
   "source": [
    "# creating train test split"
   ]
  },
  {
   "cell_type": "code",
   "execution_count": 17,
   "metadata": {},
   "outputs": [
    {
     "data": {
      "application/vnd.plotly.v1+json": {
       "config": {
        "plotlyServerURL": "https://plot.ly"
       },
       "data": [
        {
         "coloraxis": "coloraxis",
         "hoverinfo": "text",
         "hovertemplate": "Part of Day: %{x}<br>Region: %{y}<br>Average Number of Ambulances: %{z}<extra></extra>",
         "name": "0",
         "text": [
          [
           0.11784945317840055,
           0.6364975129222128,
           0.9122716140259998,
           0.29660366931076426
          ],
          [
           0.9043664559125085,
           4.232488979031708,
           4.993728818290221,
           2.712440555846939
          ],
          [
           0.7062427375256323,
           4.316770029018649,
           5.602420970842023,
           2.5255802441811577
          ],
          [
           0.13151315789473686,
           0.6637132686471626,
           0.9483025097060184,
           0.30179423352370266
          ],
          [
           0.15030075187969927,
           0.6400092233383354,
           0.8701077999323612,
           0.39893193522297793
          ],
          [
           0.19299982911825017,
           0.8946082285072207,
           1.2127846162933882,
           0.4968111460955301
          ],
          [
           0.13065917634996582,
           0.621572743653692,
           0.8586085779068233,
           0.3270055454151176
          ]
         ],
         "texttemplate": "%{text:.2f}",
         "type": "heatmap",
         "x": [
          "Night Clear",
          "Morning Clear",
          "Afternoon Clear",
          "Evening Clear"
         ],
         "xaxis": "x",
         "y": [
          "EASTERN REGION",
          "METROPOLITAN NORTH WEST REGION",
          "METROPOLITAN SOUTH EAST REGION",
          "NORTH EASTERN REGION",
          "NORTHERN REGION",
          "SOUTH WESTERN REGION",
          "WESTERN REGION"
         ],
         "yaxis": "y",
         "z": [
          [
           0.11784945317840055,
           0.6364975129222128,
           0.9122716140259998,
           0.29660366931076426
          ],
          [
           0.9043664559125085,
           4.232488979031708,
           4.993728818290221,
           2.712440555846939
          ],
          [
           0.7062427375256323,
           4.316770029018649,
           5.602420970842023,
           2.5255802441811577
          ],
          [
           0.13151315789473686,
           0.6637132686471626,
           0.9483025097060184,
           0.30179423352370266
          ],
          [
           0.15030075187969927,
           0.6400092233383354,
           0.8701077999323612,
           0.39893193522297793
          ],
          [
           0.19299982911825017,
           0.8946082285072207,
           1.2127846162933882,
           0.4968111460955301
          ],
          [
           0.13065917634996582,
           0.621572743653692,
           0.8586085779068233,
           0.3270055454151176
          ]
         ]
        }
       ],
       "layout": {
        "coloraxis": {
         "colorbar": {
          "title": {
           "text": "Average Number of Ambulances"
          }
         },
         "colorscale": [
          [
           0,
           "#00B0F0"
          ],
          [
           0.5,
           "#eeeeee"
          ],
          [
           1,
           "#E03535"
          ]
         ]
        },
        "template": {
         "data": {
          "bar": [
           {
            "error_x": {
             "color": "#2a3f5f"
            },
            "error_y": {
             "color": "#2a3f5f"
            },
            "marker": {
             "line": {
              "color": "#E5ECF6",
              "width": 0.5
             },
             "pattern": {
              "fillmode": "overlay",
              "size": 10,
              "solidity": 0.2
             }
            },
            "type": "bar"
           }
          ],
          "barpolar": [
           {
            "marker": {
             "line": {
              "color": "#E5ECF6",
              "width": 0.5
             },
             "pattern": {
              "fillmode": "overlay",
              "size": 10,
              "solidity": 0.2
             }
            },
            "type": "barpolar"
           }
          ],
          "carpet": [
           {
            "aaxis": {
             "endlinecolor": "#2a3f5f",
             "gridcolor": "white",
             "linecolor": "white",
             "minorgridcolor": "white",
             "startlinecolor": "#2a3f5f"
            },
            "baxis": {
             "endlinecolor": "#2a3f5f",
             "gridcolor": "white",
             "linecolor": "white",
             "minorgridcolor": "white",
             "startlinecolor": "#2a3f5f"
            },
            "type": "carpet"
           }
          ],
          "choropleth": [
           {
            "colorbar": {
             "outlinewidth": 0,
             "ticks": ""
            },
            "type": "choropleth"
           }
          ],
          "contour": [
           {
            "colorbar": {
             "outlinewidth": 0,
             "ticks": ""
            },
            "colorscale": [
             [
              0,
              "#0d0887"
             ],
             [
              0.1111111111111111,
              "#46039f"
             ],
             [
              0.2222222222222222,
              "#7201a8"
             ],
             [
              0.3333333333333333,
              "#9c179e"
             ],
             [
              0.4444444444444444,
              "#bd3786"
             ],
             [
              0.5555555555555556,
              "#d8576b"
             ],
             [
              0.6666666666666666,
              "#ed7953"
             ],
             [
              0.7777777777777778,
              "#fb9f3a"
             ],
             [
              0.8888888888888888,
              "#fdca26"
             ],
             [
              1,
              "#f0f921"
             ]
            ],
            "type": "contour"
           }
          ],
          "contourcarpet": [
           {
            "colorbar": {
             "outlinewidth": 0,
             "ticks": ""
            },
            "type": "contourcarpet"
           }
          ],
          "heatmap": [
           {
            "colorbar": {
             "outlinewidth": 0,
             "ticks": ""
            },
            "colorscale": [
             [
              0,
              "#0d0887"
             ],
             [
              0.1111111111111111,
              "#46039f"
             ],
             [
              0.2222222222222222,
              "#7201a8"
             ],
             [
              0.3333333333333333,
              "#9c179e"
             ],
             [
              0.4444444444444444,
              "#bd3786"
             ],
             [
              0.5555555555555556,
              "#d8576b"
             ],
             [
              0.6666666666666666,
              "#ed7953"
             ],
             [
              0.7777777777777778,
              "#fb9f3a"
             ],
             [
              0.8888888888888888,
              "#fdca26"
             ],
             [
              1,
              "#f0f921"
             ]
            ],
            "type": "heatmap"
           }
          ],
          "heatmapgl": [
           {
            "colorbar": {
             "outlinewidth": 0,
             "ticks": ""
            },
            "colorscale": [
             [
              0,
              "#0d0887"
             ],
             [
              0.1111111111111111,
              "#46039f"
             ],
             [
              0.2222222222222222,
              "#7201a8"
             ],
             [
              0.3333333333333333,
              "#9c179e"
             ],
             [
              0.4444444444444444,
              "#bd3786"
             ],
             [
              0.5555555555555556,
              "#d8576b"
             ],
             [
              0.6666666666666666,
              "#ed7953"
             ],
             [
              0.7777777777777778,
              "#fb9f3a"
             ],
             [
              0.8888888888888888,
              "#fdca26"
             ],
             [
              1,
              "#f0f921"
             ]
            ],
            "type": "heatmapgl"
           }
          ],
          "histogram": [
           {
            "marker": {
             "pattern": {
              "fillmode": "overlay",
              "size": 10,
              "solidity": 0.2
             }
            },
            "type": "histogram"
           }
          ],
          "histogram2d": [
           {
            "colorbar": {
             "outlinewidth": 0,
             "ticks": ""
            },
            "colorscale": [
             [
              0,
              "#0d0887"
             ],
             [
              0.1111111111111111,
              "#46039f"
             ],
             [
              0.2222222222222222,
              "#7201a8"
             ],
             [
              0.3333333333333333,
              "#9c179e"
             ],
             [
              0.4444444444444444,
              "#bd3786"
             ],
             [
              0.5555555555555556,
              "#d8576b"
             ],
             [
              0.6666666666666666,
              "#ed7953"
             ],
             [
              0.7777777777777778,
              "#fb9f3a"
             ],
             [
              0.8888888888888888,
              "#fdca26"
             ],
             [
              1,
              "#f0f921"
             ]
            ],
            "type": "histogram2d"
           }
          ],
          "histogram2dcontour": [
           {
            "colorbar": {
             "outlinewidth": 0,
             "ticks": ""
            },
            "colorscale": [
             [
              0,
              "#0d0887"
             ],
             [
              0.1111111111111111,
              "#46039f"
             ],
             [
              0.2222222222222222,
              "#7201a8"
             ],
             [
              0.3333333333333333,
              "#9c179e"
             ],
             [
              0.4444444444444444,
              "#bd3786"
             ],
             [
              0.5555555555555556,
              "#d8576b"
             ],
             [
              0.6666666666666666,
              "#ed7953"
             ],
             [
              0.7777777777777778,
              "#fb9f3a"
             ],
             [
              0.8888888888888888,
              "#fdca26"
             ],
             [
              1,
              "#f0f921"
             ]
            ],
            "type": "histogram2dcontour"
           }
          ],
          "mesh3d": [
           {
            "colorbar": {
             "outlinewidth": 0,
             "ticks": ""
            },
            "type": "mesh3d"
           }
          ],
          "parcoords": [
           {
            "line": {
             "colorbar": {
              "outlinewidth": 0,
              "ticks": ""
             }
            },
            "type": "parcoords"
           }
          ],
          "pie": [
           {
            "automargin": true,
            "type": "pie"
           }
          ],
          "scatter": [
           {
            "fillpattern": {
             "fillmode": "overlay",
             "size": 10,
             "solidity": 0.2
            },
            "type": "scatter"
           }
          ],
          "scatter3d": [
           {
            "line": {
             "colorbar": {
              "outlinewidth": 0,
              "ticks": ""
             }
            },
            "marker": {
             "colorbar": {
              "outlinewidth": 0,
              "ticks": ""
             }
            },
            "type": "scatter3d"
           }
          ],
          "scattercarpet": [
           {
            "marker": {
             "colorbar": {
              "outlinewidth": 0,
              "ticks": ""
             }
            },
            "type": "scattercarpet"
           }
          ],
          "scattergeo": [
           {
            "marker": {
             "colorbar": {
              "outlinewidth": 0,
              "ticks": ""
             }
            },
            "type": "scattergeo"
           }
          ],
          "scattergl": [
           {
            "marker": {
             "colorbar": {
              "outlinewidth": 0,
              "ticks": ""
             }
            },
            "type": "scattergl"
           }
          ],
          "scattermapbox": [
           {
            "marker": {
             "colorbar": {
              "outlinewidth": 0,
              "ticks": ""
             }
            },
            "type": "scattermapbox"
           }
          ],
          "scatterpolar": [
           {
            "marker": {
             "colorbar": {
              "outlinewidth": 0,
              "ticks": ""
             }
            },
            "type": "scatterpolar"
           }
          ],
          "scatterpolargl": [
           {
            "marker": {
             "colorbar": {
              "outlinewidth": 0,
              "ticks": ""
             }
            },
            "type": "scatterpolargl"
           }
          ],
          "scatterternary": [
           {
            "marker": {
             "colorbar": {
              "outlinewidth": 0,
              "ticks": ""
             }
            },
            "type": "scatterternary"
           }
          ],
          "surface": [
           {
            "colorbar": {
             "outlinewidth": 0,
             "ticks": ""
            },
            "colorscale": [
             [
              0,
              "#0d0887"
             ],
             [
              0.1111111111111111,
              "#46039f"
             ],
             [
              0.2222222222222222,
              "#7201a8"
             ],
             [
              0.3333333333333333,
              "#9c179e"
             ],
             [
              0.4444444444444444,
              "#bd3786"
             ],
             [
              0.5555555555555556,
              "#d8576b"
             ],
             [
              0.6666666666666666,
              "#ed7953"
             ],
             [
              0.7777777777777778,
              "#fb9f3a"
             ],
             [
              0.8888888888888888,
              "#fdca26"
             ],
             [
              1,
              "#f0f921"
             ]
            ],
            "type": "surface"
           }
          ],
          "table": [
           {
            "cells": {
             "fill": {
              "color": "#EBF0F8"
             },
             "line": {
              "color": "white"
             }
            },
            "header": {
             "fill": {
              "color": "#C8D4E3"
             },
             "line": {
              "color": "white"
             }
            },
            "type": "table"
           }
          ]
         },
         "layout": {
          "annotationdefaults": {
           "arrowcolor": "#2a3f5f",
           "arrowhead": 0,
           "arrowwidth": 1
          },
          "autotypenumbers": "strict",
          "coloraxis": {
           "colorbar": {
            "outlinewidth": 0,
            "ticks": ""
           }
          },
          "colorscale": {
           "diverging": [
            [
             0,
             "#8e0152"
            ],
            [
             0.1,
             "#c51b7d"
            ],
            [
             0.2,
             "#de77ae"
            ],
            [
             0.3,
             "#f1b6da"
            ],
            [
             0.4,
             "#fde0ef"
            ],
            [
             0.5,
             "#f7f7f7"
            ],
            [
             0.6,
             "#e6f5d0"
            ],
            [
             0.7,
             "#b8e186"
            ],
            [
             0.8,
             "#7fbc41"
            ],
            [
             0.9,
             "#4d9221"
            ],
            [
             1,
             "#276419"
            ]
           ],
           "sequential": [
            [
             0,
             "#0d0887"
            ],
            [
             0.1111111111111111,
             "#46039f"
            ],
            [
             0.2222222222222222,
             "#7201a8"
            ],
            [
             0.3333333333333333,
             "#9c179e"
            ],
            [
             0.4444444444444444,
             "#bd3786"
            ],
            [
             0.5555555555555556,
             "#d8576b"
            ],
            [
             0.6666666666666666,
             "#ed7953"
            ],
            [
             0.7777777777777778,
             "#fb9f3a"
            ],
            [
             0.8888888888888888,
             "#fdca26"
            ],
            [
             1,
             "#f0f921"
            ]
           ],
           "sequentialminus": [
            [
             0,
             "#0d0887"
            ],
            [
             0.1111111111111111,
             "#46039f"
            ],
            [
             0.2222222222222222,
             "#7201a8"
            ],
            [
             0.3333333333333333,
             "#9c179e"
            ],
            [
             0.4444444444444444,
             "#bd3786"
            ],
            [
             0.5555555555555556,
             "#d8576b"
            ],
            [
             0.6666666666666666,
             "#ed7953"
            ],
            [
             0.7777777777777778,
             "#fb9f3a"
            ],
            [
             0.8888888888888888,
             "#fdca26"
            ],
            [
             1,
             "#f0f921"
            ]
           ]
          },
          "colorway": [
           "#636efa",
           "#EF553B",
           "#00cc96",
           "#ab63fa",
           "#FFA15A",
           "#19d3f3",
           "#FF6692",
           "#B6E880",
           "#FF97FF",
           "#FECB52"
          ],
          "font": {
           "color": "#2a3f5f"
          },
          "geo": {
           "bgcolor": "white",
           "lakecolor": "white",
           "landcolor": "#E5ECF6",
           "showlakes": true,
           "showland": true,
           "subunitcolor": "white"
          },
          "hoverlabel": {
           "align": "left"
          },
          "hovermode": "closest",
          "mapbox": {
           "style": "light"
          },
          "paper_bgcolor": "white",
          "plot_bgcolor": "#E5ECF6",
          "polar": {
           "angularaxis": {
            "gridcolor": "white",
            "linecolor": "white",
            "ticks": ""
           },
           "bgcolor": "#E5ECF6",
           "radialaxis": {
            "gridcolor": "white",
            "linecolor": "white",
            "ticks": ""
           }
          },
          "scene": {
           "xaxis": {
            "backgroundcolor": "#E5ECF6",
            "gridcolor": "white",
            "gridwidth": 2,
            "linecolor": "white",
            "showbackground": true,
            "ticks": "",
            "zerolinecolor": "white"
           },
           "yaxis": {
            "backgroundcolor": "#E5ECF6",
            "gridcolor": "white",
            "gridwidth": 2,
            "linecolor": "white",
            "showbackground": true,
            "ticks": "",
            "zerolinecolor": "white"
           },
           "zaxis": {
            "backgroundcolor": "#E5ECF6",
            "gridcolor": "white",
            "gridwidth": 2,
            "linecolor": "white",
            "showbackground": true,
            "ticks": "",
            "zerolinecolor": "white"
           }
          },
          "shapedefaults": {
           "line": {
            "color": "#2a3f5f"
           }
          },
          "ternary": {
           "aaxis": {
            "gridcolor": "white",
            "linecolor": "white",
            "ticks": ""
           },
           "baxis": {
            "gridcolor": "white",
            "linecolor": "white",
            "ticks": ""
           },
           "bgcolor": "#E5ECF6",
           "caxis": {
            "gridcolor": "white",
            "linecolor": "white",
            "ticks": ""
           }
          },
          "title": {
           "x": 0.05
          },
          "xaxis": {
           "automargin": true,
           "gridcolor": "white",
           "linecolor": "white",
           "ticks": "",
           "title": {
            "standoff": 15
           },
           "zerolinecolor": "white",
           "zerolinewidth": 2
          },
          "yaxis": {
           "automargin": true,
           "gridcolor": "white",
           "linecolor": "white",
           "ticks": "",
           "title": {
            "standoff": 15
           },
           "zerolinecolor": "white",
           "zerolinewidth": 2
          }
         }
        },
        "title": {
         "text": "Ambulances, Sky is Clear"
        },
        "xaxis": {
         "anchor": "y",
         "constrain": "domain",
         "domain": [
          0,
          1
         ],
         "scaleanchor": "y",
         "title": {
          "text": "Part of Day"
         }
        },
        "yaxis": {
         "anchor": "x",
         "autorange": "reversed",
         "constrain": "domain",
         "domain": [
          0,
          1
         ],
         "title": {
          "text": "Region"
         }
        }
       }
      }
     },
     "metadata": {},
     "output_type": "display_data"
    },
    {
     "data": {
      "application/vnd.plotly.v1+json": {
       "config": {
        "plotlyServerURL": "https://plot.ly"
       },
       "data": [
        {
         "coloraxis": "coloraxis",
         "hoverinfo": "text",
         "hovertemplate": "Part of Day: %{x}<br>Region: %{y}<br>Average Number of Ambulances: %{z}<extra></extra>",
         "name": "0",
         "text": [
          [
           0.10102762803234502,
           0.5573846405288104,
           0.7043743584624086,
           0.29825457652673926
          ],
          [
           0.7610747978436658,
           4.431380993024083,
           5.196650309857857,
           2.7252280914011857
          ],
          [
           0.6937230458221025,
           4.168267746563278,
           5.429426385401228,
           2.3187831292716106
          ],
          [
           0.13807109164420486,
           0.5989288373384112,
           0.822273929192168,
           0.3304192857600151
          ],
          [
           0.14143867924528306,
           0.6508590833504122,
           0.7648356767853622,
           0.30995083442974863
          ],
          [
           0.1885849056603774,
           0.9070482970096169,
           1.1759726413814462,
           0.5087872187809082
          ],
          [
           0.1144979784366577,
           0.6093148865408115,
           0.8313431269406111,
           0.3011786410024916
          ]
         ],
         "texttemplate": "%{text:.2f}",
         "type": "heatmap",
         "x": [
          "Night Clear",
          "Morning Clear",
          "Afternoon Clear",
          "Evening Clear"
         ],
         "xaxis": "x",
         "y": [
          "EASTERN REGION",
          "METROPOLITAN NORTH WEST REGION",
          "METROPOLITAN SOUTH EAST REGION",
          "NORTH EASTERN REGION",
          "NORTHERN REGION",
          "SOUTH WESTERN REGION",
          "WESTERN REGION"
         ],
         "yaxis": "y",
         "z": [
          [
           0.10102762803234502,
           0.5573846405288104,
           0.7043743584624086,
           0.29825457652673926
          ],
          [
           0.7610747978436658,
           4.431380993024083,
           5.196650309857857,
           2.7252280914011857
          ],
          [
           0.6937230458221025,
           4.168267746563278,
           5.429426385401228,
           2.3187831292716106
          ],
          [
           0.13807109164420486,
           0.5989288373384112,
           0.822273929192168,
           0.3304192857600151
          ],
          [
           0.14143867924528306,
           0.6508590833504122,
           0.7648356767853622,
           0.30995083442974863
          ],
          [
           0.1885849056603774,
           0.9070482970096169,
           1.1759726413814462,
           0.5087872187809082
          ],
          [
           0.1144979784366577,
           0.6093148865408115,
           0.8313431269406111,
           0.3011786410024916
          ]
         ]
        }
       ],
       "layout": {
        "coloraxis": {
         "colorbar": {
          "title": {
           "text": "Average Number of Ambulances"
          }
         },
         "colorscale": [
          [
           0,
           "#00B0F0"
          ],
          [
           0.5,
           "#eeeeee"
          ],
          [
           1,
           "#E03535"
          ]
         ]
        },
        "template": {
         "data": {
          "bar": [
           {
            "error_x": {
             "color": "#2a3f5f"
            },
            "error_y": {
             "color": "#2a3f5f"
            },
            "marker": {
             "line": {
              "color": "#E5ECF6",
              "width": 0.5
             },
             "pattern": {
              "fillmode": "overlay",
              "size": 10,
              "solidity": 0.2
             }
            },
            "type": "bar"
           }
          ],
          "barpolar": [
           {
            "marker": {
             "line": {
              "color": "#E5ECF6",
              "width": 0.5
             },
             "pattern": {
              "fillmode": "overlay",
              "size": 10,
              "solidity": 0.2
             }
            },
            "type": "barpolar"
           }
          ],
          "carpet": [
           {
            "aaxis": {
             "endlinecolor": "#2a3f5f",
             "gridcolor": "white",
             "linecolor": "white",
             "minorgridcolor": "white",
             "startlinecolor": "#2a3f5f"
            },
            "baxis": {
             "endlinecolor": "#2a3f5f",
             "gridcolor": "white",
             "linecolor": "white",
             "minorgridcolor": "white",
             "startlinecolor": "#2a3f5f"
            },
            "type": "carpet"
           }
          ],
          "choropleth": [
           {
            "colorbar": {
             "outlinewidth": 0,
             "ticks": ""
            },
            "type": "choropleth"
           }
          ],
          "contour": [
           {
            "colorbar": {
             "outlinewidth": 0,
             "ticks": ""
            },
            "colorscale": [
             [
              0,
              "#0d0887"
             ],
             [
              0.1111111111111111,
              "#46039f"
             ],
             [
              0.2222222222222222,
              "#7201a8"
             ],
             [
              0.3333333333333333,
              "#9c179e"
             ],
             [
              0.4444444444444444,
              "#bd3786"
             ],
             [
              0.5555555555555556,
              "#d8576b"
             ],
             [
              0.6666666666666666,
              "#ed7953"
             ],
             [
              0.7777777777777778,
              "#fb9f3a"
             ],
             [
              0.8888888888888888,
              "#fdca26"
             ],
             [
              1,
              "#f0f921"
             ]
            ],
            "type": "contour"
           }
          ],
          "contourcarpet": [
           {
            "colorbar": {
             "outlinewidth": 0,
             "ticks": ""
            },
            "type": "contourcarpet"
           }
          ],
          "heatmap": [
           {
            "colorbar": {
             "outlinewidth": 0,
             "ticks": ""
            },
            "colorscale": [
             [
              0,
              "#0d0887"
             ],
             [
              0.1111111111111111,
              "#46039f"
             ],
             [
              0.2222222222222222,
              "#7201a8"
             ],
             [
              0.3333333333333333,
              "#9c179e"
             ],
             [
              0.4444444444444444,
              "#bd3786"
             ],
             [
              0.5555555555555556,
              "#d8576b"
             ],
             [
              0.6666666666666666,
              "#ed7953"
             ],
             [
              0.7777777777777778,
              "#fb9f3a"
             ],
             [
              0.8888888888888888,
              "#fdca26"
             ],
             [
              1,
              "#f0f921"
             ]
            ],
            "type": "heatmap"
           }
          ],
          "heatmapgl": [
           {
            "colorbar": {
             "outlinewidth": 0,
             "ticks": ""
            },
            "colorscale": [
             [
              0,
              "#0d0887"
             ],
             [
              0.1111111111111111,
              "#46039f"
             ],
             [
              0.2222222222222222,
              "#7201a8"
             ],
             [
              0.3333333333333333,
              "#9c179e"
             ],
             [
              0.4444444444444444,
              "#bd3786"
             ],
             [
              0.5555555555555556,
              "#d8576b"
             ],
             [
              0.6666666666666666,
              "#ed7953"
             ],
             [
              0.7777777777777778,
              "#fb9f3a"
             ],
             [
              0.8888888888888888,
              "#fdca26"
             ],
             [
              1,
              "#f0f921"
             ]
            ],
            "type": "heatmapgl"
           }
          ],
          "histogram": [
           {
            "marker": {
             "pattern": {
              "fillmode": "overlay",
              "size": 10,
              "solidity": 0.2
             }
            },
            "type": "histogram"
           }
          ],
          "histogram2d": [
           {
            "colorbar": {
             "outlinewidth": 0,
             "ticks": ""
            },
            "colorscale": [
             [
              0,
              "#0d0887"
             ],
             [
              0.1111111111111111,
              "#46039f"
             ],
             [
              0.2222222222222222,
              "#7201a8"
             ],
             [
              0.3333333333333333,
              "#9c179e"
             ],
             [
              0.4444444444444444,
              "#bd3786"
             ],
             [
              0.5555555555555556,
              "#d8576b"
             ],
             [
              0.6666666666666666,
              "#ed7953"
             ],
             [
              0.7777777777777778,
              "#fb9f3a"
             ],
             [
              0.8888888888888888,
              "#fdca26"
             ],
             [
              1,
              "#f0f921"
             ]
            ],
            "type": "histogram2d"
           }
          ],
          "histogram2dcontour": [
           {
            "colorbar": {
             "outlinewidth": 0,
             "ticks": ""
            },
            "colorscale": [
             [
              0,
              "#0d0887"
             ],
             [
              0.1111111111111111,
              "#46039f"
             ],
             [
              0.2222222222222222,
              "#7201a8"
             ],
             [
              0.3333333333333333,
              "#9c179e"
             ],
             [
              0.4444444444444444,
              "#bd3786"
             ],
             [
              0.5555555555555556,
              "#d8576b"
             ],
             [
              0.6666666666666666,
              "#ed7953"
             ],
             [
              0.7777777777777778,
              "#fb9f3a"
             ],
             [
              0.8888888888888888,
              "#fdca26"
             ],
             [
              1,
              "#f0f921"
             ]
            ],
            "type": "histogram2dcontour"
           }
          ],
          "mesh3d": [
           {
            "colorbar": {
             "outlinewidth": 0,
             "ticks": ""
            },
            "type": "mesh3d"
           }
          ],
          "parcoords": [
           {
            "line": {
             "colorbar": {
              "outlinewidth": 0,
              "ticks": ""
             }
            },
            "type": "parcoords"
           }
          ],
          "pie": [
           {
            "automargin": true,
            "type": "pie"
           }
          ],
          "scatter": [
           {
            "fillpattern": {
             "fillmode": "overlay",
             "size": 10,
             "solidity": 0.2
            },
            "type": "scatter"
           }
          ],
          "scatter3d": [
           {
            "line": {
             "colorbar": {
              "outlinewidth": 0,
              "ticks": ""
             }
            },
            "marker": {
             "colorbar": {
              "outlinewidth": 0,
              "ticks": ""
             }
            },
            "type": "scatter3d"
           }
          ],
          "scattercarpet": [
           {
            "marker": {
             "colorbar": {
              "outlinewidth": 0,
              "ticks": ""
             }
            },
            "type": "scattercarpet"
           }
          ],
          "scattergeo": [
           {
            "marker": {
             "colorbar": {
              "outlinewidth": 0,
              "ticks": ""
             }
            },
            "type": "scattergeo"
           }
          ],
          "scattergl": [
           {
            "marker": {
             "colorbar": {
              "outlinewidth": 0,
              "ticks": ""
             }
            },
            "type": "scattergl"
           }
          ],
          "scattermapbox": [
           {
            "marker": {
             "colorbar": {
              "outlinewidth": 0,
              "ticks": ""
             }
            },
            "type": "scattermapbox"
           }
          ],
          "scatterpolar": [
           {
            "marker": {
             "colorbar": {
              "outlinewidth": 0,
              "ticks": ""
             }
            },
            "type": "scatterpolar"
           }
          ],
          "scatterpolargl": [
           {
            "marker": {
             "colorbar": {
              "outlinewidth": 0,
              "ticks": ""
             }
            },
            "type": "scatterpolargl"
           }
          ],
          "scatterternary": [
           {
            "marker": {
             "colorbar": {
              "outlinewidth": 0,
              "ticks": ""
             }
            },
            "type": "scatterternary"
           }
          ],
          "surface": [
           {
            "colorbar": {
             "outlinewidth": 0,
             "ticks": ""
            },
            "colorscale": [
             [
              0,
              "#0d0887"
             ],
             [
              0.1111111111111111,
              "#46039f"
             ],
             [
              0.2222222222222222,
              "#7201a8"
             ],
             [
              0.3333333333333333,
              "#9c179e"
             ],
             [
              0.4444444444444444,
              "#bd3786"
             ],
             [
              0.5555555555555556,
              "#d8576b"
             ],
             [
              0.6666666666666666,
              "#ed7953"
             ],
             [
              0.7777777777777778,
              "#fb9f3a"
             ],
             [
              0.8888888888888888,
              "#fdca26"
             ],
             [
              1,
              "#f0f921"
             ]
            ],
            "type": "surface"
           }
          ],
          "table": [
           {
            "cells": {
             "fill": {
              "color": "#EBF0F8"
             },
             "line": {
              "color": "white"
             }
            },
            "header": {
             "fill": {
              "color": "#C8D4E3"
             },
             "line": {
              "color": "white"
             }
            },
            "type": "table"
           }
          ]
         },
         "layout": {
          "annotationdefaults": {
           "arrowcolor": "#2a3f5f",
           "arrowhead": 0,
           "arrowwidth": 1
          },
          "autotypenumbers": "strict",
          "coloraxis": {
           "colorbar": {
            "outlinewidth": 0,
            "ticks": ""
           }
          },
          "colorscale": {
           "diverging": [
            [
             0,
             "#8e0152"
            ],
            [
             0.1,
             "#c51b7d"
            ],
            [
             0.2,
             "#de77ae"
            ],
            [
             0.3,
             "#f1b6da"
            ],
            [
             0.4,
             "#fde0ef"
            ],
            [
             0.5,
             "#f7f7f7"
            ],
            [
             0.6,
             "#e6f5d0"
            ],
            [
             0.7,
             "#b8e186"
            ],
            [
             0.8,
             "#7fbc41"
            ],
            [
             0.9,
             "#4d9221"
            ],
            [
             1,
             "#276419"
            ]
           ],
           "sequential": [
            [
             0,
             "#0d0887"
            ],
            [
             0.1111111111111111,
             "#46039f"
            ],
            [
             0.2222222222222222,
             "#7201a8"
            ],
            [
             0.3333333333333333,
             "#9c179e"
            ],
            [
             0.4444444444444444,
             "#bd3786"
            ],
            [
             0.5555555555555556,
             "#d8576b"
            ],
            [
             0.6666666666666666,
             "#ed7953"
            ],
            [
             0.7777777777777778,
             "#fb9f3a"
            ],
            [
             0.8888888888888888,
             "#fdca26"
            ],
            [
             1,
             "#f0f921"
            ]
           ],
           "sequentialminus": [
            [
             0,
             "#0d0887"
            ],
            [
             0.1111111111111111,
             "#46039f"
            ],
            [
             0.2222222222222222,
             "#7201a8"
            ],
            [
             0.3333333333333333,
             "#9c179e"
            ],
            [
             0.4444444444444444,
             "#bd3786"
            ],
            [
             0.5555555555555556,
             "#d8576b"
            ],
            [
             0.6666666666666666,
             "#ed7953"
            ],
            [
             0.7777777777777778,
             "#fb9f3a"
            ],
            [
             0.8888888888888888,
             "#fdca26"
            ],
            [
             1,
             "#f0f921"
            ]
           ]
          },
          "colorway": [
           "#636efa",
           "#EF553B",
           "#00cc96",
           "#ab63fa",
           "#FFA15A",
           "#19d3f3",
           "#FF6692",
           "#B6E880",
           "#FF97FF",
           "#FECB52"
          ],
          "font": {
           "color": "#2a3f5f"
          },
          "geo": {
           "bgcolor": "white",
           "lakecolor": "white",
           "landcolor": "#E5ECF6",
           "showlakes": true,
           "showland": true,
           "subunitcolor": "white"
          },
          "hoverlabel": {
           "align": "left"
          },
          "hovermode": "closest",
          "mapbox": {
           "style": "light"
          },
          "paper_bgcolor": "white",
          "plot_bgcolor": "#E5ECF6",
          "polar": {
           "angularaxis": {
            "gridcolor": "white",
            "linecolor": "white",
            "ticks": ""
           },
           "bgcolor": "#E5ECF6",
           "radialaxis": {
            "gridcolor": "white",
            "linecolor": "white",
            "ticks": ""
           }
          },
          "scene": {
           "xaxis": {
            "backgroundcolor": "#E5ECF6",
            "gridcolor": "white",
            "gridwidth": 2,
            "linecolor": "white",
            "showbackground": true,
            "ticks": "",
            "zerolinecolor": "white"
           },
           "yaxis": {
            "backgroundcolor": "#E5ECF6",
            "gridcolor": "white",
            "gridwidth": 2,
            "linecolor": "white",
            "showbackground": true,
            "ticks": "",
            "zerolinecolor": "white"
           },
           "zaxis": {
            "backgroundcolor": "#E5ECF6",
            "gridcolor": "white",
            "gridwidth": 2,
            "linecolor": "white",
            "showbackground": true,
            "ticks": "",
            "zerolinecolor": "white"
           }
          },
          "shapedefaults": {
           "line": {
            "color": "#2a3f5f"
           }
          },
          "ternary": {
           "aaxis": {
            "gridcolor": "white",
            "linecolor": "white",
            "ticks": ""
           },
           "baxis": {
            "gridcolor": "white",
            "linecolor": "white",
            "ticks": ""
           },
           "bgcolor": "#E5ECF6",
           "caxis": {
            "gridcolor": "white",
            "linecolor": "white",
            "ticks": ""
           }
          },
          "title": {
           "x": 0.05
          },
          "xaxis": {
           "automargin": true,
           "gridcolor": "white",
           "linecolor": "white",
           "ticks": "",
           "title": {
            "standoff": 15
           },
           "zerolinecolor": "white",
           "zerolinewidth": 2
          },
          "yaxis": {
           "automargin": true,
           "gridcolor": "white",
           "linecolor": "white",
           "ticks": "",
           "title": {
            "standoff": 15
           },
           "zerolinecolor": "white",
           "zerolinewidth": 2
          }
         }
        },
        "title": {
         "text": "Ambulances, Sky is Clear"
        },
        "xaxis": {
         "anchor": "y",
         "constrain": "domain",
         "domain": [
          0,
          1
         ],
         "scaleanchor": "y",
         "title": {
          "text": "Part of Day"
         }
        },
        "yaxis": {
         "anchor": "x",
         "autorange": "reversed",
         "constrain": "domain",
         "domain": [
          0,
          1
         ],
         "title": {
          "text": "Region"
         }
        }
       }
      }
     },
     "metadata": {},
     "output_type": "display_data"
    }
   ],
   "source": [
    "# train and test split\n",
    "min_date = pd.to_datetime(TRAIN_SPLIT_MIN_DATE)\n",
    "split_date = pd.to_datetime(TEST_TRAIN_SPLIT_DATE)\n",
    "max_date = pd.to_datetime(TEST_SPLIT_MAX_DATE)\n",
    "\n",
    "\n",
    "# testing how it pivots\n",
    "df_train = df\\\n",
    "    .query('date >= @min_date & date < @split_date')\\\n",
    "    .pivot_table(\n",
    "        index = ['day','hour_bin','region','sky'],\n",
    "        values = ['scaled_police', 'scaled_ambulance'],\n",
    "        aggfunc = 'sum'\n",
    "    ) / calc_num_weeks_between(min_date, split_date)\n",
    "\n",
    "\n",
    "\n",
    "# testing how it pivots\n",
    "df_test = df\\\n",
    "    .query('date >= @split_date & date < @max_date')\\\n",
    "    .pivot_table(\n",
    "        index = ['day','hour_bin','region','sky'],\n",
    "        values = ['scaled_police', 'scaled_ambulance'],\n",
    "        aggfunc = 'sum'\n",
    "    ) / calc_num_weeks_between(split_date, max_date)\n",
    "\n",
    "# displaying data\n",
    "fig = display_final_df(df_train)\n",
    "fig = display_final_df(df_test)"
   ]
  },
  {
   "cell_type": "code",
   "execution_count": 11,
   "metadata": {},
   "outputs": [
    {
     "data": {
      "text/html": [
       "<div>\n",
       "<style scoped>\n",
       "    .dataframe tbody tr th:only-of-type {\n",
       "        vertical-align: middle;\n",
       "    }\n",
       "\n",
       "    .dataframe tbody tr th {\n",
       "        vertical-align: top;\n",
       "    }\n",
       "\n",
       "    .dataframe thead th {\n",
       "        text-align: right;\n",
       "    }\n",
       "</style>\n",
       "<table border=\"1\" class=\"dataframe\">\n",
       "  <thead>\n",
       "    <tr style=\"text-align: right;\">\n",
       "      <th></th>\n",
       "      <th>Unnamed: 0</th>\n",
       "      <th>police_needed</th>\n",
       "      <th>ambulance_needed</th>\n",
       "      <th>scaled_police</th>\n",
       "      <th>scaled_ambulance</th>\n",
       "    </tr>\n",
       "    <tr>\n",
       "      <th>date_stamp</th>\n",
       "      <th></th>\n",
       "      <th></th>\n",
       "      <th></th>\n",
       "      <th></th>\n",
       "      <th></th>\n",
       "    </tr>\n",
       "  </thead>\n",
       "  <tbody>\n",
       "    <tr>\n",
       "      <th>2015-02-13</th>\n",
       "      <td>3162</td>\n",
       "      <td>1</td>\n",
       "      <td>2</td>\n",
       "      <td>9.226563</td>\n",
       "      <td>18.453125</td>\n",
       "    </tr>\n",
       "    <tr>\n",
       "      <th>2015-04-17</th>\n",
       "      <td>49298</td>\n",
       "      <td>9</td>\n",
       "      <td>11</td>\n",
       "      <td>83.039063</td>\n",
       "      <td>101.492188</td>\n",
       "    </tr>\n",
       "    <tr>\n",
       "      <th>2015-05-08</th>\n",
       "      <td>24537</td>\n",
       "      <td>3</td>\n",
       "      <td>3</td>\n",
       "      <td>27.679688</td>\n",
       "      <td>27.679688</td>\n",
       "    </tr>\n",
       "    <tr>\n",
       "      <th>2015-06-05</th>\n",
       "      <td>38249</td>\n",
       "      <td>7</td>\n",
       "      <td>8</td>\n",
       "      <td>64.585938</td>\n",
       "      <td>73.812500</td>\n",
       "    </tr>\n",
       "    <tr>\n",
       "      <th>2015-07-17</th>\n",
       "      <td>15408</td>\n",
       "      <td>1</td>\n",
       "      <td>2</td>\n",
       "      <td>9.226563</td>\n",
       "      <td>18.453125</td>\n",
       "    </tr>\n",
       "    <tr>\n",
       "      <th>...</th>\n",
       "      <td>...</td>\n",
       "      <td>...</td>\n",
       "      <td>...</td>\n",
       "      <td>...</td>\n",
       "      <td>...</td>\n",
       "    </tr>\n",
       "    <tr>\n",
       "      <th>2019-11-08</th>\n",
       "      <td>59425</td>\n",
       "      <td>1</td>\n",
       "      <td>1</td>\n",
       "      <td>9.226563</td>\n",
       "      <td>9.226563</td>\n",
       "    </tr>\n",
       "    <tr>\n",
       "      <th>2019-12-06</th>\n",
       "      <td>230134</td>\n",
       "      <td>4</td>\n",
       "      <td>4</td>\n",
       "      <td>36.906250</td>\n",
       "      <td>36.906250</td>\n",
       "    </tr>\n",
       "    <tr>\n",
       "      <th>2019-12-20</th>\n",
       "      <td>193421</td>\n",
       "      <td>2</td>\n",
       "      <td>3</td>\n",
       "      <td>18.453125</td>\n",
       "      <td>27.679688</td>\n",
       "    </tr>\n",
       "    <tr>\n",
       "      <th>2020-02-14</th>\n",
       "      <td>532508</td>\n",
       "      <td>5</td>\n",
       "      <td>8</td>\n",
       "      <td>46.132813</td>\n",
       "      <td>73.812500</td>\n",
       "    </tr>\n",
       "    <tr>\n",
       "      <th>2020-05-01</th>\n",
       "      <td>194734</td>\n",
       "      <td>3</td>\n",
       "      <td>3</td>\n",
       "      <td>27.679688</td>\n",
       "      <td>27.679688</td>\n",
       "    </tr>\n",
       "  </tbody>\n",
       "</table>\n",
       "<p>64 rows × 5 columns</p>\n",
       "</div>"
      ],
      "text/plain": [
       "            Unnamed: 0  police_needed  ambulance_needed  scaled_police  \\\n",
       "date_stamp                                                               \n",
       "2015-02-13        3162              1                 2       9.226563   \n",
       "2015-04-17       49298              9                11      83.039063   \n",
       "2015-05-08       24537              3                 3      27.679688   \n",
       "2015-06-05       38249              7                 8      64.585938   \n",
       "2015-07-17       15408              1                 2       9.226563   \n",
       "...                ...            ...               ...            ...   \n",
       "2019-11-08       59425              1                 1       9.226563   \n",
       "2019-12-06      230134              4                 4      36.906250   \n",
       "2019-12-20      193421              2                 3      18.453125   \n",
       "2020-02-14      532508              5                 8      46.132813   \n",
       "2020-05-01      194734              3                 3      27.679688   \n",
       "\n",
       "            scaled_ambulance  \n",
       "date_stamp                    \n",
       "2015-02-13         18.453125  \n",
       "2015-04-17        101.492188  \n",
       "2015-05-08         27.679688  \n",
       "2015-06-05         73.812500  \n",
       "2015-07-17         18.453125  \n",
       "...                      ...  \n",
       "2019-11-08          9.226563  \n",
       "2019-12-06         36.906250  \n",
       "2019-12-20         27.679688  \n",
       "2020-02-14         73.812500  \n",
       "2020-05-01         27.679688  \n",
       "\n",
       "[64 rows x 5 columns]"
      ]
     },
     "execution_count": 11,
     "metadata": {},
     "output_type": "execute_result"
    }
   ],
   "source": [
    "# exploring the values of crashes at one friday afternoon with rainy skys in the south eastern metro region\n",
    "df.query('hour_bin == \"Afternoon\" & day == \"Friday\" & sky == \"Not clear\" & region == \"METROPOLITAN SOUTH EAST REGION\"').groupby('date_stamp').sum()"
   ]
  },
  {
   "cell_type": "code",
   "execution_count": 12,
   "metadata": {},
   "outputs": [
    {
     "data": {
      "text/html": [
       "<div>\n",
       "<style scoped>\n",
       "    .dataframe tbody tr th:only-of-type {\n",
       "        vertical-align: middle;\n",
       "    }\n",
       "\n",
       "    .dataframe tbody tr th {\n",
       "        vertical-align: top;\n",
       "    }\n",
       "\n",
       "    .dataframe thead th {\n",
       "        text-align: right;\n",
       "    }\n",
       "</style>\n",
       "<table border=\"1\" class=\"dataframe\">\n",
       "  <thead>\n",
       "    <tr style=\"text-align: right;\">\n",
       "      <th></th>\n",
       "      <th>Unnamed: 0</th>\n",
       "      <th>police_needed</th>\n",
       "      <th>ambulance_needed</th>\n",
       "      <th>scaled_police</th>\n",
       "      <th>scaled_ambulance</th>\n",
       "    </tr>\n",
       "    <tr>\n",
       "      <th>date_stamp</th>\n",
       "      <th></th>\n",
       "      <th></th>\n",
       "      <th></th>\n",
       "      <th></th>\n",
       "      <th></th>\n",
       "    </tr>\n",
       "  </thead>\n",
       "  <tbody>\n",
       "    <tr>\n",
       "      <th>2015-01-02</th>\n",
       "      <td>16727</td>\n",
       "      <td>3</td>\n",
       "      <td>4</td>\n",
       "      <td>3.364672</td>\n",
       "      <td>4.486230</td>\n",
       "    </tr>\n",
       "    <tr>\n",
       "      <th>2015-01-09</th>\n",
       "      <td>64278</td>\n",
       "      <td>6</td>\n",
       "      <td>7</td>\n",
       "      <td>6.729345</td>\n",
       "      <td>7.850902</td>\n",
       "    </tr>\n",
       "    <tr>\n",
       "      <th>2015-01-16</th>\n",
       "      <td>2621</td>\n",
       "      <td>4</td>\n",
       "      <td>5</td>\n",
       "      <td>4.486230</td>\n",
       "      <td>5.607787</td>\n",
       "    </tr>\n",
       "    <tr>\n",
       "      <th>2015-01-23</th>\n",
       "      <td>6144</td>\n",
       "      <td>5</td>\n",
       "      <td>6</td>\n",
       "      <td>5.607787</td>\n",
       "      <td>6.729345</td>\n",
       "    </tr>\n",
       "    <tr>\n",
       "      <th>2015-01-30</th>\n",
       "      <td>16711</td>\n",
       "      <td>6</td>\n",
       "      <td>7</td>\n",
       "      <td>6.729345</td>\n",
       "      <td>7.850902</td>\n",
       "    </tr>\n",
       "    <tr>\n",
       "      <th>...</th>\n",
       "      <td>...</td>\n",
       "      <td>...</td>\n",
       "      <td>...</td>\n",
       "      <td>...</td>\n",
       "      <td>...</td>\n",
       "    </tr>\n",
       "    <tr>\n",
       "      <th>2020-09-18</th>\n",
       "      <td>140561</td>\n",
       "      <td>2</td>\n",
       "      <td>2</td>\n",
       "      <td>2.243115</td>\n",
       "      <td>2.243115</td>\n",
       "    </tr>\n",
       "    <tr>\n",
       "      <th>2020-10-02</th>\n",
       "      <td>330458</td>\n",
       "      <td>5</td>\n",
       "      <td>5</td>\n",
       "      <td>5.607787</td>\n",
       "      <td>5.607787</td>\n",
       "    </tr>\n",
       "    <tr>\n",
       "      <th>2020-10-09</th>\n",
       "      <td>210492</td>\n",
       "      <td>3</td>\n",
       "      <td>3</td>\n",
       "      <td>3.364672</td>\n",
       "      <td>3.364672</td>\n",
       "    </tr>\n",
       "    <tr>\n",
       "      <th>2020-10-16</th>\n",
       "      <td>140655</td>\n",
       "      <td>2</td>\n",
       "      <td>2</td>\n",
       "      <td>2.243115</td>\n",
       "      <td>2.243115</td>\n",
       "    </tr>\n",
       "    <tr>\n",
       "      <th>2020-11-06</th>\n",
       "      <td>484733</td>\n",
       "      <td>7</td>\n",
       "      <td>7</td>\n",
       "      <td>7.850902</td>\n",
       "      <td>7.850902</td>\n",
       "    </tr>\n",
       "  </tbody>\n",
       "</table>\n",
       "<p>290 rows × 5 columns</p>\n",
       "</div>"
      ],
      "text/plain": [
       "            Unnamed: 0  police_needed  ambulance_needed  scaled_police  \\\n",
       "date_stamp                                                               \n",
       "2015-01-02       16727              3                 4       3.364672   \n",
       "2015-01-09       64278              6                 7       6.729345   \n",
       "2015-01-16        2621              4                 5       4.486230   \n",
       "2015-01-23        6144              5                 6       5.607787   \n",
       "2015-01-30       16711              6                 7       6.729345   \n",
       "...                ...            ...               ...            ...   \n",
       "2020-09-18      140561              2                 2       2.243115   \n",
       "2020-10-02      330458              5                 5       5.607787   \n",
       "2020-10-09      210492              3                 3       3.364672   \n",
       "2020-10-16      140655              2                 2       2.243115   \n",
       "2020-11-06      484733              7                 7       7.850902   \n",
       "\n",
       "            scaled_ambulance  \n",
       "date_stamp                    \n",
       "2015-01-02          4.486230  \n",
       "2015-01-09          7.850902  \n",
       "2015-01-16          5.607787  \n",
       "2015-01-23          6.729345  \n",
       "2015-01-30          7.850902  \n",
       "...                      ...  \n",
       "2020-09-18          2.243115  \n",
       "2020-10-02          5.607787  \n",
       "2020-10-09          3.364672  \n",
       "2020-10-16          2.243115  \n",
       "2020-11-06          7.850902  \n",
       "\n",
       "[290 rows x 5 columns]"
      ]
     },
     "execution_count": 12,
     "metadata": {},
     "output_type": "execute_result"
    }
   ],
   "source": [
    "# exploring the values of crashes at one friday afternoon with clear skys in the south eastern metro region\n",
    "df.query('hour_bin == \"Afternoon\" & day == \"Friday\" & sky == \"Clear\" & region == \"METROPOLITAN SOUTH EAST REGION\"').groupby('date_stamp').sum()"
   ]
  },
  {
   "cell_type": "code",
   "execution_count": 13,
   "metadata": {},
   "outputs": [],
   "source": [
    "# saving pre split data for comparisons\n",
    "df.to_csv(ROOT_DIR + PREPIVOT_TRAIN_TEST_DATA_DIR)"
   ]
  },
  {
   "cell_type": "code",
   "execution_count": 14,
   "metadata": {},
   "outputs": [
    {
     "data": {
      "text/html": [
       "<div>\n",
       "<style scoped>\n",
       "    .dataframe tbody tr th:only-of-type {\n",
       "        vertical-align: middle;\n",
       "    }\n",
       "\n",
       "    .dataframe tbody tr th {\n",
       "        vertical-align: top;\n",
       "    }\n",
       "\n",
       "    .dataframe thead th {\n",
       "        text-align: right;\n",
       "    }\n",
       "</style>\n",
       "<table border=\"1\" class=\"dataframe\">\n",
       "  <thead>\n",
       "    <tr style=\"text-align: right;\">\n",
       "      <th></th>\n",
       "      <th>Day of the Week</th>\n",
       "      <th>Part of Day</th>\n",
       "      <th>Region</th>\n",
       "      <th>Sky</th>\n",
       "      <th>Ambulance</th>\n",
       "      <th>Police</th>\n",
       "    </tr>\n",
       "  </thead>\n",
       "  <tbody>\n",
       "    <tr>\n",
       "      <th>0</th>\n",
       "      <td>Friday</td>\n",
       "      <td>Afternoon</td>\n",
       "      <td>EASTERN REGION</td>\n",
       "      <td>Clear</td>\n",
       "      <td>0.880074</td>\n",
       "      <td>0.724451</td>\n",
       "    </tr>\n",
       "    <tr>\n",
       "      <th>1</th>\n",
       "      <td>Friday</td>\n",
       "      <td>Afternoon</td>\n",
       "      <td>EASTERN REGION</td>\n",
       "      <td>Not clear</td>\n",
       "      <td>1.368533</td>\n",
       "      <td>1.103656</td>\n",
       "    </tr>\n",
       "    <tr>\n",
       "      <th>2</th>\n",
       "      <td>Friday</td>\n",
       "      <td>Afternoon</td>\n",
       "      <td>METROPOLITAN NORTH WEST REGION</td>\n",
       "      <td>Clear</td>\n",
       "      <td>5.199948</td>\n",
       "      <td>4.164252</td>\n",
       "    </tr>\n",
       "    <tr>\n",
       "      <th>3</th>\n",
       "      <td>Friday</td>\n",
       "      <td>Afternoon</td>\n",
       "      <td>METROPOLITAN NORTH WEST REGION</td>\n",
       "      <td>Not clear</td>\n",
       "      <td>5.783156</td>\n",
       "      <td>4.591208</td>\n",
       "    </tr>\n",
       "    <tr>\n",
       "      <th>4</th>\n",
       "      <td>Friday</td>\n",
       "      <td>Afternoon</td>\n",
       "      <td>METROPOLITAN SOUTH EAST REGION</td>\n",
       "      <td>Clear</td>\n",
       "      <td>6.010260</td>\n",
       "      <td>4.743812</td>\n",
       "    </tr>\n",
       "    <tr>\n",
       "      <th>5</th>\n",
       "      <td>Friday</td>\n",
       "      <td>Afternoon</td>\n",
       "      <td>METROPOLITAN SOUTH EAST REGION</td>\n",
       "      <td>Not clear</td>\n",
       "      <td>7.813883</td>\n",
       "      <td>6.445350</td>\n",
       "    </tr>\n",
       "    <tr>\n",
       "      <th>6</th>\n",
       "      <td>Friday</td>\n",
       "      <td>Afternoon</td>\n",
       "      <td>NORTH EASTERN REGION</td>\n",
       "      <td>Clear</td>\n",
       "      <td>1.073261</td>\n",
       "      <td>0.826411</td>\n",
       "    </tr>\n",
       "    <tr>\n",
       "      <th>7</th>\n",
       "      <td>Friday</td>\n",
       "      <td>Afternoon</td>\n",
       "      <td>NORTH EASTERN REGION</td>\n",
       "      <td>Not clear</td>\n",
       "      <td>0.794632</td>\n",
       "      <td>0.706340</td>\n",
       "    </tr>\n",
       "    <tr>\n",
       "      <th>8</th>\n",
       "      <td>Friday</td>\n",
       "      <td>Afternoon</td>\n",
       "      <td>NORTHERN REGION</td>\n",
       "      <td>Clear</td>\n",
       "      <td>0.896173</td>\n",
       "      <td>0.724451</td>\n",
       "    </tr>\n",
       "    <tr>\n",
       "      <th>9</th>\n",
       "      <td>Friday</td>\n",
       "      <td>Afternoon</td>\n",
       "      <td>NORTHERN REGION</td>\n",
       "      <td>Not clear</td>\n",
       "      <td>1.103656</td>\n",
       "      <td>0.882925</td>\n",
       "    </tr>\n",
       "    <tr>\n",
       "      <th>10</th>\n",
       "      <td>Friday</td>\n",
       "      <td>Afternoon</td>\n",
       "      <td>SOUTH WESTERN REGION</td>\n",
       "      <td>Clear</td>\n",
       "      <td>1.110825</td>\n",
       "      <td>0.912272</td>\n",
       "    </tr>\n",
       "    <tr>\n",
       "      <th>11</th>\n",
       "      <td>Friday</td>\n",
       "      <td>Afternoon</td>\n",
       "      <td>SOUTH WESTERN REGION</td>\n",
       "      <td>Not clear</td>\n",
       "      <td>1.324387</td>\n",
       "      <td>1.147802</td>\n",
       "    </tr>\n",
       "    <tr>\n",
       "      <th>12</th>\n",
       "      <td>Friday</td>\n",
       "      <td>Afternoon</td>\n",
       "      <td>WESTERN REGION</td>\n",
       "      <td>Clear</td>\n",
       "      <td>0.815678</td>\n",
       "      <td>0.676154</td>\n",
       "    </tr>\n",
       "    <tr>\n",
       "      <th>13</th>\n",
       "      <td>Friday</td>\n",
       "      <td>Afternoon</td>\n",
       "      <td>WESTERN REGION</td>\n",
       "      <td>Not clear</td>\n",
       "      <td>0.838778</td>\n",
       "      <td>0.794632</td>\n",
       "    </tr>\n",
       "    <tr>\n",
       "      <th>14</th>\n",
       "      <td>Friday</td>\n",
       "      <td>Evening</td>\n",
       "      <td>EASTERN REGION</td>\n",
       "      <td>Clear</td>\n",
       "      <td>0.358149</td>\n",
       "      <td>0.332196</td>\n",
       "    </tr>\n",
       "    <tr>\n",
       "      <th>15</th>\n",
       "      <td>Friday</td>\n",
       "      <td>Evening</td>\n",
       "      <td>EASTERN REGION</td>\n",
       "      <td>Not clear</td>\n",
       "      <td>1.529733</td>\n",
       "      <td>1.346165</td>\n",
       "    </tr>\n",
       "    <tr>\n",
       "      <th>16</th>\n",
       "      <td>Friday</td>\n",
       "      <td>Evening</td>\n",
       "      <td>METROPOLITAN NORTH WEST REGION</td>\n",
       "      <td>Clear</td>\n",
       "      <td>3.072814</td>\n",
       "      <td>2.667950</td>\n",
       "    </tr>\n",
       "    <tr>\n",
       "      <th>17</th>\n",
       "      <td>Friday</td>\n",
       "      <td>Evening</td>\n",
       "      <td>METROPOLITAN NORTH WEST REGION</td>\n",
       "      <td>Not clear</td>\n",
       "      <td>5.874176</td>\n",
       "      <td>4.772768</td>\n",
       "    </tr>\n",
       "    <tr>\n",
       "      <th>18</th>\n",
       "      <td>Friday</td>\n",
       "      <td>Evening</td>\n",
       "      <td>METROPOLITAN SOUTH EAST REGION</td>\n",
       "      <td>Clear</td>\n",
       "      <td>2.569329</td>\n",
       "      <td>2.216371</td>\n",
       "    </tr>\n",
       "    <tr>\n",
       "      <th>19</th>\n",
       "      <td>Friday</td>\n",
       "      <td>Evening</td>\n",
       "      <td>METROPOLITAN SOUTH EAST REGION</td>\n",
       "      <td>Not clear</td>\n",
       "      <td>6.730827</td>\n",
       "      <td>5.629419</td>\n",
       "    </tr>\n",
       "  </tbody>\n",
       "</table>\n",
       "</div>"
      ],
      "text/plain": [
       "   Day of the Week Part of Day                          Region        Sky  \\\n",
       "0           Friday   Afternoon                  EASTERN REGION      Clear   \n",
       "1           Friday   Afternoon                  EASTERN REGION  Not clear   \n",
       "2           Friday   Afternoon  METROPOLITAN NORTH WEST REGION      Clear   \n",
       "3           Friday   Afternoon  METROPOLITAN NORTH WEST REGION  Not clear   \n",
       "4           Friday   Afternoon  METROPOLITAN SOUTH EAST REGION      Clear   \n",
       "5           Friday   Afternoon  METROPOLITAN SOUTH EAST REGION  Not clear   \n",
       "6           Friday   Afternoon            NORTH EASTERN REGION      Clear   \n",
       "7           Friday   Afternoon            NORTH EASTERN REGION  Not clear   \n",
       "8           Friday   Afternoon                 NORTHERN REGION      Clear   \n",
       "9           Friday   Afternoon                 NORTHERN REGION  Not clear   \n",
       "10          Friday   Afternoon            SOUTH WESTERN REGION      Clear   \n",
       "11          Friday   Afternoon            SOUTH WESTERN REGION  Not clear   \n",
       "12          Friday   Afternoon                  WESTERN REGION      Clear   \n",
       "13          Friday   Afternoon                  WESTERN REGION  Not clear   \n",
       "14          Friday     Evening                  EASTERN REGION      Clear   \n",
       "15          Friday     Evening                  EASTERN REGION  Not clear   \n",
       "16          Friday     Evening  METROPOLITAN NORTH WEST REGION      Clear   \n",
       "17          Friday     Evening  METROPOLITAN NORTH WEST REGION  Not clear   \n",
       "18          Friday     Evening  METROPOLITAN SOUTH EAST REGION      Clear   \n",
       "19          Friday     Evening  METROPOLITAN SOUTH EAST REGION  Not clear   \n",
       "\n",
       "    Ambulance    Police  \n",
       "0    0.880074  0.724451  \n",
       "1    1.368533  1.103656  \n",
       "2    5.199948  4.164252  \n",
       "3    5.783156  4.591208  \n",
       "4    6.010260  4.743812  \n",
       "5    7.813883  6.445350  \n",
       "6    1.073261  0.826411  \n",
       "7    0.794632  0.706340  \n",
       "8    0.896173  0.724451  \n",
       "9    1.103656  0.882925  \n",
       "10   1.110825  0.912272  \n",
       "11   1.324387  1.147802  \n",
       "12   0.815678  0.676154  \n",
       "13   0.838778  0.794632  \n",
       "14   0.358149  0.332196  \n",
       "15   1.529733  1.346165  \n",
       "16   3.072814  2.667950  \n",
       "17   5.874176  4.772768  \n",
       "18   2.569329  2.216371  \n",
       "19   6.730827  5.629419  "
      ]
     },
     "execution_count": 14,
     "metadata": {},
     "output_type": "execute_result"
    }
   ],
   "source": [
    "area_type = 'region' \n",
    "# area_type = 'lga'   # testing region vs lga split\n",
    "\n",
    "# pivoting training data\n",
    "df_train = df\\\n",
    "    .query('date >= @min_date & date < @split_date')\\\n",
    "    .pivot_table(\n",
    "        index = ['day','hour_bin',area_type,'sky'],\n",
    "        values = ['scaled_police', 'scaled_ambulance'],\n",
    "        aggfunc = 'sum'\n",
    "    ) / calc_num_weeks_between(min_date, split_date)\n",
    "\n",
    "\n",
    "# pivoting test data\n",
    "df_test = df\\\n",
    "    .query('date >= @split_date & date < @max_date')\\\n",
    "    .pivot_table(\n",
    "        index = ['day','hour_bin',area_type,'sky'],\n",
    "        values = ['scaled_police', 'scaled_ambulance'],\n",
    "        aggfunc = 'sum'\n",
    "    ) / calc_num_weeks_between(split_date, max_date)\n",
    "\n",
    "# columns to rename\n",
    "columns = {\n",
    "    'hour_bin': 'Part of Day',\n",
    "    'day': 'Day of the Week',\n",
    "    'sky': 'Sky',\n",
    "    'region': 'Region',\n",
    "    'lga': 'LGA',\n",
    "    'scaled_police':'Police',\n",
    "    'scaled_ambulance': 'Ambulance',\n",
    "    }\n",
    "\n",
    "# renaming columns\n",
    "df_train = df_train.reset_index().rename(columns = columns)\n",
    "df_test = df_test.reset_index().rename(columns = columns)\n",
    "\n",
    "# saving data\n",
    "df_train.to_csv(ROOT_DIR + ('_' + area_type +'.').join(TRAINING_DATA_DIR.split('.')), index= False)\n",
    "df_test.to_csv(ROOT_DIR + ('_' + area_type +'.').join(TESTING_DATA_DIR.split('.')), index= False)\n",
    "\n",
    "# printing some data\n",
    "df_train.head(20)"
   ]
  }
 ],
 "metadata": {
  "kernelspec": {
   "display_name": "Python 3",
   "language": "python",
   "name": "python3"
  },
  "language_info": {
   "codemirror_mode": {
    "name": "ipython",
    "version": 3
   },
   "file_extension": ".py",
   "mimetype": "text/x-python",
   "name": "python",
   "nbconvert_exporter": "python",
   "pygments_lexer": "ipython3",
   "version": "3.9.13"
  },
  "orig_nbformat": 4
 },
 "nbformat": 4,
 "nbformat_minor": 2
}
