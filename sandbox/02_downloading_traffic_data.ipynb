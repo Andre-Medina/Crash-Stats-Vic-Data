{
 "cells": [
  {
   "cell_type": "code",
   "execution_count": 2,
   "metadata": {},
   "outputs": [],
   "source": [
    "import requests\n",
    "\n",
    "import pandas as pd\n",
    "import numpy as np\n",
    "import plotly.express as px\n",
    "import sys\n",
    "\n",
    "ROOT_DIR = '../'\n",
    "sys.path.insert(1, '../production_code/')\n",
    "from constants import *"
   ]
  },
  {
   "cell_type": "code",
   "execution_count": 8,
   "metadata": {},
   "outputs": [],
   "source": [
    "for year in [2020,2021,2022]:\n",
    "\n",
    "    data_url = f\"https://vicroadsopendatastorehouse.vicroads.vic.gov.au/opendata/Traffic_Measurement/SCATS/VSDATA/VSDATA_{year}.zip\"\n",
    "    location = ROOT_DIR + DATA_RAW_DIR + f'traffic/{year}_trafic.zip'\n",
    "\n",
    "    response = requests.get(data_url) # Send a GET request to the URL\n",
    "    with open(location, \"wb\") as f: # Open a local file with write-binary mode\n",
    "        f.write(response.content)\n"
   ]
  },
  {
   "cell_type": "code",
   "execution_count": 11,
   "metadata": {},
   "outputs": [],
   "source": [
    "for month in range(1,13):\n",
    "\n",
    "    data_url = f\"https://vicroadsopendatastorehouse.vicroads.vic.gov.au/opendata/Traffic_Measurement/SCATS/VSDATA/VSDATA_2023{month:02d}.zip\"\n",
    "    location = ROOT_DIR + DATA_RAW_DIR + f'traffic/2023_trafic_{month:02d}.zip'\n",
    "\n",
    "    response = requests.get(data_url) # Send a GET request to the URL\n",
    "    with open(location, \"wb\") as f: # Open a local file with write-binary mode\n",
    "        f.write(response.content)\n"
   ]
  },
  {
   "cell_type": "code",
   "execution_count": null,
   "metadata": {},
   "outputs": [],
   "source": []
  }
 ],
 "metadata": {
  "kernelspec": {
   "display_name": "Python 3",
   "language": "python",
   "name": "python3"
  },
  "language_info": {
   "codemirror_mode": {
    "name": "ipython",
    "version": 3
   },
   "file_extension": ".py",
   "mimetype": "text/x-python",
   "name": "python",
   "nbconvert_exporter": "python",
   "pygments_lexer": "ipython3",
   "version": "3.9.13"
  },
  "orig_nbformat": 4
 },
 "nbformat": 4,
 "nbformat_minor": 2
}
