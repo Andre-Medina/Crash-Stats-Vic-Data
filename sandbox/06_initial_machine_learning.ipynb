{
 "cells": [
  {
   "cell_type": "code",
   "execution_count": null,
   "metadata": {},
   "outputs": [],
   "source": [
    "import pandas as pd\n",
    "import numpy as np\n",
    "import plotly.express as px\n",
    "import sys\n",
    "import datetime\n",
    "import math\n",
    "\n",
    "ROOT_DIR = '../'\n",
    "sys.path.insert(1, '../production_code/')\n",
    "from constants import *"
   ]
  },
  {
   "cell_type": "code",
   "execution_count": null,
   "metadata": {},
   "outputs": [],
   "source": [
    "area_type = 'region'\n",
    "\n",
    "df_train = pd.read_csv(ROOT_DIR + ('_' + area_type +'.').join(TESTING_DATA_DIR.split('.')))\n",
    "df_test = pd.read_csv(ROOT_DIR + ('_' + area_type +'.').join(TESTING_DATA_DIR.split('.')))"
   ]
  },
  {
   "cell_type": "code",
   "execution_count": null,
   "metadata": {},
   "outputs": [],
   "source": [
    "df_train"
   ]
  },
  {
   "cell_type": "code",
   "execution_count": null,
   "metadata": {},
   "outputs": [],
   "source": []
  },
  {
   "attachments": {},
   "cell_type": "markdown",
   "metadata": {},
   "source": [
    "# basic machine learning model"
   ]
  },
  {
   "cell_type": "code",
   "execution_count": null,
   "metadata": {},
   "outputs": [],
   "source": [
    "\n",
    "\n",
    "# # Encode categorical features\n",
    "# le = LabelEncoder()\n",
    "# df_train[\"day\"] = le.fit_transform(df_train[\"day\"])\n",
    "# df_test[\"day\"] = le.transform(df_test[\"day\"])\n",
    "# le = LabelEncoder()\n",
    "# df_train[\"hour_bin\"] = le.fit_transform(df_train[\"hour_bin\"])\n",
    "# df_test[\"hour_bin\"] = le.transform(df_test[\"hour_bin\"])\n",
    "# le = LabelEncoder()\n",
    "# df_train[\"region\"] = le.fit_transform(df_train[\"region\"])\n",
    "# df_test[\"region\"] = le.transform(df_test[\"region\"])\n",
    "# le = LabelEncoder()\n",
    "# df_train[\"sky\"] = le.fit_transform(df_train[\"sky\"])\n",
    "# df_test[\"sky\"] = le.transform(df_test[\"sky\"])\n",
    "\n",
    "\n",
    "# One hot encoding\n",
    "df_train = pd.get_dummies(df_train)\n",
    "df_test = pd.get_dummies(df_test)\n",
    "\n",
    "\n",
    "# df_train[[\"Ambulance\", \"Police\"]] = df_train[[\"Ambulance\", \"Police\"]].applymap(lambda x: math.log(x) if x > 0 else pd.NA)\n",
    "# df_test[[\"Ambulance\", \"Police\"]] = df_test[[\"Ambulance\", \"Police\"]].applymap(lambda x: math.log(x) if x > 0 else pd.NA)\n",
    "\n",
    "df_train = df_train.dropna()\n",
    "df_test = df_test.dropna()\n",
    "\n",
    "\n",
    "scale_y = max(df_train[[\"Ambulance\", \"Police\"]].max().max(), 10)\n",
    "print('scaling y by: ' + str(scale_y))\n",
    "\n",
    "# Split data into features and labels\n",
    "x_train = df_train.drop([\"Ambulance\", \"Police\"], axis=1)\n",
    "y_train = df_train[[\"Ambulance\", \"Police\"]] / scale_y\n",
    "x_test = df_test.drop([\"Ambulance\", \"Police\"], axis=1)\n",
    "y_test = df_test[[\"Ambulance\", \"Police\"]] / scale_y\n"
   ]
  },
  {
   "cell_type": "code",
   "execution_count": null,
   "metadata": {},
   "outputs": [],
   "source": [
    "# Import TensorFlow and Keras\n",
    "import tensorflow as tf\n",
    "from tensorflow import keras\n",
    "import numpy as np\n",
    "\n",
    "\n",
    "# Print the shape and type of the data\n",
    "print(x_train.shape) # (60000, 28, 28)\n",
    "print(y_train.shape) # (60000,)\n",
    "print(x_test.shape) # (10000, 28, 28)\n",
    "print(y_test.shape) # (10000,)\n"
   ]
  },
  {
   "cell_type": "code",
   "execution_count": null,
   "metadata": {},
   "outputs": [],
   "source": [
    "x_train = x_train.applymap(pd.to_numeric)\n",
    "y_train = y_train.applymap(pd.to_numeric)\n",
    "x_test = x_test.applymap(pd.to_numeric)\n",
    "y_test = y_test.applymap(pd.to_numeric)"
   ]
  },
  {
   "cell_type": "code",
   "execution_count": null,
   "metadata": {},
   "outputs": [],
   "source": [
    "# y_train = y_train.applymap(lambda x: math.log(x*100))\n",
    "# y_test = y_test.applymap(lambda x: math.log(x*100))\n",
    "y_train"
   ]
  },
  {
   "attachments": {},
   "cell_type": "markdown",
   "metadata": {},
   "source": [
    "# Very crude experimentation in deep learning"
   ]
  },
  {
   "cell_type": "code",
   "execution_count": null,
   "metadata": {},
   "outputs": [],
   "source": [
    "\n",
    "# Create a model\n",
    "model = keras.Sequential([\n",
    "  keras.layers.Dense(20, activation='relu'),\n",
    "  keras.layers.Dropout(0.05),\n",
    "  keras.layers.Dense(30, activation='relu'),\n",
    "  keras.layers.Dropout(0.1),\n",
    "  keras.layers.Dense(100, activation='relu'),\n",
    "  keras.layers.Dense(30, activation='tanh'),\n",
    "  keras.layers.Dense(10, activation='tanh'),\n",
    "  keras.layers.Dense(2, activation='linear')\n",
    "])\n",
    "\n",
    "\n",
    "model.compile(optimizer='Adam', loss='mean_squared_error', metrics=['mean_squared_error', 'accuracy'])\n",
    "\n",
    "model.fit(x_train, y_train, batch_size = 2, epochs=10)\n",
    "\n"
   ]
  },
  {
   "attachments": {},
   "cell_type": "markdown",
   "metadata": {},
   "source": [
    "# Plotting results on testing data"
   ]
  },
  {
   "cell_type": "code",
   "execution_count": null,
   "metadata": {},
   "outputs": [],
   "source": [
    "import math \n",
    "from sklearn.metrics import mean_squared_error\n",
    "\n",
    "# Evaluate the model\n",
    "model.evaluate(x_test, y_test)\n",
    "\n",
    "y_pred = pd.DataFrame(model.predict(x_test), columns = ['Predicted Police','Predicted Ambulance'])\n",
    "y_comb = pd.concat(\n",
    "            [y_pred, y_test], \n",
    "            axis = 1\n",
    "        ) * scale_y     # unscaling y\n",
    "\n",
    "# renaming columns\n",
    "y_comb = y_comb.rename(\n",
    "    columns = {\n",
    "        'Ambulance': 'True Ambulance', \n",
    "        'Police': 'True Police'\n",
    "    })\n",
    "\n",
    "rmse = mean_squared_error(y_comb['True Ambulance'], y_comb['Predicted Ambulance'], squared=False) \n",
    "print('Ambulance RMSE: ' + str(rmse))\n",
    "rmse = mean_squared_error(y_comb['True Police'], y_comb['Predicted Police'], squared=False) \n",
    "print('Police RMSE: ' + str(rmse))\n",
    "\n",
    "# widening data for plotting\n",
    "y_comb_wide = pd\\\n",
    "    .wide_to_long(\n",
    "        y_comb.reset_index(), \n",
    "        stubnames=['Predicted', 'True'], \n",
    "        i='index', \n",
    "        j='Emergency Type', \n",
    "        sep=' ', \n",
    "        suffix='\\w+')\\\n",
    "    .reset_index()\\\n",
    "    .drop('index', axis = 1)\\\n",
    "    .dropna()\n",
    "\n",
    "# plotting data\n",
    "fig = px.scatter(\n",
    "    y_comb_wide,\n",
    "    x = 'True',\n",
    "    y = 'Predicted',\n",
    "    color = 'Emergency Type', symbol = 'Emergency Type'\n",
    "    )\n",
    "\n",
    "xmax = max(y_comb_wide['True'])\n",
    "line = { 'type': 'line', 'x0': 0, 'y0': 0, 'x1': xmax, 'y1': xmax, 'line': { 'color': 'black', 'width': 1 } }\n",
    "fig.update_layout(shapes=[line])\n",
    "fig.show()"
   ]
  }
 ],
 "metadata": {
  "kernelspec": {
   "display_name": "Python 3",
   "language": "python",
   "name": "python3"
  },
  "language_info": {
   "codemirror_mode": {
    "name": "ipython",
    "version": 3
   },
   "file_extension": ".py",
   "mimetype": "text/x-python",
   "name": "python",
   "nbconvert_exporter": "python",
   "pygments_lexer": "ipython3",
   "version": "3.8.10"
  },
  "orig_nbformat": 4
 },
 "nbformat": 4,
 "nbformat_minor": 2
}
