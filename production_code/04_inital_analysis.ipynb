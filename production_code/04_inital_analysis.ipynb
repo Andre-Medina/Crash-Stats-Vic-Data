{
 "cells": [
  {
   "attachments": {},
   "cell_type": "markdown",
   "metadata": {},
   "source": [
    "# inital analysis\n",
    "\n",
    "After doing some basic cleaning, we should look at what we have. \n",
    "\n",
    "This file creates some basic graphs with the roughly cleaned data"
   ]
  },
  {
   "cell_type": "code",
   "execution_count": null,
   "metadata": {},
   "outputs": [],
   "source": [
    "import pandas as pd\n",
    "import numpy as np\n",
    "import plotly.express as px\n",
    "import sys\n",
    "import datetime\n",
    "import math\n",
    "\n",
    "ROOT_DIR = '../'\n",
    "sys.path.insert(1, '../production_code/')\n",
    "from constants import *"
   ]
  },
  {
   "cell_type": "code",
   "execution_count": null,
   "metadata": {},
   "outputs": [],
   "source": [
    "# reading and printing data\n",
    "df = pd.read_csv(ROOT_DIR + ROUGHLY_CLEANED_DATA_DIR)\n",
    "print(df.shape)\n",
    "df.head(3)"
   ]
  },
  {
   "attachments": {},
   "cell_type": "markdown",
   "metadata": {},
   "source": [
    "# adding some needed columns"
   ]
  },
  {
   "cell_type": "code",
   "execution_count": null,
   "metadata": {},
   "outputs": [],
   "source": [
    "df.loc[:,'date'] = pd.to_datetime(df.loc[:,'date'])\n",
    "\n",
    "# adding pure date stamp\n",
    "df.loc[:,'date_stamp'] =  pd.to_datetime(df.loc[:,'date'].dt.date)\n",
    "\n",
    "# turns day of week into a string\n",
    "day_dict = {0: \"Monday\", 1: \"Tuesday\", 2: \"Wednesday\", 3: \"Thursday\", 4: \"Friday\", 5: \"Saturday\", 6: \"Sunday\"}\n",
    "df.loc[:,'day'] = df.loc[:,'day'].map(day_dict)\n",
    "\n",
    "# same for hour bin\n",
    "hour_bin_dict = {0: 'Night', 1: 'Morning', 2:'Afternoon',3:'Evening'}\n",
    "df.loc[:,'hour_bin'] = df.loc[:,'hour_bin'].map(hour_bin_dict)\n",
    "\n",
    "df[['day','hour_bin']].head(3)"
   ]
  },
  {
   "attachments": {},
   "cell_type": "markdown",
   "metadata": {},
   "source": [
    "# Accidents over time"
   ]
  },
  {
   "cell_type": "code",
   "execution_count": null,
   "metadata": {},
   "outputs": [],
   "source": [
    "\n",
    "# creating emergency callouts over time graph\n",
    "fig = px.line(\n",
    "    pd\\\n",
    "        .concat(\n",
    "            [    # gropuing police, ambulance count with total row count\n",
    "                df.groupby('date_stamp')['police_needed','ambulance_needed'].sum(), \n",
    "                df.groupby('date_stamp')['ACCIDENT_NO'].count()\n",
    "            ]\n",
    "            ,axis = 1)\\\n",
    "        .resample('2W')\\\n",
    "        .sum()\\\n",
    "        .reset_index()\\\n",
    "        .rename(\n",
    "            columns = {\n",
    "                'police_needed':'Police',\n",
    "                'ambulance_needed':'Ambulance',\n",
    "                \"ACCIDENT_NO\":'Total'\n",
    "            }\n",
    "        ), \n",
    "    x=\"date_stamp\", \n",
    "    y=[\"Total\",\"Police\", \"Ambulance\"], \n",
    "    color_discrete_map={\n",
    "        \"Police\": POWERPOINT_BLUE,\n",
    "        \"Ambulance\": POWERPOINT_RED,\n",
    "        \"Total\": \"lime\"\n",
    "    },\n",
    "    labels={\n",
    "            \"value\": \"Count of Accidents in Need\",\n",
    "            \"date_stamp\": \"Time\",\n",
    "            \"variable\": \"Type of service\"\n",
    "        }, \n",
    "    title = \"Emergency Service Demand vs time, week by week\",\n",
    "    )\n",
    "fig.show()\n",
    "\n",
    "# saving to file\n",
    "fig.update_layout(font=dict(size=40))\n",
    "fig.write_image(ROOT_DIR + DATA_INITIAL_ANALYSIS_DIR + 'DemandOverTime.png', width=3500, height=1500)"
   ]
  },
  {
   "attachments": {},
   "cell_type": "markdown",
   "metadata": {},
   "source": [
    "# checking correlations"
   ]
  },
  {
   "cell_type": "code",
   "execution_count": null,
   "metadata": {},
   "outputs": [],
   "source": [
    "# calculate the correlation matrix of atmospheric and road conditions\n",
    "corr = abs(df[[\"dry\", \"clear\", \"fog\", \"raining\", \"strong winds\"]].corr(method = 'pearson'))\n",
    "\n",
    "# create a heatmap\n",
    "fig = px.imshow(\n",
    "    corr, \n",
    "    x=corr.columns, \n",
    "    y=corr.columns, \n",
    "    title='Correlation matrix of weather variables',\n",
    "    labels=dict(color='Absolute correlation coefficient'),\n",
    "    color_continuous_scale= POWERPOINT_COLOUR_SCALE\n",
    "    )    \n",
    "# add annotations\n",
    "fig.update_traces(hoverinfo='text', text=corr.values, texttemplate='%{text:.2f}')\n",
    "# show the figure\n",
    "fig.show()\n",
    "\n",
    "# saves the file\n",
    "fig.update_layout(font=dict(size=40))\n",
    "fig.write_image(ROOT_DIR + DATA_INITIAL_ANALYSIS_DIR + 'WeatherCorrelation.png', width=2000, height=1500)"
   ]
  },
  {
   "attachments": {},
   "cell_type": "markdown",
   "metadata": {},
   "source": [
    "# histogram of road and sky conditions"
   ]
  },
  {
   "cell_type": "code",
   "execution_count": null,
   "metadata": {},
   "outputs": [],
   "source": [
    "# create a histogram of all the columns\n",
    "fig = px.histogram(\n",
    "    df\\\n",
    "    .melt(\n",
    "        id_vars = 'ACCIDENT_NO', \n",
    "        value_vars= ['dry', 'clear', 'fog', 'raining', 'strong winds']\n",
    "        )\\\n",
    "    .query('value == 1')['variable'],\n",
    "    \n",
    "    labels={\n",
    "            \"variable\": \"Count of accidents\",\n",
    "            \"value\": \"Condition\"\n",
    "        }, \n",
    "    color_discrete_sequence=[POWERPOINT_RED],\n",
    "    histnorm= 'percent',\n",
    ")\n",
    "fig.update_layout(yaxis_title = 'Percent of Accidents')\n",
    "fig.update_yaxes(ticksuffix = '%')\n",
    "fig.update_layout(showlegend=False)\n",
    "fig.show()\n",
    "fig.update_layout(font=dict(size=40))\n",
    "fig.write_image(ROOT_DIR + DATA_INITIAL_ANALYSIS_DIR + 'CrashByAtmos.png', width=2000, height=1500)"
   ]
  },
  {
   "attachments": {},
   "cell_type": "markdown",
   "metadata": {},
   "source": [
    "# historgram of accidents per part of day"
   ]
  },
  {
   "cell_type": "code",
   "execution_count": null,
   "metadata": {},
   "outputs": [],
   "source": [
    "# histogram of accidents per part of day\n",
    "fig = px.histogram(\n",
    "    df\\\n",
    "    .loc[:,'hour_bin'],\n",
    "    labels={\n",
    "            \"variable\": \"Count of accidents\",\n",
    "            \"value\": \"Part of Day\"\n",
    "        }, \n",
    "    title = \"Crash Distribution by Part of Day\",\n",
    "    category_orders={\n",
    "            \"value\": list(hour_bin_dict.values())\n",
    "        },\n",
    "    color_discrete_sequence=[POWERPOINT_RED],\n",
    "    histnorm= 'percent',\n",
    ")\n",
    "fig.update_layout(yaxis_title = 'Percent of Accidents')\n",
    "fig.update_yaxes(ticksuffix = '%')\n",
    "fig.update_layout(showlegend=False)\n",
    "\n",
    "# plotting\n",
    "fig.show()\n",
    "\n",
    "# saving file\n",
    "fig.update_layout(font=dict(size=40))\n",
    "fig.write_image(ROOT_DIR + DATA_INITIAL_ANALYSIS_DIR + 'CrashByTime.png', width=2000, height=1500)"
   ]
  },
  {
   "attachments": {},
   "cell_type": "markdown",
   "metadata": {},
   "source": [
    "# histogram of accidents per day"
   ]
  },
  {
   "cell_type": "code",
   "execution_count": null,
   "metadata": {},
   "outputs": [],
   "source": [
    "# creates histogram of accidents per day\n",
    "fig = px.histogram(\n",
    "    df\\\n",
    "        .loc[:,'day'],\n",
    "    labels={\n",
    "            \"day\": \"Percent of accidents\",\n",
    "            \"value\": \"Day of week\"\n",
    "        }, \n",
    "    title = \"Crashes by Day\",\n",
    "    category_orders={\n",
    "            \"value\": list(day_dict.values())\n",
    "        },\n",
    "    color_discrete_sequence=[POWERPOINT_BLUE],\n",
    "    histnorm= 'percent'\n",
    ")\n",
    "fig.update_layout(yaxis_title = 'Percent of Accidents')\n",
    "fig.update_yaxes(ticksuffix = '%')\n",
    "fig.update_layout(showlegend=False)\n",
    "fig.show()\n",
    "\n",
    "# saving plot\n",
    "fig.update_layout(font=dict(size=40))\n",
    "fig.write_image(ROOT_DIR + DATA_INITIAL_ANALYSIS_DIR + 'CrashByDay.png', width=3000, height=1500)"
   ]
  },
  {
   "attachments": {},
   "cell_type": "markdown",
   "metadata": {},
   "source": [
    "# distribution of accidents by day of week and part of day"
   ]
  },
  {
   "cell_type": "code",
   "execution_count": null,
   "metadata": {},
   "outputs": [],
   "source": [
    "# finding distibution of accident count\n",
    "corr =   df\\\n",
    "    .loc[:,['day','hour_bin','police_needed']]\\\n",
    "    .pivot_table(index = 'day', columns= ['hour_bin'], values = 'police_needed', aggfunc = 'count')\n",
    "\n",
    "# averaging accross each part of day\n",
    "# corr = (corr / corr.max()).T * 100   \n",
    "\n",
    "corr = (corr / corr.max()).T * 100   \n",
    "\n"
   ]
  },
  {
   "cell_type": "code",
   "execution_count": null,
   "metadata": {},
   "outputs": [],
   "source": [
    "# finding distibution of accident count\n",
    "corr =   df\\\n",
    "    .loc[:,['day','hour_bin','police_needed']]\\\n",
    "    .pivot_table(index = 'day', columns= ['hour_bin'], values = 'police_needed', aggfunc = 'count')\n",
    "\n",
    "# averaging accross each part of day\n",
    "corr = (corr / corr.max()).T * 100   \n",
    "\n",
    "# reordering\n",
    "corr = corr.loc[list(hour_bin_dict.values()),list(day_dict.values())]\n",
    "\n",
    "# create a heatmap\n",
    "fig = px.imshow(\n",
    "    corr, \n",
    "    x=list(day_dict.values()), \n",
    "    y=list(hour_bin_dict.values()), \n",
    "    labels={\n",
    "            \"x\": \"Day of the Week\",\n",
    "            \"y\": \"Time of Day\",\n",
    "            \"color\": \"Relative Crashes per Time of Day\"\n",
    "        }, \n",
    "    title=\"Crash Distribution by Time\",\n",
    "    color_continuous_scale= POWERPOINT_COLOUR_SCALE\n",
    "    )\n",
    "    \n",
    "# add annotations\n",
    "fig.update_traces(hoverinfo='text', text=corr.values, texttemplate='%{text:.0f}%')\n",
    "fig.update_layout(coloraxis_colorbar = {'ticksuffix': '%'})\n",
    "# show the figure\n",
    "fig.show()\n",
    "\n",
    "# saving figure\n",
    "fig.update_layout(font=dict(size=40))\n",
    "fig.write_image(ROOT_DIR + DATA_INITIAL_ANALYSIS_DIR + 'CrashCorrTime.png', width=2500, height=1500)"
   ]
  },
  {
   "attachments": {},
   "cell_type": "markdown",
   "metadata": {},
   "source": [
    "# distribution by just the sky conditions"
   ]
  },
  {
   "cell_type": "code",
   "execution_count": null,
   "metadata": {},
   "outputs": [],
   "source": [
    "# adding sky condition\n",
    "df.loc[:,'sky'] = df.loc[:,'clear'].apply(lambda clear: 'Clear' if clear else 'Not clear')\n",
    "\n",
    "# plotting newly created sky conditions\n",
    "fig = px.histogram(\n",
    "    df\\\n",
    "        .loc[:,'sky'],\n",
    "    labels={\n",
    "            \"day\": \"Percent of accidents\",\n",
    "            \"value\": \"Sky conditions\"\n",
    "        }, \n",
    "    title = \"Crashes by Sky Conditions\",\n",
    "    category_orders={\n",
    "            \"value\": ['Clear','Not clear']\n",
    "        },\n",
    "    color_discrete_sequence=[POWERPOINT_BLUE],\n",
    "    histnorm= 'percent'\n",
    ")\n",
    "fig.update_layout(yaxis_title = 'Percent of Accidents')\n",
    "fig.update_yaxes(ticksuffix = '%')\n",
    "fig.update_layout(showlegend=False)\n",
    "fig.show()\n",
    "\n",
    "# saving\n",
    "fig.update_layout(font=dict(size=40))\n",
    "fig.write_image(ROOT_DIR + DATA_INITIAL_ANALYSIS_DIR + 'CrashBySkyCond.png', width=2000, height=1500)"
   ]
  },
  {
   "attachments": {},
   "cell_type": "markdown",
   "metadata": {},
   "source": [
    "# outputting data"
   ]
  },
  {
   "cell_type": "code",
   "execution_count": null,
   "metadata": {},
   "outputs": [],
   "source": [
    "# saving data to output\n",
    "df[['ACCIDENT_NO','date','day','hour_bin','region','lga','sky','police_needed', 'ambulance_needed']].to_csv(ROOT_DIR + FULLY_CLEANED_DATA_DIR)"
   ]
  }
 ],
 "metadata": {
  "kernelspec": {
   "display_name": "Python 3",
   "language": "python",
   "name": "python3"
  },
  "language_info": {
   "codemirror_mode": {
    "name": "ipython",
    "version": 3
   },
   "file_extension": ".py",
   "mimetype": "text/x-python",
   "name": "python",
   "nbconvert_exporter": "python",
   "pygments_lexer": "ipython3",
   "version": "3.9.13"
  },
  "orig_nbformat": 4
 },
 "nbformat": 4,
 "nbformat_minor": 2
}
